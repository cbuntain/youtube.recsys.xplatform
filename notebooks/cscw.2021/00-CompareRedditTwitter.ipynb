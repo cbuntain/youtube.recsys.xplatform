{
 "cells": [
  {
   "cell_type": "markdown",
   "metadata": {},
   "source": [
    "# Compare YouTube Sharing Across Platforms\n",
    "\n",
    "In early 2019, YouTube actively began to reduce recommendations to \"borderline\" content (generally identified as conspiracy theories) in its content recommendation algorithms. An open question exists, however, on whether this change to within-YouTube recommendation really has a main effect on the distribution of this content in the broader information ecosystem.\n",
    "\n",
    "To examine this sharing behavior, we look at other platforms where YouTube content is often shared (i.e., Twitter and Reddit) to evaluate whether we see a major impact on YouTube sharing during this timeframe.\n",
    "\n",
    "This script compares time series from both Twitter and Reddit to see if we see any significant difference in YouTube link sharing across the platforms.\n",
    "\n",
    "## Relevant Articles\n",
    "\n",
    "- https://youtube.googleblog.com/2019/01/continuing-our-work-to-improve.html\n",
    "- https://digitalsocialcontract.net/youtube-stops-recommending-alt-right-videos-6523ed6af60f\n",
    "\n"
   ]
  },
  {
   "cell_type": "code",
   "execution_count": 1,
   "metadata": {},
   "outputs": [],
   "source": [
    "%matplotlib inline"
   ]
  },
  {
   "cell_type": "code",
   "execution_count": 2,
   "metadata": {},
   "outputs": [],
   "source": [
    "import json\n",
    "import time\n",
    "import gzip\n",
    "import string\n",
    "import datetime\n",
    "import requests\n",
    "import tldextract\n",
    "import matplotlib\n",
    "import urlexpander\n",
    "import collections\n",
    "\n",
    "import scipy.stats\n",
    "import sklearn.preprocessing\n",
    "\n",
    "import numpy as np\n",
    "import pandas as pd\n",
    "import statsmodels.api as sm\n",
    "\n",
    "import matplotlib.pyplot as plt\n",
    "\n",
    "from statsmodels.tsa.tsatools import lagmat"
   ]
  },
  {
   "cell_type": "code",
   "execution_count": null,
   "metadata": {},
   "outputs": [],
   "source": []
  },
  {
   "cell_type": "code",
   "execution_count": 4,
   "metadata": {},
   "outputs": [],
   "source": [
    "recs_youtube_daily_df_ = pd.read_csv(\n",
    "    \"./2021.timeseries/cons_recs_ts.csv\",\n",
    "    parse_dates=[0],\n",
    "    index_col=0,\n",
    ")"
   ]
  },
  {
   "cell_type": "markdown",
   "metadata": {},
   "source": [
    "## Question 1: How much overlap exists between YouTube videos shared on Twitter and Reddit?"
   ]
  },
  {
   "cell_type": "code",
   "execution_count": 6,
   "metadata": {},
   "outputs": [],
   "source": [
    "twitter_videos_df = pd.read_csv(\"./2021.timeseries/all_video_ids.csv.gz\")\n",
    "reddit_videos_df = pd.read_csv(\"./2021.timeseries/all_video_ids_reddit.csv.gz\")"
   ]
  },
  {
   "cell_type": "code",
   "execution_count": 7,
   "metadata": {},
   "outputs": [
    {
     "name": "stdout",
     "output_type": "stream",
     "text": [
      "Twitter Videos: 2560335\n",
      "Reddit Videos: 3641858\n"
     ]
    }
   ],
   "source": [
    "print(\"Twitter Videos:\", twitter_videos_df.shape[0])\n",
    "print(\"Reddit Videos:\", reddit_videos_df.shape[0])"
   ]
  },
  {
   "cell_type": "code",
   "execution_count": 8,
   "metadata": {},
   "outputs": [
    {
     "name": "stdout",
     "output_type": "stream",
     "text": [
      "Overlap Amount: 214978\n"
     ]
    }
   ],
   "source": [
    "overlap = set(twitter_videos_df[\"video_id\"]).intersection(reddit_videos_df[\"video_id\"])\n",
    "print(\"Overlap Amount:\", len(overlap))"
   ]
  },
  {
   "cell_type": "code",
   "execution_count": 9,
   "metadata": {},
   "outputs": [
    {
     "name": "stdout",
     "output_type": "stream",
     "text": [
      "Union Amount: 5987215\n"
     ]
    }
   ],
   "source": [
    "union = overlap = set(twitter_videos_df[\"video_id\"]).union(reddit_videos_df[\"video_id\"])\n",
    "print(\"Union Amount:\", len(union))"
   ]
  },
  {
   "cell_type": "markdown",
   "metadata": {},
   "source": [
    "## Question 2: How many AIN videos are shared in both platforms?"
   ]
  },
  {
   "cell_type": "code",
   "execution_count": 10,
   "metadata": {},
   "outputs": [],
   "source": [
    "with gzip.open(\"./2021.timeseries/ain_video2chan.json.gz\", \"r\") as in_file:\n",
    "    ain_videos = json.load(in_file)"
   ]
  },
  {
   "cell_type": "code",
   "execution_count": 11,
   "metadata": {},
   "outputs": [],
   "source": [
    "ain_video_ids = {k for k in ain_videos.keys()}"
   ]
  },
  {
   "cell_type": "code",
   "execution_count": 12,
   "metadata": {},
   "outputs": [],
   "source": [
    "overlap_ain_twitter = ain_video_ids.intersection(twitter_videos_df[\"video_id\"])\n",
    "overlap_ain_reddit = ain_video_ids.intersection(reddit_videos_df[\"video_id\"])"
   ]
  },
  {
   "cell_type": "code",
   "execution_count": 13,
   "metadata": {},
   "outputs": [
    {
     "name": "stdout",
     "output_type": "stream",
     "text": [
      "Twitter AIN Overlap: 2296\n",
      "Reddit AIN Overlap: 5675\n"
     ]
    }
   ],
   "source": [
    "print(\"Twitter AIN Overlap:\", len(overlap_ain_twitter))\n",
    "print(\"Reddit AIN Overlap:\", len(overlap_ain_reddit))\n"
   ]
  },
  {
   "cell_type": "code",
   "execution_count": 14,
   "metadata": {},
   "outputs": [],
   "source": [
    "channels_twitter = collections.Counter([ain_videos[vid] for vid in overlap_ain_twitter])\n",
    "channels_reddit = collections.Counter([ain_videos[vid] for vid in overlap_ain_reddit])\n"
   ]
  },
  {
   "cell_type": "code",
   "execution_count": 15,
   "metadata": {},
   "outputs": [],
   "source": [
    "channels_twitter_df = pd.DataFrame(list(channels_twitter.items()), columns=[\"channel\", \"count\"])\n",
    "channels_reddit_df = pd.DataFrame(list(channels_reddit.items()), columns=[\"channel\", \"count\"])\n",
    "\n",
    "merged_df = channels_reddit_df.merge(\n",
    "    channels_twitter_df, on=\"channel\", suffixes=[\"_r\", \"_t\"], how=\"outer\").fillna(0)\n"
   ]
  },
  {
   "cell_type": "code",
   "execution_count": 16,
   "metadata": {},
   "outputs": [
    {
     "data": {
      "text/html": [
       "<div>\n",
       "<style scoped>\n",
       "    .dataframe tbody tr th:only-of-type {\n",
       "        vertical-align: middle;\n",
       "    }\n",
       "\n",
       "    .dataframe tbody tr th {\n",
       "        vertical-align: top;\n",
       "    }\n",
       "\n",
       "    .dataframe thead th {\n",
       "        text-align: right;\n",
       "    }\n",
       "</style>\n",
       "<table border=\"1\" class=\"dataframe\">\n",
       "  <thead>\n",
       "    <tr style=\"text-align: right;\">\n",
       "      <th></th>\n",
       "      <th>channel</th>\n",
       "      <th>count_r</th>\n",
       "      <th>count_t</th>\n",
       "    </tr>\n",
       "  </thead>\n",
       "  <tbody>\n",
       "    <tr>\n",
       "      <th>7</th>\n",
       "      <td>UC0rZoXAD5lxgBHMsjrGwWWQ</td>\n",
       "      <td>949</td>\n",
       "      <td>350.0</td>\n",
       "    </tr>\n",
       "    <tr>\n",
       "      <th>6</th>\n",
       "      <td>UCaeO5vkdj5xOQHp4UmIN6dw</td>\n",
       "      <td>359</td>\n",
       "      <td>277.0</td>\n",
       "    </tr>\n",
       "    <tr>\n",
       "      <th>18</th>\n",
       "      <td>UCzQUP1qoWDoEbmsQxvdjxgQ</td>\n",
       "      <td>365</td>\n",
       "      <td>166.0</td>\n",
       "    </tr>\n",
       "    <tr>\n",
       "      <th>4</th>\n",
       "      <td>UCIveFvW-ARp_B_RckhweNJw</td>\n",
       "      <td>191</td>\n",
       "      <td>149.0</td>\n",
       "    </tr>\n",
       "    <tr>\n",
       "      <th>15</th>\n",
       "      <td>UCG749Dj4V2fKa143f8sE60Q</td>\n",
       "      <td>252</td>\n",
       "      <td>127.0</td>\n",
       "    </tr>\n",
       "  </tbody>\n",
       "</table>\n",
       "</div>"
      ],
      "text/plain": [
       "                     channel  count_r  count_t\n",
       "7   UC0rZoXAD5lxgBHMsjrGwWWQ      949    350.0\n",
       "6   UCaeO5vkdj5xOQHp4UmIN6dw      359    277.0\n",
       "18  UCzQUP1qoWDoEbmsQxvdjxgQ      365    166.0\n",
       "4   UCIveFvW-ARp_B_RckhweNJw      191    149.0\n",
       "15  UCG749Dj4V2fKa143f8sE60Q      252    127.0"
      ]
     },
     "execution_count": 16,
     "metadata": {},
     "output_type": "execute_result"
    }
   ],
   "source": [
    "merged_df.sort_values(\"count_t\", ascending=False).head()"
   ]
  },
  {
   "cell_type": "code",
   "execution_count": 17,
   "metadata": {},
   "outputs": [
    {
     "data": {
      "text/html": [
       "<div>\n",
       "<style scoped>\n",
       "    .dataframe tbody tr th:only-of-type {\n",
       "        vertical-align: middle;\n",
       "    }\n",
       "\n",
       "    .dataframe tbody tr th {\n",
       "        vertical-align: top;\n",
       "    }\n",
       "\n",
       "    .dataframe thead th {\n",
       "        text-align: right;\n",
       "    }\n",
       "</style>\n",
       "<table border=\"1\" class=\"dataframe\">\n",
       "  <thead>\n",
       "    <tr style=\"text-align: right;\">\n",
       "      <th></th>\n",
       "      <th>count_r</th>\n",
       "      <th>count_t</th>\n",
       "    </tr>\n",
       "  </thead>\n",
       "  <tbody>\n",
       "    <tr>\n",
       "      <th>count_r</th>\n",
       "      <td>1.000000</td>\n",
       "      <td>0.846754</td>\n",
       "    </tr>\n",
       "    <tr>\n",
       "      <th>count_t</th>\n",
       "      <td>0.846754</td>\n",
       "      <td>1.000000</td>\n",
       "    </tr>\n",
       "  </tbody>\n",
       "</table>\n",
       "</div>"
      ],
      "text/plain": [
       "          count_r   count_t\n",
       "count_r  1.000000  0.846754\n",
       "count_t  0.846754  1.000000"
      ]
     },
     "execution_count": 17,
     "metadata": {},
     "output_type": "execute_result"
    }
   ],
   "source": [
    "merged_df.corr()"
   ]
  },
  {
   "cell_type": "code",
   "execution_count": null,
   "metadata": {},
   "outputs": [],
   "source": []
  },
  {
   "cell_type": "code",
   "execution_count": 18,
   "metadata": {},
   "outputs": [
    {
     "data": {
      "text/plain": [
       "(7224, 1)"
      ]
     },
     "execution_count": 18,
     "metadata": {},
     "output_type": "execute_result"
    }
   ],
   "source": [
    "cons_dist_df = pd.read_csv(\"./2021.timeseries/all_video_ids_reddit_conspiracy.csv\")\n",
    "cons_dist_df.shape"
   ]
  },
  {
   "cell_type": "code",
   "execution_count": 19,
   "metadata": {},
   "outputs": [
    {
     "data": {
      "text/plain": [
       "137"
      ]
     },
     "execution_count": 19,
     "metadata": {},
     "output_type": "execute_result"
    }
   ],
   "source": [
    "len(ain_video_ids.intersection(cons_dist_df[\"video_id\"]))"
   ]
  },
  {
   "cell_type": "code",
   "execution_count": 20,
   "metadata": {},
   "outputs": [
    {
     "data": {
      "text/plain": [
       "2999    6QdUWtsjlXQ\n",
       "7035    H8gwX89AdCE\n",
       "3876    5cWm3pJXKis\n",
       "6041    uvxoAXS-d6g\n",
       "7128    h8DMudwjFu4\n",
       "6451     pGeCodnypo\n",
       "1325    VIjGq9p_6iY\n",
       "545     meH-JXDTiMM\n",
       "2918    ajSHSaqwgGs\n",
       "2381    scpQxFf1uBM\n",
       "5115    9DLuALBnolM\n",
       "4047    4m2V2cN4Has\n",
       "6277    VmvX7Ezekps\n",
       "7090    7nXBOVlk_2g\n",
       "144     EuwmWnphqII\n",
       "6311    m2QY83Ock7s\n",
       "3319    hVnR0seQDQ4\n",
       "3844    oM34dBcLVGA\n",
       "3278    omnskeu-puE\n",
       "2379    _CvyipXlM3M\n",
       "1891    41SxwmRUqEg\n",
       "63      _UgpGi77P0s\n",
       "5260    2Pik0pvgxzk\n",
       "3060    5sSJ2wqVJz0\n",
       "4094    oYhCQv5tNsQ\n",
       "5246    -ZwkyZN9TXc\n",
       "2945    ZsCQ0t-3t1I\n",
       "4815    HvZpQ7a5Wfo\n",
       "5440    b2VkC4SnwY0\n",
       "315     -HzOqZeX3Yk\n",
       "Name: video_id, dtype: object"
      ]
     },
     "execution_count": 20,
     "metadata": {},
     "output_type": "execute_result"
    }
   ],
   "source": [
    "cons_dist_df.sample(n=30)[\"video_id\"]"
   ]
  },
  {
   "cell_type": "markdown",
   "metadata": {},
   "source": [
    "## Question 3: Is there a correlation between sharing on Twitter and sharing on Reddit over time?"
   ]
  },
  {
   "cell_type": "code",
   "execution_count": 21,
   "metadata": {},
   "outputs": [],
   "source": [
    "# sharing_twitter_df = pd.read_csv(\"frequency_all_videos/youtube_sharing_twitter.csv\", \n",
    "#                                  index_col=\"date\",\n",
    "#                                  parse_dates=[\"date\"]\n",
    "#                                 ).drop(columns=\"date.1\")\n",
    "# sharing_reddit_df = pd.read_csv(\"frequency_all_videos/youtube_sharing_reddit.csv\",\n",
    "#                                  index_col=\"date\",\n",
    "#                                  parse_dates=[\"date\"]\n",
    "#                                ).drop(columns=\"date.1\")\n",
    "\n",
    "\n"
   ]
  },
  {
   "cell_type": "code",
   "execution_count": 23,
   "metadata": {},
   "outputs": [],
   "source": [
    "sharing_twitter_df = pd.read_csv(\"./2021.timeseries/youtube_sharing_twitter.csv\", \n",
    "                                 index_col=\"date\",\n",
    "                                 parse_dates=[\"date\"]\n",
    "                                ).drop(columns=\"date.1\")\n",
    "sharing_reddit_df = pd.read_csv(\"./2021.timeseries/youtube_sharing_reddit.csv\",\n",
    "                                 index_col=\"date\",\n",
    "                                 parse_dates=[\"date\"]\n",
    "                               ).drop(columns=\"date.1\")\n",
    "\n"
   ]
  },
  {
   "cell_type": "code",
   "execution_count": null,
   "metadata": {},
   "outputs": [],
   "source": []
  },
  {
   "cell_type": "code",
   "execution_count": 24,
   "metadata": {},
   "outputs": [],
   "source": [
    "joined_df = sharing_reddit_df\\\n",
    "    .join(sharing_twitter_df, lsuffix=\"_reddit\", rsuffix=\"_twitter\", how=\"inner\")\n"
   ]
  },
  {
   "cell_type": "code",
   "execution_count": 25,
   "metadata": {},
   "outputs": [
    {
     "data": {
      "text/plain": [
       "count_yt_reddit          6575613.0\n",
       "count_ain_reddit           20097.0\n",
       "count_cons_reddit           7524.0\n",
       "count_msm_reddit           32210.0\n",
       "count_cchan_reddit         12929.0\n",
       "count_subs              78915116.0\n",
       "count_yt_twitter         5931528.0\n",
       "count_ain_twitter           7732.0\n",
       "count_cons_twitter          9854.0\n",
       "count_msm_twitter          14917.0\n",
       "count_cchan_twitter        13679.0\n",
       "count_tweets           827056843.0\n",
       "dtype: float64"
      ]
     },
     "execution_count": 25,
     "metadata": {},
     "output_type": "execute_result"
    }
   ],
   "source": [
    "joined_df.sum()"
   ]
  },
  {
   "cell_type": "code",
   "execution_count": null,
   "metadata": {},
   "outputs": [],
   "source": []
  },
  {
   "cell_type": "code",
   "execution_count": 26,
   "metadata": {
    "scrolled": true
   },
   "outputs": [
    {
     "data": {
      "text/plain": [
       "<matplotlib.axes._subplots.AxesSubplot at 0x7fbd5d05b908>"
      ]
     },
     "execution_count": 26,
     "metadata": {},
     "output_type": "execute_result"
    },
    {
     "data": {
      "image/png": "[encoded data removed]",
      "text/plain": [
       "<Figure size 432x288 with 1 Axes>"
      ]
     },
     "metadata": {
      "needs_background": "light"
     },
     "output_type": "display_data"
    }
   ],
   "source": [
    "joined_df.resample(\"D\").sum()[[\"count_tweets\", \"count_subs\"]].plot()"
   ]
  },
  {
   "cell_type": "code",
   "execution_count": 27,
   "metadata": {},
   "outputs": [
    {
     "data": {
      "text/plain": [
       "<matplotlib.axes._subplots.AxesSubplot at 0x7fbd5caa0d68>"
      ]
     },
     "execution_count": 27,
     "metadata": {},
     "output_type": "execute_result"
    },
    {
     "data": {
      "image/png": "[encoded data removed]",
      "text/plain": [
       "<Figure size 432x288 with 1 Axes>"
      ]
     },
     "metadata": {
      "needs_background": "light"
     },
     "output_type": "display_data"
    }
   ],
   "source": [
    "joined_df.resample(\"D\").sum()[[\"count_yt_twitter\", \"count_yt_reddit\"]].plot()"
   ]
  },
  {
   "cell_type": "code",
   "execution_count": 28,
   "metadata": {},
   "outputs": [
    {
     "data": {
      "text/html": [
       "<div>\n",
       "<style scoped>\n",
       "    .dataframe tbody tr th:only-of-type {\n",
       "        vertical-align: middle;\n",
       "    }\n",
       "\n",
       "    .dataframe tbody tr th {\n",
       "        vertical-align: top;\n",
       "    }\n",
       "\n",
       "    .dataframe thead th {\n",
       "        text-align: right;\n",
       "    }\n",
       "</style>\n",
       "<table border=\"1\" class=\"dataframe\">\n",
       "  <thead>\n",
       "    <tr style=\"text-align: right;\">\n",
       "      <th></th>\n",
       "      <th>count_yt_twitter</th>\n",
       "      <th>count_yt_reddit</th>\n",
       "    </tr>\n",
       "  </thead>\n",
       "  <tbody>\n",
       "    <tr>\n",
       "      <th>count_yt_twitter</th>\n",
       "      <td>1.000000</td>\n",
       "      <td>-0.620201</td>\n",
       "    </tr>\n",
       "    <tr>\n",
       "      <th>count_yt_reddit</th>\n",
       "      <td>-0.620201</td>\n",
       "      <td>1.000000</td>\n",
       "    </tr>\n",
       "  </tbody>\n",
       "</table>\n",
       "</div>"
      ],
      "text/plain": [
       "                  count_yt_twitter  count_yt_reddit\n",
       "count_yt_twitter          1.000000        -0.620201\n",
       "count_yt_reddit          -0.620201         1.000000"
      ]
     },
     "execution_count": 28,
     "metadata": {},
     "output_type": "execute_result"
    }
   ],
   "source": [
    "joined_df.resample(\"D\").sum()[[\"count_yt_twitter\", \"count_yt_reddit\"]].corr()"
   ]
  },
  {
   "cell_type": "code",
   "execution_count": 29,
   "metadata": {},
   "outputs": [
    {
     "data": {
      "text/plain": [
       "<matplotlib.axes._subplots.AxesSubplot at 0x7fbd5c77a208>"
      ]
     },
     "execution_count": 29,
     "metadata": {},
     "output_type": "execute_result"
    },
    {
     "data": {
      "image/png": "[encoded data removed]",
      "text/plain": [
       "<Figure size 432x288 with 1 Axes>"
      ]
     },
     "metadata": {
      "needs_background": "light"
     },
     "output_type": "display_data"
    }
   ],
   "source": [
    "joined_df.resample(\"D\").sum()[[\"count_ain_twitter\", \"count_ain_reddit\"]].plot()"
   ]
  },
  {
   "cell_type": "code",
   "execution_count": 30,
   "metadata": {},
   "outputs": [
    {
     "data": {
      "text/html": [
       "<div>\n",
       "<style scoped>\n",
       "    .dataframe tbody tr th:only-of-type {\n",
       "        vertical-align: middle;\n",
       "    }\n",
       "\n",
       "    .dataframe tbody tr th {\n",
       "        vertical-align: top;\n",
       "    }\n",
       "\n",
       "    .dataframe thead th {\n",
       "        text-align: right;\n",
       "    }\n",
       "</style>\n",
       "<table border=\"1\" class=\"dataframe\">\n",
       "  <thead>\n",
       "    <tr style=\"text-align: right;\">\n",
       "      <th></th>\n",
       "      <th>count_ain_twitter</th>\n",
       "      <th>count_ain_reddit</th>\n",
       "    </tr>\n",
       "  </thead>\n",
       "  <tbody>\n",
       "    <tr>\n",
       "      <th>count_ain_twitter</th>\n",
       "      <td>1.000000</td>\n",
       "      <td>0.649865</td>\n",
       "    </tr>\n",
       "    <tr>\n",
       "      <th>count_ain_reddit</th>\n",
       "      <td>0.649865</td>\n",
       "      <td>1.000000</td>\n",
       "    </tr>\n",
       "  </tbody>\n",
       "</table>\n",
       "</div>"
      ],
      "text/plain": [
       "                   count_ain_twitter  count_ain_reddit\n",
       "count_ain_twitter           1.000000          0.649865\n",
       "count_ain_reddit            0.649865          1.000000"
      ]
     },
     "execution_count": 30,
     "metadata": {},
     "output_type": "execute_result"
    }
   ],
   "source": [
    "joined_df.resample(\"D\").sum()[[\"count_ain_twitter\", \"count_ain_reddit\"]].corr()"
   ]
  },
  {
   "cell_type": "code",
   "execution_count": null,
   "metadata": {},
   "outputs": [],
   "source": []
  },
  {
   "cell_type": "markdown",
   "metadata": {},
   "source": [
    "# Question 4. Instrumenting Normalized Data"
   ]
  },
  {
   "cell_type": "code",
   "execution_count": 31,
   "metadata": {},
   "outputs": [],
   "source": [
    "recs_youtube_daily_df = recs_youtube_daily_df_.resample(\"D\").sum()"
   ]
  },
  {
   "cell_type": "code",
   "execution_count": 32,
   "metadata": {},
   "outputs": [],
   "source": [
    "sharing_twitter_daily_df = sharing_twitter_df.resample(\"D\").sum()\n",
    "sharing_reddit_daily_df = sharing_reddit_df.resample(\"D\").sum()"
   ]
  },
  {
   "cell_type": "code",
   "execution_count": 33,
   "metadata": {},
   "outputs": [],
   "source": [
    "sharing_twitter_daily_df[\"count_yt_prop\"] = \\\n",
    "    sharing_twitter_daily_df[\"count_yt\"] / sharing_twitter_daily_df[\"count_tweets\"]\n",
    "sharing_twitter_daily_df[\"count_ain_prop\"] = \\\n",
    "    sharing_twitter_daily_df[\"count_ain\"] / sharing_twitter_daily_df[\"count_yt\"]\n",
    "sharing_twitter_daily_df[\"count_cons_prop\"] = \\\n",
    "    sharing_twitter_daily_df[\"count_cons\"] / sharing_twitter_daily_df[\"count_yt\"]\n",
    "sharing_twitter_daily_df[\"count_msm_prop\"] = \\\n",
    "    sharing_twitter_daily_df[\"count_msm\"] / sharing_twitter_daily_df[\"count_yt\"]\n",
    "sharing_twitter_daily_df[\"count_cchan_prop\"] = \\\n",
    "    sharing_twitter_daily_df[\"count_cchan\"] / sharing_twitter_daily_df[\"count_yt\"]\n"
   ]
  },
  {
   "cell_type": "code",
   "execution_count": 34,
   "metadata": {},
   "outputs": [],
   "source": [
    "sharing_reddit_daily_df[\"count_yt_prop\"] = \\\n",
    "    sharing_reddit_daily_df[\"count_yt\"] / sharing_reddit_daily_df[\"count_subs\"]\n",
    "sharing_reddit_daily_df[\"count_ain_prop\"] = \\\n",
    "    sharing_reddit_daily_df[\"count_ain\"] / sharing_reddit_daily_df[\"count_yt\"]\n",
    "sharing_reddit_daily_df[\"count_cons_prop\"] = \\\n",
    "    sharing_reddit_daily_df[\"count_cons\"] / sharing_reddit_daily_df[\"count_yt\"]\n",
    "sharing_reddit_daily_df[\"count_msm_prop\"] = \\\n",
    "    sharing_reddit_daily_df[\"count_msm\"] / sharing_reddit_daily_df[\"count_yt\"]\n",
    "sharing_reddit_daily_df[\"count_cchan_prop\"] = \\\n",
    "    sharing_reddit_daily_df[\"count_cchan\"] / sharing_reddit_daily_df[\"count_yt\"]\n"
   ]
  },
  {
   "cell_type": "code",
   "execution_count": null,
   "metadata": {},
   "outputs": [],
   "source": []
  },
  {
   "cell_type": "code",
   "execution_count": 35,
   "metadata": {},
   "outputs": [],
   "source": [
    "sharing_twitter_daily_df_ = sharing_twitter_daily_df.sort_index()\n",
    "sharing_reddit_daily_df_ = sharing_reddit_daily_df.sort_index()"
   ]
  },
  {
   "cell_type": "code",
   "execution_count": 36,
   "metadata": {},
   "outputs": [],
   "source": [
    "date_threshold = datetime.datetime(2019,1,25)"
   ]
  },
  {
   "cell_type": "code",
   "execution_count": null,
   "metadata": {},
   "outputs": [],
   "source": []
  },
  {
   "cell_type": "code",
   "execution_count": 37,
   "metadata": {},
   "outputs": [
    {
     "data": {
      "text/plain": [
       "111"
      ]
     },
     "execution_count": 37,
     "metadata": {},
     "output_type": "execute_result"
    }
   ],
   "source": [
    "thresh_idx_yt = np.argwhere(recs_youtube_daily_df.index == date_threshold)[0,0]\n",
    "thresh_idx_yt"
   ]
  },
  {
   "cell_type": "code",
   "execution_count": 38,
   "metadata": {},
   "outputs": [
    {
     "data": {
      "text/plain": [
       "(116, 116)"
      ]
     },
     "execution_count": 38,
     "metadata": {},
     "output_type": "execute_result"
    }
   ],
   "source": [
    "thresh_idx_twitter = np.argwhere(sharing_twitter_daily_df_.index == date_threshold)[0,0]\n",
    "thresh_idx_reddit = np.argwhere(sharing_reddit_daily_df_.index == date_threshold)[0,0]\n",
    "thresh_idx_twitter, thresh_idx_reddit"
   ]
  },
  {
   "cell_type": "code",
   "execution_count": null,
   "metadata": {},
   "outputs": [],
   "source": []
  },
  {
   "cell_type": "code",
   "execution_count": 39,
   "metadata": {},
   "outputs": [],
   "source": [
    "recs_youtube_daily_df[\"treat\"] = [1 if (x - thresh_idx_yt) >= 0 else 0 for x in range(recs_youtube_daily_df.shape[0])]\n",
    "recs_youtube_daily_df[\"dist_to_treat_\"] = [(x - thresh_idx_yt) for x in range(recs_youtube_daily_df.shape[0])]\n",
    "recs_youtube_daily_df[\"dist_to_treat\"] = recs_youtube_daily_df[\"dist_to_treat_\"].apply(lambda x: max(0, x))\n"
   ]
  },
  {
   "cell_type": "code",
   "execution_count": 40,
   "metadata": {},
   "outputs": [],
   "source": [
    "sharing_twitter_daily_df_[\"treat\"] = [1 if (x - thresh_idx_twitter) >= 0 else 0 for x in range(sharing_twitter_daily_df_.shape[0])]\n",
    "sharing_twitter_daily_df_[\"dist_to_treat_\"] = [(x - thresh_idx_twitter) for x in range(sharing_twitter_daily_df_.shape[0])]\n",
    "sharing_twitter_daily_df_[\"dist_to_treat\"] = sharing_twitter_daily_df_[\"dist_to_treat_\"].apply(lambda x: max(0, x))\n",
    "\n",
    "sharing_reddit_daily_df_[\"treat\"] = [1 if (x - thresh_idx_reddit) >= 0 else 0 for x in range(sharing_reddit_daily_df_.shape[0])]\n",
    "sharing_reddit_daily_df_[\"dist_to_treat_\"] = [(x - thresh_idx_reddit) for x in range(sharing_reddit_daily_df_.shape[0])]\n",
    "sharing_reddit_daily_df_[\"dist_to_treat\"] = sharing_reddit_daily_df_[\"dist_to_treat_\"].apply(lambda x: max(0, x))\n"
   ]
  },
  {
   "cell_type": "code",
   "execution_count": null,
   "metadata": {},
   "outputs": [],
   "source": []
  },
  {
   "cell_type": "code",
   "execution_count": 41,
   "metadata": {},
   "outputs": [
    {
     "data": {
      "text/html": [
       "<div>\n",
       "<style scoped>\n",
       "    .dataframe tbody tr th:only-of-type {\n",
       "        vertical-align: middle;\n",
       "    }\n",
       "\n",
       "    .dataframe tbody tr th {\n",
       "        vertical-align: top;\n",
       "    }\n",
       "\n",
       "    .dataframe thead th {\n",
       "        text-align: right;\n",
       "    }\n",
       "</style>\n",
       "<table border=\"1\" class=\"dataframe\">\n",
       "  <thead>\n",
       "    <tr style=\"text-align: right;\">\n",
       "      <th>treat</th>\n",
       "      <th>0</th>\n",
       "      <th>1</th>\n",
       "    </tr>\n",
       "  </thead>\n",
       "  <tbody>\n",
       "    <tr>\n",
       "      <th>count_yt_prop</th>\n",
       "      <td>0.008806</td>\n",
       "      <td>0.005792</td>\n",
       "    </tr>\n",
       "    <tr>\n",
       "      <th>count_ain_prop</th>\n",
       "      <td>0.001336</td>\n",
       "      <td>0.001265</td>\n",
       "    </tr>\n",
       "    <tr>\n",
       "      <th>count_cons_prop</th>\n",
       "      <td>0.001824</td>\n",
       "      <td>0.001438</td>\n",
       "    </tr>\n",
       "    <tr>\n",
       "      <th>count_msm_prop</th>\n",
       "      <td>0.002104</td>\n",
       "      <td>0.003065</td>\n",
       "    </tr>\n",
       "    <tr>\n",
       "      <th>count_cchan_prop</th>\n",
       "      <td>0.002058</td>\n",
       "      <td>0.002658</td>\n",
       "    </tr>\n",
       "  </tbody>\n",
       "</table>\n",
       "</div>"
      ],
      "text/plain": [
       "treat                    0         1\n",
       "count_yt_prop     0.008806  0.005792\n",
       "count_ain_prop    0.001336  0.001265\n",
       "count_cons_prop   0.001824  0.001438\n",
       "count_msm_prop    0.002104  0.003065\n",
       "count_cchan_prop  0.002058  0.002658"
      ]
     },
     "execution_count": 41,
     "metadata": {},
     "output_type": "execute_result"
    }
   ],
   "source": [
    "split_mean_df_t = sharing_twitter_daily_df_.groupby(\"treat\").mean()\n",
    "split_mean_df_t[[\"count_yt_prop\", \"count_ain_prop\", \"count_cons_prop\", \"count_msm_prop\", \"count_cchan_prop\"]].T\n"
   ]
  },
  {
   "cell_type": "code",
   "execution_count": 42,
   "metadata": {},
   "outputs": [
    {
     "data": {
      "text/html": [
       "<div>\n",
       "<style scoped>\n",
       "    .dataframe tbody tr th:only-of-type {\n",
       "        vertical-align: middle;\n",
       "    }\n",
       "\n",
       "    .dataframe tbody tr th {\n",
       "        vertical-align: top;\n",
       "    }\n",
       "\n",
       "    .dataframe thead th {\n",
       "        text-align: right;\n",
       "    }\n",
       "</style>\n",
       "<table border=\"1\" class=\"dataframe\">\n",
       "  <thead>\n",
       "    <tr style=\"text-align: right;\">\n",
       "      <th>treat</th>\n",
       "      <th>0</th>\n",
       "      <th>1</th>\n",
       "    </tr>\n",
       "  </thead>\n",
       "  <tbody>\n",
       "    <tr>\n",
       "      <th>count_yt_prop</th>\n",
       "      <td>0.089685</td>\n",
       "      <td>0.079592</td>\n",
       "    </tr>\n",
       "    <tr>\n",
       "      <th>count_ain_prop</th>\n",
       "      <td>0.003407</td>\n",
       "      <td>0.002761</td>\n",
       "    </tr>\n",
       "    <tr>\n",
       "      <th>count_cons_prop</th>\n",
       "      <td>0.001481</td>\n",
       "      <td>0.000872</td>\n",
       "    </tr>\n",
       "    <tr>\n",
       "      <th>count_msm_prop</th>\n",
       "      <td>0.004414</td>\n",
       "      <td>0.005259</td>\n",
       "    </tr>\n",
       "    <tr>\n",
       "      <th>count_cchan_prop</th>\n",
       "      <td>0.001907</td>\n",
       "      <td>0.002008</td>\n",
       "    </tr>\n",
       "  </tbody>\n",
       "</table>\n",
       "</div>"
      ],
      "text/plain": [
       "treat                    0         1\n",
       "count_yt_prop     0.089685  0.079592\n",
       "count_ain_prop    0.003407  0.002761\n",
       "count_cons_prop   0.001481  0.000872\n",
       "count_msm_prop    0.004414  0.005259\n",
       "count_cchan_prop  0.001907  0.002008"
      ]
     },
     "execution_count": 42,
     "metadata": {},
     "output_type": "execute_result"
    }
   ],
   "source": [
    "split_mean_df_r = sharing_reddit_daily_df_.groupby(\"treat\").mean()\n",
    "split_mean_df_r[[\"count_yt_prop\", \"count_ain_prop\", \"count_cons_prop\", \"count_msm_prop\", \"count_cchan_prop\"]].T"
   ]
  },
  {
   "cell_type": "code",
   "execution_count": null,
   "metadata": {},
   "outputs": [],
   "source": []
  },
  {
   "cell_type": "code",
   "execution_count": null,
   "metadata": {},
   "outputs": [],
   "source": []
  },
  {
   "cell_type": "code",
   "execution_count": 43,
   "metadata": {},
   "outputs": [
    {
     "data": {
      "text/plain": [
       "<matplotlib.legend.Legend at 0x7fbd5c452748>"
      ]
     },
     "execution_count": 43,
     "metadata": {},
     "output_type": "execute_result"
    },
    {
     "data": {
      "image/png": "[encoded data removed]",
      "text/plain": [
       "<Figure size 1152x144 with 1 Axes>"
      ]
     },
     "metadata": {
      "needs_background": "light"
     },
     "output_type": "display_data"
    }
   ],
   "source": [
    "fig = plt.figure(figsize=(16,2))\n",
    "ax = fig.add_subplot(1,1,1)\n",
    "ax.grid()\n",
    "recs_youtube_daily_df[\"cons_recs\"].plot(ax=ax, label=\"Daily Rec Count\")\n",
    "ax.legend()\n"
   ]
  },
  {
   "cell_type": "code",
   "execution_count": 44,
   "metadata": {},
   "outputs": [
    {
     "data": {
      "image/png": "[encoded data removed]",
      "text/plain": [
       "<Figure size 1152x648 with 4 Axes>"
      ]
     },
     "metadata": {
      "needs_background": "light"
     },
     "output_type": "display_data"
    }
   ],
   "source": [
    "fig = plt.figure(figsize=(16,9))\n",
    "ax = fig.add_subplot(4,1,1)\n",
    "ax.grid()\n",
    "sharing_twitter_daily_df_[\"count_tweets\"].plot(ax=ax, label=\"Daily Tweet Count\")\n",
    "ax.legend()\n",
    "ax.bar(sharing_twitter_daily_df_.index[115], 5000000, color=\"red\", alpha=0.5)\n",
    "ax.set_ylim((2800000, 4100000))\n",
    "ax.set_xlabel(None)\n",
    "\n",
    "ax = fig.add_subplot(4,1,2)\n",
    "ax.grid()\n",
    "sharing_reddit_daily_df_[\"count_subs\"].plot(ax=ax, label=\"Daily Reddit Submission Count\")\n",
    "ax.legend()\n",
    "ax.bar(sharing_reddit_daily_df_.index[115], 5000000, color=\"red\", alpha=0.5)\n",
    "ax.set_ylim((100000, 490000))\n",
    "ax.set_xlabel(None)\n",
    "\n",
    "ax = fig.add_subplot(4,1,3)\n",
    "ax.grid()\n",
    "sharing_twitter_daily_df_[\"count_yt_prop\"].plot(ax=ax, label=\"Proportion of Tweets with YT Videos\")\n",
    "ax.legend()\n",
    "ax.bar(sharing_twitter_daily_df_.index[115], 1, color=\"red\", alpha=0.5)\n",
    "ax.set_ylim((0.0045, 0.011))\n",
    "ax.set_xlabel(None)\n",
    "\n",
    "ax = fig.add_subplot(4,1,4)\n",
    "ax.grid()\n",
    "sharing_reddit_daily_df_[\"count_yt_prop\"].plot(ax=ax, label=\"Proportion of Submissions with YT Videos\")\n",
    "ax.legend()\n",
    "ax.bar(sharing_reddit_daily_df_.index[115], 1, color=\"red\", alpha=0.5)\n",
    "ax.set_ylim((0.06, 0.11))\n",
    "\n",
    "plt.tight_layout()\n",
    "plt.savefig(\"both_platform_counts.pdf\", format=\"pdf\")\n",
    "plt.show()"
   ]
  },
  {
   "cell_type": "code",
   "execution_count": null,
   "metadata": {},
   "outputs": [],
   "source": []
  },
  {
   "cell_type": "code",
   "execution_count": 45,
   "metadata": {},
   "outputs": [
    {
     "data": {
      "image/png": "[encoded data removed]",
      "text/plain": [
       "<Figure size 1584x1008 with 8 Axes>"
      ]
     },
     "metadata": {
      "needs_background": "light"
     },
     "output_type": "display_data"
    }
   ],
   "source": [
    "fig = plt.figure(figsize=(22,14))\n",
    "\n",
    "row = 0\n",
    "\n",
    "row += 1\n",
    "ax = fig.add_subplot(8,1,row)\n",
    "ax.grid()\n",
    "sharing_twitter_daily_df_[\"count_cons_prop\"].plot(ax=ax, label=\"Conspiracy Videos, Twitter\")\n",
    "ax.legend()\n",
    "ax.bar(sharing_twitter_daily_df_.index[115], sharing_twitter_daily_df_[\"count_cons_prop\"].max(), color=\"red\", alpha=0.5)\n",
    "ax.set_xlabel(None)\n",
    "\n",
    "row += 1\n",
    "ax = fig.add_subplot(8,1,row)\n",
    "ax.grid()\n",
    "sharing_reddit_daily_df_[\"count_cons_prop\"].plot(ax=ax, label=\"Conspiracy Videos, Reddit\")\n",
    "ax.legend()\n",
    "ax.bar(sharing_reddit_daily_df_.index[115], sharing_reddit_daily_df_[\"count_cons_prop\"].max(), color=\"red\", alpha=0.5)\n",
    "ax.set_xlabel(None)\n",
    "\n",
    "\n",
    "row += 1\n",
    "ax = fig.add_subplot(8,1,row)\n",
    "ax.grid()\n",
    "sharing_twitter_daily_df_[\"count_cchan_prop\"].plot(ax=ax, label=\"Conspiracy-Channel Videos, Twitter\")\n",
    "ax.legend()\n",
    "ax.bar(sharing_twitter_daily_df_.index[115], sharing_twitter_daily_df_[\"count_cchan_prop\"].max(), color=\"red\", alpha=0.5)\n",
    "ax.set_xlabel(None)\n",
    "\n",
    "row += 1\n",
    "ax = fig.add_subplot(8,1,row)\n",
    "ax.grid()\n",
    "sharing_reddit_daily_df_[\"count_cchan_prop\"].plot(ax=ax, label=\"Conspiracy-Channel Videos, Reddit\")\n",
    "ax.legend()\n",
    "ax.bar(sharing_reddit_daily_df_.index[115], sharing_reddit_daily_df_[\"count_cchan_prop\"].max(), color=\"red\", alpha=0.5)\n",
    "\n",
    "\n",
    "row += 1\n",
    "ax = fig.add_subplot(8,1,row)\n",
    "ax.grid()\n",
    "sharing_twitter_daily_df_[\"count_ain_prop\"].plot(ax=ax, label=\"AIN Videos, Twitter\")\n",
    "ax.legend()\n",
    "ax.bar(sharing_twitter_daily_df_.index[115], sharing_twitter_daily_df_[\"count_ain_prop\"].max(), color=\"red\", alpha=0.5)\n",
    "ax.set_ylim((0, 0.0055))\n",
    "ax.set_xlabel(None)\n",
    "\n",
    "row += 1\n",
    "ax = fig.add_subplot(8,1,row)\n",
    "ax.grid()\n",
    "sharing_reddit_daily_df_[\"count_ain_prop\"].plot(ax=ax, label=\"AIN Videos, Reddit\")\n",
    "ax.legend()\n",
    "ax.bar(sharing_reddit_daily_df_.index[115], sharing_reddit_daily_df_[\"count_ain_prop\"].max(), color=\"red\", alpha=0.5)\n",
    "ax.set_xlabel(None)\n",
    "\n",
    "\n",
    "row += 1\n",
    "ax = fig.add_subplot(8,1,row)\n",
    "ax.grid()\n",
    "sharing_twitter_daily_df_[\"count_msm_prop\"].plot(ax=ax, label=\"Mainstream News Videos, Twitter\")\n",
    "ax.legend()\n",
    "ax.bar(sharing_twitter_daily_df_.index[115], sharing_twitter_daily_df_[\"count_msm_prop\"].max(), color=\"red\", alpha=0.5)\n",
    "ax.set_xlabel(None)\n",
    "\n",
    "row += 1\n",
    "ax = fig.add_subplot(8,1,row)\n",
    "ax.grid()\n",
    "sharing_reddit_daily_df_[\"count_msm_prop\"].plot(ax=ax, label=\"Mainstream News Videos, Reddit\")\n",
    "ax.legend()\n",
    "ax.bar(sharing_reddit_daily_df_.index[115], sharing_reddit_daily_df_[\"count_msm_prop\"].max(), color=\"red\", alpha=0.5)\n",
    "\n",
    "\n",
    "\n",
    "plt.tight_layout()\n",
    "plt.savefig(\"both_platform_props.pdf\", format=\"pdf\")\n",
    "plt.show()"
   ]
  },
  {
   "cell_type": "code",
   "execution_count": null,
   "metadata": {},
   "outputs": [],
   "source": []
  },
  {
   "cell_type": "code",
   "execution_count": 52,
   "metadata": {},
   "outputs": [
    {
     "name": "stdout",
     "output_type": "stream",
     "text": [
      "0\n",
      "cons_recs    1178.333333\n",
      "dtype: float64\n",
      "1\n",
      "cons_recs    990.047244\n",
      "dtype: float64\n"
     ]
    }
   ],
   "source": [
    "for treated, group in recs_youtube_daily_df.groupby(\"treat\"):\n",
    "    print(treated)\n",
    "    print(group[[\n",
    "        \"cons_recs\", \n",
    "    ]].mean())"
   ]
  },
  {
   "cell_type": "code",
   "execution_count": 53,
   "metadata": {
    "scrolled": true
   },
   "outputs": [
    {
     "name": "stdout",
     "output_type": "stream",
     "text": [
      "0\n",
      "count_yt       28829.810345\n",
      "count_ain         38.517241\n",
      "count_cons        52.560345\n",
      "count_msm         60.741379\n",
      "count_cchan       59.318966\n",
      "dtype: float64\n",
      "1\n",
      "count_yt       20384.062992\n",
      "count_ain         25.700787\n",
      "count_cons        29.598425\n",
      "count_msm         62.007874\n",
      "count_cchan       53.566929\n",
      "dtype: float64\n"
     ]
    }
   ],
   "source": [
    "for treated, group in sharing_twitter_daily_df_.groupby(\"treat\"):\n",
    "    print(treated)\n",
    "    print(group[[\n",
    "        \"count_yt\", \n",
    "        \"count_ain\", \n",
    "        \"count_cons\",\n",
    "        \"count_msm\",\n",
    "        \"count_cchan\",\n",
    "    ]].mean())"
   ]
  },
  {
   "cell_type": "code",
   "execution_count": 54,
   "metadata": {},
   "outputs": [
    {
     "name": "stdout",
     "output_type": "stream",
     "text": [
      "0\n",
      "count_yt       25165.939655\n",
      "count_ain         85.767241\n",
      "count_cons        37.155172\n",
      "count_msm        111.491379\n",
      "count_cchan       48.103448\n",
      "dtype: float64\n",
      "1\n",
      "count_yt       28828.921260\n",
      "count_ain         80.102362\n",
      "count_cons        25.377953\n",
      "count_msm        151.921260\n",
      "count_cchan       57.984252\n",
      "dtype: float64\n"
     ]
    }
   ],
   "source": [
    "for treated, group in sharing_reddit_daily_df_.groupby(\"treat\"):\n",
    "    print(treated)\n",
    "    print(group[[\n",
    "        \"count_yt\", \n",
    "        \"count_ain\", \n",
    "        \"count_cons\",\n",
    "        \"count_msm\",\n",
    "        \"count_cchan\",\n",
    "    ]].mean())"
   ]
  },
  {
   "cell_type": "code",
   "execution_count": null,
   "metadata": {},
   "outputs": [],
   "source": []
  },
  {
   "cell_type": "code",
   "execution_count": 55,
   "metadata": {
    "scrolled": true
   },
   "outputs": [
    {
     "name": "stdout",
     "output_type": "stream",
     "text": [
      "0\n",
      "count_yt_prop       0.008806\n",
      "count_ain_prop      0.001336\n",
      "count_cons_prop     0.001824\n",
      "count_msm_prop      0.002104\n",
      "count_cchan_prop    0.002058\n",
      "dtype: float64\n",
      "1\n",
      "count_yt_prop       0.005792\n",
      "count_ain_prop      0.001265\n",
      "count_cons_prop     0.001438\n",
      "count_msm_prop      0.003065\n",
      "count_cchan_prop    0.002658\n",
      "dtype: float64\n"
     ]
    }
   ],
   "source": [
    "for treated, group in sharing_twitter_daily_df_.groupby(\"treat\"):\n",
    "    print(treated)\n",
    "    print(group[[\n",
    "        \"count_yt_prop\", \n",
    "        \"count_ain_prop\", \n",
    "        \"count_cons_prop\",\n",
    "        \"count_msm_prop\",\n",
    "        \"count_cchan_prop\",\n",
    "    ]].mean())"
   ]
  },
  {
   "cell_type": "code",
   "execution_count": 56,
   "metadata": {},
   "outputs": [
    {
     "name": "stdout",
     "output_type": "stream",
     "text": [
      "0\n",
      "count_yt_prop       0.089685\n",
      "count_ain_prop      0.003407\n",
      "count_cons_prop     0.001481\n",
      "count_msm_prop      0.004414\n",
      "count_cchan_prop    0.001907\n",
      "dtype: float64\n",
      "1\n",
      "count_yt_prop       0.079592\n",
      "count_ain_prop      0.002761\n",
      "count_cons_prop     0.000872\n",
      "count_msm_prop      0.005259\n",
      "count_cchan_prop    0.002008\n",
      "dtype: float64\n"
     ]
    }
   ],
   "source": [
    "for treated, group in sharing_reddit_daily_df_.groupby(\"treat\"):\n",
    "    print(treated)\n",
    "    print(group[[\n",
    "        \"count_yt_prop\", \n",
    "        \"count_ain_prop\", \n",
    "        \"count_cons_prop\",\n",
    "        \"count_msm_prop\",\n",
    "        \"count_cchan_prop\",\n",
    "    ]].mean())"
   ]
  },
  {
   "cell_type": "code",
   "execution_count": null,
   "metadata": {},
   "outputs": [],
   "source": []
  },
  {
   "cell_type": "code",
   "execution_count": 57,
   "metadata": {},
   "outputs": [],
   "source": [
    "recs_youtube_daily_df[\"cons_recs_lag\"] = recs_youtube_daily_df[\"cons_recs\"].shift()\n",
    "recs_youtube_daily_df = recs_youtube_daily_df.dropna()"
   ]
  },
  {
   "cell_type": "code",
   "execution_count": 58,
   "metadata": {},
   "outputs": [],
   "source": [
    "for col in [\n",
    "    \"count_yt\", \"count_ain\", \"count_cons\", \"count_msm\", \"count_cchan\",\n",
    "    \"count_yt_prop\", \"count_ain_prop\", \"count_cons_prop\", \"count_msm_prop\", \"count_cchan_prop\",\n",
    "]:\n",
    "    sharing_twitter_daily_df_[col + \"_lag\"] = sharing_twitter_daily_df_[col].shift()\n",
    "    sharing_reddit_daily_df_[col + \"_lag\"] = sharing_reddit_daily_df_[col].shift()"
   ]
  },
  {
   "cell_type": "code",
   "execution_count": 59,
   "metadata": {},
   "outputs": [],
   "source": [
    "sharing_twitter_daily_df_ = sharing_twitter_daily_df_.dropna()\n",
    "sharing_reddit_daily_df_ = sharing_reddit_daily_df_.dropna()"
   ]
  },
  {
   "cell_type": "code",
   "execution_count": null,
   "metadata": {},
   "outputs": [],
   "source": []
  },
  {
   "cell_type": "markdown",
   "metadata": {},
   "source": [
    "# Impact in YouTube"
   ]
  },
  {
   "cell_type": "code",
   "execution_count": 60,
   "metadata": {},
   "outputs": [
    {
     "data": {
      "text/html": [
       "<table class=\"simpletable\">\n",
       "<caption>OLS Regression Results</caption>\n",
       "<tr>\n",
       "  <th>Dep. Variable:</th>        <td>cons_recs</td>    <th>  R-squared (uncentered):</th>      <td>   1.000</td> \n",
       "</tr>\n",
       "<tr>\n",
       "  <th>Model:</th>                   <td>OLS</td>       <th>  Adj. R-squared (uncentered):</th> <td>   1.000</td> \n",
       "</tr>\n",
       "<tr>\n",
       "  <th>Method:</th>             <td>Least Squares</td>  <th>  F-statistic:       </th>          <td>2.471e+05</td>\n",
       "</tr>\n",
       "<tr>\n",
       "  <th>Date:</th>             <td>Fri, 13 Nov 2020</td> <th>  Prob (F-statistic):</th>           <td>  0.00</td>  \n",
       "</tr>\n",
       "<tr>\n",
       "  <th>Time:</th>                 <td>18:02:21</td>     <th>  Log-Likelihood:    </th>          <td>  194.01</td> \n",
       "</tr>\n",
       "<tr>\n",
       "  <th>No. Observations:</th>      <td>   237</td>      <th>  AIC:               </th>          <td>  -380.0</td> \n",
       "</tr>\n",
       "<tr>\n",
       "  <th>Df Residuals:</th>          <td>   233</td>      <th>  BIC:               </th>          <td>  -366.2</td> \n",
       "</tr>\n",
       "<tr>\n",
       "  <th>Df Model:</th>              <td>     4</td>      <th>                     </th>              <td> </td>    \n",
       "</tr>\n",
       "<tr>\n",
       "  <th>Covariance Type:</th>      <td>nonrobust</td>    <th>                     </th>              <td> </td>    \n",
       "</tr>\n",
       "</table>\n",
       "<table class=\"simpletable\">\n",
       "<tr>\n",
       "        <td></td>           <th>coef</th>     <th>std err</th>      <th>t</th>      <th>P>|t|</th>  <th>[0.025</th>    <th>0.975]</th>  \n",
       "</tr>\n",
       "<tr>\n",
       "  <th>all_recs</th>      <td>    0.0760</td> <td>    0.020</td> <td>    3.777</td> <td> 0.000</td> <td>    0.036</td> <td>    0.116</td>\n",
       "</tr>\n",
       "<tr>\n",
       "  <th>cons_recs_lag</th> <td>    0.8951</td> <td>    0.028</td> <td>   32.004</td> <td> 0.000</td> <td>    0.840</td> <td>    0.950</td>\n",
       "</tr>\n",
       "<tr>\n",
       "  <th>treat</th>         <td>    0.0258</td> <td>    0.023</td> <td>    1.104</td> <td> 0.271</td> <td>   -0.020</td> <td>    0.072</td>\n",
       "</tr>\n",
       "<tr>\n",
       "  <th>dist_to_treat</th> <td>   -0.0009</td> <td>    0.000</td> <td>   -2.665</td> <td> 0.008</td> <td>   -0.002</td> <td>   -0.000</td>\n",
       "</tr>\n",
       "</table>\n",
       "<table class=\"simpletable\">\n",
       "<tr>\n",
       "  <th>Omnibus:</th>       <td>29.850</td> <th>  Durbin-Watson:     </th> <td>   2.494</td>\n",
       "</tr>\n",
       "<tr>\n",
       "  <th>Prob(Omnibus):</th> <td> 0.000</td> <th>  Jarque-Bera (JB):  </th> <td> 137.214</td>\n",
       "</tr>\n",
       "<tr>\n",
       "  <th>Skew:</th>          <td> 0.297</td> <th>  Prob(JB):          </th> <td>1.60e-30</td>\n",
       "</tr>\n",
       "<tr>\n",
       "  <th>Kurtosis:</th>      <td> 6.680</td> <th>  Cond. No.          </th> <td>    279.</td>\n",
       "</tr>\n",
       "</table><br/><br/>Warnings:<br/>[1] Standard Errors assume that the covariance matrix of the errors is correctly specified."
      ],
      "text/plain": [
       "<class 'statsmodels.iolib.summary.Summary'>\n",
       "\"\"\"\n",
       "                                 OLS Regression Results                                \n",
       "=======================================================================================\n",
       "Dep. Variable:              cons_recs   R-squared (uncentered):                   1.000\n",
       "Model:                            OLS   Adj. R-squared (uncentered):              1.000\n",
       "Method:                 Least Squares   F-statistic:                          2.471e+05\n",
       "Date:                Fri, 13 Nov 2020   Prob (F-statistic):                        0.00\n",
       "Time:                        18:02:21   Log-Likelihood:                          194.01\n",
       "No. Observations:                 237   AIC:                                     -380.0\n",
       "Df Residuals:                     233   BIC:                                     -366.2\n",
       "Df Model:                           4                                                  \n",
       "Covariance Type:            nonrobust                                                  \n",
       "=================================================================================\n",
       "                    coef    std err          t      P>|t|      [0.025      0.975]\n",
       "---------------------------------------------------------------------------------\n",
       "all_recs          0.0760      0.020      3.777      0.000       0.036       0.116\n",
       "cons_recs_lag     0.8951      0.028     32.004      0.000       0.840       0.950\n",
       "treat             0.0258      0.023      1.104      0.271      -0.020       0.072\n",
       "dist_to_treat    -0.0009      0.000     -2.665      0.008      -0.002      -0.000\n",
       "==============================================================================\n",
       "Omnibus:                       29.850   Durbin-Watson:                   2.494\n",
       "Prob(Omnibus):                  0.000   Jarque-Bera (JB):              137.214\n",
       "Skew:                           0.297   Prob(JB):                     1.60e-30\n",
       "Kurtosis:                       6.680   Cond. No.                         279.\n",
       "==============================================================================\n",
       "\n",
       "Warnings:\n",
       "[1] Standard Errors assume that the covariance matrix of the errors is correctly specified.\n",
       "\"\"\""
      ]
     },
     "execution_count": 60,
     "metadata": {},
     "output_type": "execute_result"
    }
   ],
   "source": [
    "exog = recs_youtube_daily_df[[\n",
    "    \"all_recs\",\n",
    "    \"cons_recs_lag\",\n",
    "    \"treat\",\n",
    "    \"dist_to_treat\"\n",
    "]].copy()\n",
    "\n",
    "exog[\"cons_recs_lag\"] = np.log(exog[\"cons_recs_lag\"] + 1)\n",
    "exog[\"all_recs\"] = np.log(exog[\"all_recs\"] + 1)\n",
    "\n",
    "mod = sm.OLS(np.log(recs_youtube_daily_df[[\"cons_recs\"]] + 1), exog)\n",
    "res = mod.fit()\n",
    "\n",
    "res.summary()"
   ]
  },
  {
   "cell_type": "code",
   "execution_count": 61,
   "metadata": {},
   "outputs": [
    {
     "data": {
      "text/plain": [
       "all_recs         0.075963\n",
       "cons_recs_lag    0.895061\n",
       "treat            0.025836\n",
       "dist_to_treat   -0.000916\n",
       "dtype: float64"
      ]
     },
     "execution_count": 61,
     "metadata": {},
     "output_type": "execute_result"
    }
   ],
   "source": [
    "res.params"
   ]
  },
  {
   "cell_type": "code",
   "execution_count": 62,
   "metadata": {},
   "outputs": [
    {
     "data": {
      "text/plain": [
       "all_recs         2.015443e-04\n",
       "cons_recs_lag    2.990646e-87\n",
       "treat            2.706591e-01\n",
       "dist_to_treat    8.232311e-03\n",
       "dtype: float64"
      ]
     },
     "execution_count": 62,
     "metadata": {},
     "output_type": "execute_result"
    }
   ],
   "source": [
    "res.pvalues"
   ]
  },
  {
   "cell_type": "code",
   "execution_count": null,
   "metadata": {},
   "outputs": [],
   "source": []
  },
  {
   "cell_type": "markdown",
   "metadata": {},
   "source": [
    "# Impact in Reddit"
   ]
  },
  {
   "cell_type": "code",
   "execution_count": 63,
   "metadata": {},
   "outputs": [
    {
     "data": {
      "text/html": [
       "<table class=\"simpletable\">\n",
       "<caption>OLS Regression Results</caption>\n",
       "<tr>\n",
       "  <th>Dep. Variable:</th>        <td>count_yt</td>     <th>  R-squared (uncentered):</th>      <td>   1.000</td> \n",
       "</tr>\n",
       "<tr>\n",
       "  <th>Model:</th>                   <td>OLS</td>       <th>  Adj. R-squared (uncentered):</th> <td>   1.000</td> \n",
       "</tr>\n",
       "<tr>\n",
       "  <th>Method:</th>             <td>Least Squares</td>  <th>  F-statistic:       </th>          <td>6.343e+06</td>\n",
       "</tr>\n",
       "<tr>\n",
       "  <th>Date:</th>             <td>Fri, 13 Nov 2020</td> <th>  Prob (F-statistic):</th>           <td>  0.00</td>  \n",
       "</tr>\n",
       "<tr>\n",
       "  <th>Time:</th>                 <td>18:02:25</td>     <th>  Log-Likelihood:    </th>          <td>  495.32</td> \n",
       "</tr>\n",
       "<tr>\n",
       "  <th>No. Observations:</th>      <td>   242</td>      <th>  AIC:               </th>          <td>  -982.6</td> \n",
       "</tr>\n",
       "<tr>\n",
       "  <th>Df Residuals:</th>          <td>   238</td>      <th>  BIC:               </th>          <td>  -968.7</td> \n",
       "</tr>\n",
       "<tr>\n",
       "  <th>Df Model:</th>              <td>     4</td>      <th>                     </th>              <td> </td>    \n",
       "</tr>\n",
       "<tr>\n",
       "  <th>Covariance Type:</th>      <td>nonrobust</td>    <th>                     </th>              <td> </td>    \n",
       "</tr>\n",
       "</table>\n",
       "<table class=\"simpletable\">\n",
       "<tr>\n",
       "        <td></td>           <th>coef</th>     <th>std err</th>      <th>t</th>      <th>P>|t|</th>  <th>[0.025</th>    <th>0.975]</th>  \n",
       "</tr>\n",
       "<tr>\n",
       "  <th>count_subs</th>    <td>    0.4829</td> <td>    0.023</td> <td>   20.942</td> <td> 0.000</td> <td>    0.437</td> <td>    0.528</td>\n",
       "</tr>\n",
       "<tr>\n",
       "  <th>count_yt_lag</th>  <td>    0.4021</td> <td>    0.029</td> <td>   14.081</td> <td> 0.000</td> <td>    0.346</td> <td>    0.458</td>\n",
       "</tr>\n",
       "<tr>\n",
       "  <th>treat</th>         <td>    0.0184</td> <td>    0.006</td> <td>    2.889</td> <td> 0.004</td> <td>    0.006</td> <td>    0.031</td>\n",
       "</tr>\n",
       "<tr>\n",
       "  <th>dist_to_treat</th> <td>   -0.0010</td> <td> 8.93e-05</td> <td>  -10.805</td> <td> 0.000</td> <td>   -0.001</td> <td>   -0.001</td>\n",
       "</tr>\n",
       "</table>\n",
       "<table class=\"simpletable\">\n",
       "<tr>\n",
       "  <th>Omnibus:</th>       <td> 6.244</td> <th>  Durbin-Watson:     </th> <td>   1.418</td>\n",
       "</tr>\n",
       "<tr>\n",
       "  <th>Prob(Omnibus):</th> <td> 0.044</td> <th>  Jarque-Bera (JB):  </th> <td>   6.880</td>\n",
       "</tr>\n",
       "<tr>\n",
       "  <th>Skew:</th>          <td>-0.253</td> <th>  Prob(JB):          </th> <td>  0.0321</td>\n",
       "</tr>\n",
       "<tr>\n",
       "  <th>Kurtosis:</th>      <td> 3.653</td> <th>  Cond. No.          </th> <td>    976.</td>\n",
       "</tr>\n",
       "</table><br/><br/>Warnings:<br/>[1] Standard Errors assume that the covariance matrix of the errors is correctly specified."
      ],
      "text/plain": [
       "<class 'statsmodels.iolib.summary.Summary'>\n",
       "\"\"\"\n",
       "                                 OLS Regression Results                                \n",
       "=======================================================================================\n",
       "Dep. Variable:               count_yt   R-squared (uncentered):                   1.000\n",
       "Model:                            OLS   Adj. R-squared (uncentered):              1.000\n",
       "Method:                 Least Squares   F-statistic:                          6.343e+06\n",
       "Date:                Fri, 13 Nov 2020   Prob (F-statistic):                        0.00\n",
       "Time:                        18:02:25   Log-Likelihood:                          495.32\n",
       "No. Observations:                 242   AIC:                                     -982.6\n",
       "Df Residuals:                     238   BIC:                                     -968.7\n",
       "Df Model:                           4                                                  \n",
       "Covariance Type:            nonrobust                                                  \n",
       "=================================================================================\n",
       "                    coef    std err          t      P>|t|      [0.025      0.975]\n",
       "---------------------------------------------------------------------------------\n",
       "count_subs        0.4829      0.023     20.942      0.000       0.437       0.528\n",
       "count_yt_lag      0.4021      0.029     14.081      0.000       0.346       0.458\n",
       "treat             0.0184      0.006      2.889      0.004       0.006       0.031\n",
       "dist_to_treat    -0.0010   8.93e-05    -10.805      0.000      -0.001      -0.001\n",
       "==============================================================================\n",
       "Omnibus:                        6.244   Durbin-Watson:                   1.418\n",
       "Prob(Omnibus):                  0.044   Jarque-Bera (JB):                6.880\n",
       "Skew:                          -0.253   Prob(JB):                       0.0321\n",
       "Kurtosis:                       3.653   Cond. No.                         976.\n",
       "==============================================================================\n",
       "\n",
       "Warnings:\n",
       "[1] Standard Errors assume that the covariance matrix of the errors is correctly specified.\n",
       "\"\"\""
      ]
     },
     "execution_count": 63,
     "metadata": {},
     "output_type": "execute_result"
    }
   ],
   "source": [
    "exog = sharing_reddit_daily_df_[[\n",
    "    \"count_subs\",\n",
    "    \"count_yt_lag\",\n",
    "    \"treat\",\n",
    "    \"dist_to_treat\"\n",
    "]].copy()\n",
    "\n",
    "exog[\"count_subs\"] = np.log(exog[\"count_subs\"] + 1)\n",
    "exog[\"count_yt_lag\"] = np.log(exog[\"count_yt_lag\"] + 1)\n",
    "\n",
    "mod = sm.OLS(np.log(sharing_reddit_daily_df_[[\"count_yt\"]] + 1), exog)\n",
    "res = mod.fit()\n",
    "\n",
    "res.summary()"
   ]
  },
  {
   "cell_type": "code",
   "execution_count": 64,
   "metadata": {},
   "outputs": [
    {
     "data": {
      "text/html": [
       "<table class=\"simpletable\">\n",
       "<caption>OLS Regression Results</caption>\n",
       "<tr>\n",
       "  <th>Dep. Variable:</th>        <td>count_ain</td>    <th>  R-squared (uncentered):</th>      <td>   0.995</td> \n",
       "</tr>\n",
       "<tr>\n",
       "  <th>Model:</th>                   <td>OLS</td>       <th>  Adj. R-squared (uncentered):</th> <td>   0.995</td> \n",
       "</tr>\n",
       "<tr>\n",
       "  <th>Method:</th>             <td>Least Squares</td>  <th>  F-statistic:       </th>          <td>1.296e+04</td>\n",
       "</tr>\n",
       "<tr>\n",
       "  <th>Date:</th>             <td>Fri, 13 Nov 2020</td> <th>  Prob (F-statistic):</th>          <td>4.10e-277</td>\n",
       "</tr>\n",
       "<tr>\n",
       "  <th>Time:</th>                 <td>18:02:25</td>     <th>  Log-Likelihood:    </th>          <td> -47.641</td> \n",
       "</tr>\n",
       "<tr>\n",
       "  <th>No. Observations:</th>      <td>   242</td>      <th>  AIC:               </th>          <td>   103.3</td> \n",
       "</tr>\n",
       "<tr>\n",
       "  <th>Df Residuals:</th>          <td>   238</td>      <th>  BIC:               </th>          <td>   117.2</td> \n",
       "</tr>\n",
       "<tr>\n",
       "  <th>Df Model:</th>              <td>     4</td>      <th>                     </th>              <td> </td>    \n",
       "</tr>\n",
       "<tr>\n",
       "  <th>Covariance Type:</th>      <td>nonrobust</td>    <th>                     </th>              <td> </td>    \n",
       "</tr>\n",
       "</table>\n",
       "<table class=\"simpletable\">\n",
       "<tr>\n",
       "        <td></td>           <th>coef</th>     <th>std err</th>      <th>t</th>      <th>P>|t|</th>  <th>[0.025</th>    <th>0.975]</th>  \n",
       "</tr>\n",
       "<tr>\n",
       "  <th>count_yt</th>      <td>    0.1073</td> <td>    0.019</td> <td>    5.728</td> <td> 0.000</td> <td>    0.070</td> <td>    0.144</td>\n",
       "</tr>\n",
       "<tr>\n",
       "  <th>count_ain_lag</th> <td>    0.7554</td> <td>    0.042</td> <td>   17.796</td> <td> 0.000</td> <td>    0.672</td> <td>    0.839</td>\n",
       "</tr>\n",
       "<tr>\n",
       "  <th>treat</th>         <td>    0.1237</td> <td>    0.063</td> <td>    1.966</td> <td> 0.050</td> <td>   -0.000</td> <td>    0.248</td>\n",
       "</tr>\n",
       "<tr>\n",
       "  <th>dist_to_treat</th> <td>   -0.0033</td> <td>    0.001</td> <td>   -3.741</td> <td> 0.000</td> <td>   -0.005</td> <td>   -0.002</td>\n",
       "</tr>\n",
       "</table>\n",
       "<table class=\"simpletable\">\n",
       "<tr>\n",
       "  <th>Omnibus:</th>       <td> 1.606</td> <th>  Durbin-Watson:     </th> <td>   2.224</td>\n",
       "</tr>\n",
       "<tr>\n",
       "  <th>Prob(Omnibus):</th> <td> 0.448</td> <th>  Jarque-Bera (JB):  </th> <td>   1.339</td>\n",
       "</tr>\n",
       "<tr>\n",
       "  <th>Skew:</th>          <td>-0.171</td> <th>  Prob(JB):          </th> <td>   0.512</td>\n",
       "</tr>\n",
       "<tr>\n",
       "  <th>Kurtosis:</th>      <td> 3.124</td> <th>  Cond. No.          </th> <td>    184.</td>\n",
       "</tr>\n",
       "</table><br/><br/>Warnings:<br/>[1] Standard Errors assume that the covariance matrix of the errors is correctly specified."
      ],
      "text/plain": [
       "<class 'statsmodels.iolib.summary.Summary'>\n",
       "\"\"\"\n",
       "                                 OLS Regression Results                                \n",
       "=======================================================================================\n",
       "Dep. Variable:              count_ain   R-squared (uncentered):                   0.995\n",
       "Model:                            OLS   Adj. R-squared (uncentered):              0.995\n",
       "Method:                 Least Squares   F-statistic:                          1.296e+04\n",
       "Date:                Fri, 13 Nov 2020   Prob (F-statistic):                   4.10e-277\n",
       "Time:                        18:02:25   Log-Likelihood:                         -47.641\n",
       "No. Observations:                 242   AIC:                                      103.3\n",
       "Df Residuals:                     238   BIC:                                      117.2\n",
       "Df Model:                           4                                                  \n",
       "Covariance Type:            nonrobust                                                  \n",
       "=================================================================================\n",
       "                    coef    std err          t      P>|t|      [0.025      0.975]\n",
       "---------------------------------------------------------------------------------\n",
       "count_yt          0.1073      0.019      5.728      0.000       0.070       0.144\n",
       "count_ain_lag     0.7554      0.042     17.796      0.000       0.672       0.839\n",
       "treat             0.1237      0.063      1.966      0.050      -0.000       0.248\n",
       "dist_to_treat    -0.0033      0.001     -3.741      0.000      -0.005      -0.002\n",
       "==============================================================================\n",
       "Omnibus:                        1.606   Durbin-Watson:                   2.224\n",
       "Prob(Omnibus):                  0.448   Jarque-Bera (JB):                1.339\n",
       "Skew:                          -0.171   Prob(JB):                        0.512\n",
       "Kurtosis:                       3.124   Cond. No.                         184.\n",
       "==============================================================================\n",
       "\n",
       "Warnings:\n",
       "[1] Standard Errors assume that the covariance matrix of the errors is correctly specified.\n",
       "\"\"\""
      ]
     },
     "execution_count": 64,
     "metadata": {},
     "output_type": "execute_result"
    }
   ],
   "source": [
    "exog = sharing_reddit_daily_df_[[\n",
    "    \"count_yt\",\n",
    "    \"count_ain_lag\",\n",
    "    \"treat\",\n",
    "    \"dist_to_treat\"\n",
    "]].copy()\n",
    "\n",
    "exog[\"count_yt\"] = np.log(exog[\"count_yt\"] + 1)\n",
    "exog[\"count_ain_lag\"] = np.log(exog[\"count_ain_lag\"] + 1)\n",
    "\n",
    "mod = sm.OLS(np.log(sharing_reddit_daily_df_[[\"count_ain\"]] + 1), exog)\n",
    "res = mod.fit()\n",
    "\n",
    "res.summary()"
   ]
  },
  {
   "cell_type": "code",
   "execution_count": 65,
   "metadata": {},
   "outputs": [
    {
     "name": "stdout",
     "output_type": "stream",
     "text": [
      "count_yt         3.052550e-08\n",
      "count_ain_lag    1.267065e-45\n",
      "treat            5.044268e-02\n",
      "dist_to_treat    2.297341e-04\n",
      "dtype: float64\n"
     ]
    }
   ],
   "source": [
    "print(res.pvalues)"
   ]
  },
  {
   "cell_type": "code",
   "execution_count": null,
   "metadata": {},
   "outputs": [],
   "source": []
  },
  {
   "cell_type": "code",
   "execution_count": 67,
   "metadata": {},
   "outputs": [
    {
     "data": {
      "text/html": [
       "<table class=\"simpletable\">\n",
       "<caption>OLS Regression Results</caption>\n",
       "<tr>\n",
       "  <th>Dep. Variable:</th>       <td>count_cons</td>    <th>  R-squared (uncentered):</th>      <td>   0.985</td> \n",
       "</tr>\n",
       "<tr>\n",
       "  <th>Model:</th>                   <td>OLS</td>       <th>  Adj. R-squared (uncentered):</th> <td>   0.984</td> \n",
       "</tr>\n",
       "<tr>\n",
       "  <th>Method:</th>             <td>Least Squares</td>  <th>  F-statistic:       </th>          <td>   3832.</td> \n",
       "</tr>\n",
       "<tr>\n",
       "  <th>Date:</th>             <td>Fri, 13 Nov 2020</td> <th>  Prob (F-statistic):</th>          <td>1.04e-214</td>\n",
       "</tr>\n",
       "<tr>\n",
       "  <th>Time:</th>                 <td>18:02:32</td>     <th>  Log-Likelihood:    </th>          <td> -131.07</td> \n",
       "</tr>\n",
       "<tr>\n",
       "  <th>No. Observations:</th>      <td>   242</td>      <th>  AIC:               </th>          <td>   270.1</td> \n",
       "</tr>\n",
       "<tr>\n",
       "  <th>Df Residuals:</th>          <td>   238</td>      <th>  BIC:               </th>          <td>   284.1</td> \n",
       "</tr>\n",
       "<tr>\n",
       "  <th>Df Model:</th>              <td>     4</td>      <th>                     </th>              <td> </td>    \n",
       "</tr>\n",
       "<tr>\n",
       "  <th>Covariance Type:</th>      <td>nonrobust</td>    <th>                     </th>              <td> </td>    \n",
       "</tr>\n",
       "</table>\n",
       "<table class=\"simpletable\">\n",
       "<tr>\n",
       "         <td></td>           <th>coef</th>     <th>std err</th>      <th>t</th>      <th>P>|t|</th>  <th>[0.025</th>    <th>0.975]</th>  \n",
       "</tr>\n",
       "<tr>\n",
       "  <th>count_yt</th>       <td>    0.1843</td> <td>    0.020</td> <td>    9.210</td> <td> 0.000</td> <td>    0.145</td> <td>    0.224</td>\n",
       "</tr>\n",
       "<tr>\n",
       "  <th>count_cons_lag</th> <td>    0.4815</td> <td>    0.056</td> <td>    8.645</td> <td> 0.000</td> <td>    0.372</td> <td>    0.591</td>\n",
       "</tr>\n",
       "<tr>\n",
       "  <th>treat</th>          <td>    0.0586</td> <td>    0.085</td> <td>    0.693</td> <td> 0.489</td> <td>   -0.108</td> <td>    0.225</td>\n",
       "</tr>\n",
       "<tr>\n",
       "  <th>dist_to_treat</th>  <td>   -0.0059</td> <td>    0.001</td> <td>   -4.874</td> <td> 0.000</td> <td>   -0.008</td> <td>   -0.004</td>\n",
       "</tr>\n",
       "</table>\n",
       "<table class=\"simpletable\">\n",
       "<tr>\n",
       "  <th>Omnibus:</th>       <td>20.997</td> <th>  Durbin-Watson:     </th> <td>   2.301</td>\n",
       "</tr>\n",
       "<tr>\n",
       "  <th>Prob(Omnibus):</th> <td> 0.000</td> <th>  Jarque-Bera (JB):  </th> <td>  42.165</td>\n",
       "</tr>\n",
       "<tr>\n",
       "  <th>Skew:</th>          <td>-0.438</td> <th>  Prob(JB):          </th> <td>6.98e-10</td>\n",
       "</tr>\n",
       "<tr>\n",
       "  <th>Kurtosis:</th>      <td> 4.848</td> <th>  Cond. No.          </th> <td>    168.</td>\n",
       "</tr>\n",
       "</table><br/><br/>Warnings:<br/>[1] Standard Errors assume that the covariance matrix of the errors is correctly specified."
      ],
      "text/plain": [
       "<class 'statsmodels.iolib.summary.Summary'>\n",
       "\"\"\"\n",
       "                                 OLS Regression Results                                \n",
       "=======================================================================================\n",
       "Dep. Variable:             count_cons   R-squared (uncentered):                   0.985\n",
       "Model:                            OLS   Adj. R-squared (uncentered):              0.984\n",
       "Method:                 Least Squares   F-statistic:                              3832.\n",
       "Date:                Fri, 13 Nov 2020   Prob (F-statistic):                   1.04e-214\n",
       "Time:                        18:02:32   Log-Likelihood:                         -131.07\n",
       "No. Observations:                 242   AIC:                                      270.1\n",
       "Df Residuals:                     238   BIC:                                      284.1\n",
       "Df Model:                           4                                                  \n",
       "Covariance Type:            nonrobust                                                  \n",
       "==================================================================================\n",
       "                     coef    std err          t      P>|t|      [0.025      0.975]\n",
       "----------------------------------------------------------------------------------\n",
       "count_yt           0.1843      0.020      9.210      0.000       0.145       0.224\n",
       "count_cons_lag     0.4815      0.056      8.645      0.000       0.372       0.591\n",
       "treat              0.0586      0.085      0.693      0.489      -0.108       0.225\n",
       "dist_to_treat     -0.0059      0.001     -4.874      0.000      -0.008      -0.004\n",
       "==============================================================================\n",
       "Omnibus:                       20.997   Durbin-Watson:                   2.301\n",
       "Prob(Omnibus):                  0.000   Jarque-Bera (JB):               42.165\n",
       "Skew:                          -0.438   Prob(JB):                     6.98e-10\n",
       "Kurtosis:                       4.848   Cond. No.                         168.\n",
       "==============================================================================\n",
       "\n",
       "Warnings:\n",
       "[1] Standard Errors assume that the covariance matrix of the errors is correctly specified.\n",
       "\"\"\""
      ]
     },
     "execution_count": 67,
     "metadata": {},
     "output_type": "execute_result"
    }
   ],
   "source": [
    "exog = sharing_reddit_daily_df_[[\n",
    "    \"count_yt\",\n",
    "    \"count_cons_lag\",\n",
    "    \"treat\",\n",
    "    \"dist_to_treat\"\n",
    "]].copy()\n",
    "\n",
    "exog[\"count_yt\"] = np.log(exog[\"count_yt\"] + 1)\n",
    "exog[\"count_cons_lag\"] = np.log(exog[\"count_cons_lag\"] + 1)\n",
    "\n",
    "mod = sm.OLS(np.log(sharing_reddit_daily_df_[[\"count_cons\"]] + 1), exog)\n",
    "res = mod.fit()\n",
    "\n",
    "res.summary()"
   ]
  },
  {
   "cell_type": "code",
   "execution_count": 68,
   "metadata": {},
   "outputs": [
    {
     "name": "stdout",
     "output_type": "stream",
     "text": [
      "count_yt          1.752154e-17\n",
      "count_cons_lag    8.025190e-16\n",
      "treat             4.892541e-01\n",
      "dist_to_treat     2.002890e-06\n",
      "dtype: float64\n"
     ]
    }
   ],
   "source": [
    "print(res.pvalues)"
   ]
  },
  {
   "cell_type": "code",
   "execution_count": null,
   "metadata": {},
   "outputs": [],
   "source": []
  },
  {
   "cell_type": "code",
   "execution_count": 69,
   "metadata": {},
   "outputs": [
    {
     "data": {
      "text/html": [
       "<table class=\"simpletable\">\n",
       "<caption>OLS Regression Results</caption>\n",
       "<tr>\n",
       "  <th>Dep. Variable:</th>        <td>count_msm</td>    <th>  R-squared (uncentered):</th>      <td>   0.998</td> \n",
       "</tr>\n",
       "<tr>\n",
       "  <th>Model:</th>                   <td>OLS</td>       <th>  Adj. R-squared (uncentered):</th> <td>   0.998</td> \n",
       "</tr>\n",
       "<tr>\n",
       "  <th>Method:</th>             <td>Least Squares</td>  <th>  F-statistic:       </th>          <td>3.247e+04</td>\n",
       "</tr>\n",
       "<tr>\n",
       "  <th>Date:</th>             <td>Fri, 13 Nov 2020</td> <th>  Prob (F-statistic):</th>           <td>  0.00</td>  \n",
       "</tr>\n",
       "<tr>\n",
       "  <th>Time:</th>                 <td>18:02:32</td>     <th>  Log-Likelihood:    </th>          <td>  36.510</td> \n",
       "</tr>\n",
       "<tr>\n",
       "  <th>No. Observations:</th>      <td>   242</td>      <th>  AIC:               </th>          <td>  -65.02</td> \n",
       "</tr>\n",
       "<tr>\n",
       "  <th>Df Residuals:</th>          <td>   238</td>      <th>  BIC:               </th>          <td>  -51.06</td> \n",
       "</tr>\n",
       "<tr>\n",
       "  <th>Df Model:</th>              <td>     4</td>      <th>                     </th>              <td> </td>    \n",
       "</tr>\n",
       "<tr>\n",
       "  <th>Covariance Type:</th>      <td>nonrobust</td>    <th>                     </th>              <td> </td>    \n",
       "</tr>\n",
       "</table>\n",
       "<table class=\"simpletable\">\n",
       "<tr>\n",
       "        <td></td>           <th>coef</th>     <th>std err</th>      <th>t</th>      <th>P>|t|</th>  <th>[0.025</th>    <th>0.975]</th>  \n",
       "</tr>\n",
       "<tr>\n",
       "  <th>count_yt</th>      <td>    0.3214</td> <td>    0.027</td> <td>   11.783</td> <td> 0.000</td> <td>    0.268</td> <td>    0.375</td>\n",
       "</tr>\n",
       "<tr>\n",
       "  <th>count_msm_lag</th> <td>    0.3068</td> <td>    0.059</td> <td>    5.223</td> <td> 0.000</td> <td>    0.191</td> <td>    0.422</td>\n",
       "</tr>\n",
       "<tr>\n",
       "  <th>treat</th>         <td>    0.0971</td> <td>    0.043</td> <td>    2.265</td> <td> 0.024</td> <td>    0.013</td> <td>    0.182</td>\n",
       "</tr>\n",
       "<tr>\n",
       "  <th>dist_to_treat</th> <td>    0.0012</td> <td>    0.001</td> <td>    2.254</td> <td> 0.025</td> <td>    0.000</td> <td>    0.002</td>\n",
       "</tr>\n",
       "</table>\n",
       "<table class=\"simpletable\">\n",
       "<tr>\n",
       "  <th>Omnibus:</th>       <td> 0.310</td> <th>  Durbin-Watson:     </th> <td>   1.848</td>\n",
       "</tr>\n",
       "<tr>\n",
       "  <th>Prob(Omnibus):</th> <td> 0.856</td> <th>  Jarque-Bera (JB):  </th> <td>   0.361</td>\n",
       "</tr>\n",
       "<tr>\n",
       "  <th>Skew:</th>          <td>-0.085</td> <th>  Prob(JB):          </th> <td>   0.835</td>\n",
       "</tr>\n",
       "<tr>\n",
       "  <th>Kurtosis:</th>      <td> 2.916</td> <th>  Cond. No.          </th> <td>    259.</td>\n",
       "</tr>\n",
       "</table><br/><br/>Warnings:<br/>[1] Standard Errors assume that the covariance matrix of the errors is correctly specified."
      ],
      "text/plain": [
       "<class 'statsmodels.iolib.summary.Summary'>\n",
       "\"\"\"\n",
       "                                 OLS Regression Results                                \n",
       "=======================================================================================\n",
       "Dep. Variable:              count_msm   R-squared (uncentered):                   0.998\n",
       "Model:                            OLS   Adj. R-squared (uncentered):              0.998\n",
       "Method:                 Least Squares   F-statistic:                          3.247e+04\n",
       "Date:                Fri, 13 Nov 2020   Prob (F-statistic):                        0.00\n",
       "Time:                        18:02:32   Log-Likelihood:                          36.510\n",
       "No. Observations:                 242   AIC:                                     -65.02\n",
       "Df Residuals:                     238   BIC:                                     -51.06\n",
       "Df Model:                           4                                                  \n",
       "Covariance Type:            nonrobust                                                  \n",
       "=================================================================================\n",
       "                    coef    std err          t      P>|t|      [0.025      0.975]\n",
       "---------------------------------------------------------------------------------\n",
       "count_yt          0.3214      0.027     11.783      0.000       0.268       0.375\n",
       "count_msm_lag     0.3068      0.059      5.223      0.000       0.191       0.422\n",
       "treat             0.0971      0.043      2.265      0.024       0.013       0.182\n",
       "dist_to_treat     0.0012      0.001      2.254      0.025       0.000       0.002\n",
       "==============================================================================\n",
       "Omnibus:                        0.310   Durbin-Watson:                   1.848\n",
       "Prob(Omnibus):                  0.856   Jarque-Bera (JB):                0.361\n",
       "Skew:                          -0.085   Prob(JB):                        0.835\n",
       "Kurtosis:                       2.916   Cond. No.                         259.\n",
       "==============================================================================\n",
       "\n",
       "Warnings:\n",
       "[1] Standard Errors assume that the covariance matrix of the errors is correctly specified.\n",
       "\"\"\""
      ]
     },
     "execution_count": 69,
     "metadata": {},
     "output_type": "execute_result"
    }
   ],
   "source": [
    "exog = sharing_reddit_daily_df_[[\n",
    "    \"count_yt\",\n",
    "    \"count_msm_lag\",\n",
    "    \"treat\",\n",
    "    \"dist_to_treat\"\n",
    "]].copy()\n",
    "\n",
    "exog[\"count_yt\"] = np.log(exog[\"count_yt\"] + 1)\n",
    "exog[\"count_msm_lag\"] = np.log(exog[\"count_msm_lag\"] + 1)\n",
    "\n",
    "mod = sm.OLS(np.log(sharing_reddit_daily_df_[[\"count_msm\"]] + 1), exog)\n",
    "res = mod.fit()\n",
    "\n",
    "res.summary()"
   ]
  },
  {
   "cell_type": "code",
   "execution_count": 70,
   "metadata": {},
   "outputs": [
    {
     "name": "stdout",
     "output_type": "stream",
     "text": [
      "count_yt         1.500009e-25\n",
      "count_msm_lag    3.834153e-07\n",
      "treat            2.439425e-02\n",
      "dist_to_treat    2.511045e-02\n",
      "dtype: float64\n"
     ]
    }
   ],
   "source": [
    "print(res.pvalues)"
   ]
  },
  {
   "cell_type": "code",
   "execution_count": null,
   "metadata": {},
   "outputs": [],
   "source": []
  },
  {
   "cell_type": "code",
   "execution_count": 71,
   "metadata": {},
   "outputs": [
    {
     "data": {
      "text/html": [
       "<table class=\"simpletable\">\n",
       "<caption>OLS Regression Results</caption>\n",
       "<tr>\n",
       "  <th>Dep. Variable:</th>       <td>count_cchan</td>   <th>  R-squared (uncentered):</th>      <td>   0.997</td> \n",
       "</tr>\n",
       "<tr>\n",
       "  <th>Model:</th>                   <td>OLS</td>       <th>  Adj. R-squared (uncentered):</th> <td>   0.996</td> \n",
       "</tr>\n",
       "<tr>\n",
       "  <th>Method:</th>             <td>Least Squares</td>  <th>  F-statistic:       </th>          <td>1.712e+04</td>\n",
       "</tr>\n",
       "<tr>\n",
       "  <th>Date:</th>             <td>Fri, 13 Nov 2020</td> <th>  Prob (F-statistic):</th>          <td>1.96e-291</td>\n",
       "</tr>\n",
       "<tr>\n",
       "  <th>Time:</th>                 <td>18:02:32</td>     <th>  Log-Likelihood:    </th>          <td>  8.3958</td> \n",
       "</tr>\n",
       "<tr>\n",
       "  <th>No. Observations:</th>      <td>   242</td>      <th>  AIC:               </th>          <td>  -8.792</td> \n",
       "</tr>\n",
       "<tr>\n",
       "  <th>Df Residuals:</th>          <td>   238</td>      <th>  BIC:               </th>          <td>   5.164</td> \n",
       "</tr>\n",
       "<tr>\n",
       "  <th>Df Model:</th>              <td>     4</td>      <th>                     </th>              <td> </td>    \n",
       "</tr>\n",
       "<tr>\n",
       "  <th>Covariance Type:</th>      <td>nonrobust</td>    <th>                     </th>              <td> </td>    \n",
       "</tr>\n",
       "</table>\n",
       "<table class=\"simpletable\">\n",
       "<tr>\n",
       "         <td></td>            <th>coef</th>     <th>std err</th>      <th>t</th>      <th>P>|t|</th>  <th>[0.025</th>    <th>0.975]</th>  \n",
       "</tr>\n",
       "<tr>\n",
       "  <th>count_yt</th>        <td>    0.3169</td> <td>    0.024</td> <td>   13.484</td> <td> 0.000</td> <td>    0.271</td> <td>    0.363</td>\n",
       "</tr>\n",
       "<tr>\n",
       "  <th>count_cchan_lag</th> <td>    0.1696</td> <td>    0.062</td> <td>    2.756</td> <td> 0.006</td> <td>    0.048</td> <td>    0.291</td>\n",
       "</tr>\n",
       "<tr>\n",
       "  <th>treat</th>           <td>    0.1627</td> <td>    0.049</td> <td>    3.318</td> <td> 0.001</td> <td>    0.066</td> <td>    0.259</td>\n",
       "</tr>\n",
       "<tr>\n",
       "  <th>dist_to_treat</th>   <td>   -0.0008</td> <td>    0.001</td> <td>   -1.434</td> <td> 0.153</td> <td>   -0.002</td> <td>    0.000</td>\n",
       "</tr>\n",
       "</table>\n",
       "<table class=\"simpletable\">\n",
       "<tr>\n",
       "  <th>Omnibus:</th>       <td> 2.036</td> <th>  Durbin-Watson:     </th> <td>   1.973</td>\n",
       "</tr>\n",
       "<tr>\n",
       "  <th>Prob(Omnibus):</th> <td> 0.361</td> <th>  Jarque-Bera (JB):  </th> <td>   1.698</td>\n",
       "</tr>\n",
       "<tr>\n",
       "  <th>Skew:</th>          <td>-0.151</td> <th>  Prob(JB):          </th> <td>   0.428</td>\n",
       "</tr>\n",
       "<tr>\n",
       "  <th>Kurtosis:</th>      <td> 3.277</td> <th>  Cond. No.          </th> <td>    240.</td>\n",
       "</tr>\n",
       "</table><br/><br/>Warnings:<br/>[1] Standard Errors assume that the covariance matrix of the errors is correctly specified."
      ],
      "text/plain": [
       "<class 'statsmodels.iolib.summary.Summary'>\n",
       "\"\"\"\n",
       "                                 OLS Regression Results                                \n",
       "=======================================================================================\n",
       "Dep. Variable:            count_cchan   R-squared (uncentered):                   0.997\n",
       "Model:                            OLS   Adj. R-squared (uncentered):              0.996\n",
       "Method:                 Least Squares   F-statistic:                          1.712e+04\n",
       "Date:                Fri, 13 Nov 2020   Prob (F-statistic):                   1.96e-291\n",
       "Time:                        18:02:32   Log-Likelihood:                          8.3958\n",
       "No. Observations:                 242   AIC:                                     -8.792\n",
       "Df Residuals:                     238   BIC:                                      5.164\n",
       "Df Model:                           4                                                  \n",
       "Covariance Type:            nonrobust                                                  \n",
       "===================================================================================\n",
       "                      coef    std err          t      P>|t|      [0.025      0.975]\n",
       "-----------------------------------------------------------------------------------\n",
       "count_yt            0.3169      0.024     13.484      0.000       0.271       0.363\n",
       "count_cchan_lag     0.1696      0.062      2.756      0.006       0.048       0.291\n",
       "treat               0.1627      0.049      3.318      0.001       0.066       0.259\n",
       "dist_to_treat      -0.0008      0.001     -1.434      0.153      -0.002       0.000\n",
       "==============================================================================\n",
       "Omnibus:                        2.036   Durbin-Watson:                   1.973\n",
       "Prob(Omnibus):                  0.361   Jarque-Bera (JB):                1.698\n",
       "Skew:                          -0.151   Prob(JB):                        0.428\n",
       "Kurtosis:                       3.277   Cond. No.                         240.\n",
       "==============================================================================\n",
       "\n",
       "Warnings:\n",
       "[1] Standard Errors assume that the covariance matrix of the errors is correctly specified.\n",
       "\"\"\""
      ]
     },
     "execution_count": 71,
     "metadata": {},
     "output_type": "execute_result"
    }
   ],
   "source": [
    "exog = sharing_reddit_daily_df_[[\n",
    "    \"count_yt\",\n",
    "    \"count_cchan_lag\",\n",
    "    \"treat\",\n",
    "    \"dist_to_treat\"\n",
    "]].copy()\n",
    "\n",
    "exog[\"count_yt\"] = np.log(exog[\"count_yt\"] + 1)\n",
    "exog[\"count_cchan_lag\"] = np.log(exog[\"count_cchan_lag\"] + 1)\n",
    "\n",
    "mod = sm.OLS(np.log(sharing_reddit_daily_df_[[\"count_cchan\"]] + 1), exog)\n",
    "res = mod.fit()\n",
    "\n",
    "res.summary()"
   ]
  },
  {
   "cell_type": "code",
   "execution_count": 72,
   "metadata": {},
   "outputs": [
    {
     "name": "stdout",
     "output_type": "stream",
     "text": [
      "count_yt           3.647651e-31\n",
      "count_cchan_lag    6.312239e-03\n",
      "treat              1.047746e-03\n",
      "dist_to_treat      1.528555e-01\n",
      "dtype: float64\n"
     ]
    }
   ],
   "source": [
    "print(res.pvalues)"
   ]
  },
  {
   "cell_type": "markdown",
   "metadata": {},
   "source": [
    "# Impact in Twitter"
   ]
  },
  {
   "cell_type": "code",
   "execution_count": 73,
   "metadata": {},
   "outputs": [
    {
     "data": {
      "text/html": [
       "<table class=\"simpletable\">\n",
       "<caption>OLS Regression Results</caption>\n",
       "<tr>\n",
       "  <th>Dep. Variable:</th>        <td>count_yt</td>     <th>  R-squared (uncentered):</th>      <td>   1.000</td> \n",
       "</tr>\n",
       "<tr>\n",
       "  <th>Model:</th>                   <td>OLS</td>       <th>  Adj. R-squared (uncentered):</th> <td>   1.000</td> \n",
       "</tr>\n",
       "<tr>\n",
       "  <th>Method:</th>             <td>Least Squares</td>  <th>  F-statistic:       </th>          <td>1.031e+06</td>\n",
       "</tr>\n",
       "<tr>\n",
       "  <th>Date:</th>             <td>Fri, 13 Nov 2020</td> <th>  Prob (F-statistic):</th>           <td>  0.00</td>  \n",
       "</tr>\n",
       "<tr>\n",
       "  <th>Time:</th>                 <td>18:02:32</td>     <th>  Log-Likelihood:    </th>          <td>  278.29</td> \n",
       "</tr>\n",
       "<tr>\n",
       "  <th>No. Observations:</th>      <td>   242</td>      <th>  AIC:               </th>          <td>  -548.6</td> \n",
       "</tr>\n",
       "<tr>\n",
       "  <th>Df Residuals:</th>          <td>   238</td>      <th>  BIC:               </th>          <td>  -534.6</td> \n",
       "</tr>\n",
       "<tr>\n",
       "  <th>Df Model:</th>              <td>     4</td>      <th>                     </th>              <td> </td>    \n",
       "</tr>\n",
       "<tr>\n",
       "  <th>Covariance Type:</th>      <td>nonrobust</td>    <th>                     </th>              <td> </td>    \n",
       "</tr>\n",
       "</table>\n",
       "<table class=\"simpletable\">\n",
       "<tr>\n",
       "        <td></td>           <th>coef</th>     <th>std err</th>      <th>t</th>      <th>P>|t|</th>  <th>[0.025</th>    <th>0.975]</th>  \n",
       "</tr>\n",
       "<tr>\n",
       "  <th>count_tweets</th>  <td>    0.3163</td> <td>    0.033</td> <td>    9.619</td> <td> 0.000</td> <td>    0.252</td> <td>    0.381</td>\n",
       "</tr>\n",
       "<tr>\n",
       "  <th>count_yt_lag</th>  <td>    0.5378</td> <td>    0.048</td> <td>   11.194</td> <td> 0.000</td> <td>    0.443</td> <td>    0.632</td>\n",
       "</tr>\n",
       "<tr>\n",
       "  <th>treat</th>         <td>   -0.1766</td> <td>    0.023</td> <td>   -7.704</td> <td> 0.000</td> <td>   -0.222</td> <td>   -0.131</td>\n",
       "</tr>\n",
       "<tr>\n",
       "  <th>dist_to_treat</th> <td>   -0.0002</td> <td>    0.000</td> <td>   -0.884</td> <td> 0.377</td> <td>   -0.001</td> <td>    0.000</td>\n",
       "</tr>\n",
       "</table>\n",
       "<table class=\"simpletable\">\n",
       "<tr>\n",
       "  <th>Omnibus:</th>       <td>29.163</td> <th>  Durbin-Watson:     </th> <td>   2.219</td>\n",
       "</tr>\n",
       "<tr>\n",
       "  <th>Prob(Omnibus):</th> <td> 0.000</td> <th>  Jarque-Bera (JB):  </th> <td>  44.285</td>\n",
       "</tr>\n",
       "<tr>\n",
       "  <th>Skew:</th>          <td> 0.725</td> <th>  Prob(JB):          </th> <td>2.42e-10</td>\n",
       "</tr>\n",
       "<tr>\n",
       "  <th>Kurtosis:</th>      <td> 4.514</td> <th>  Cond. No.          </th> <td>    662.</td>\n",
       "</tr>\n",
       "</table><br/><br/>Warnings:<br/>[1] Standard Errors assume that the covariance matrix of the errors is correctly specified."
      ],
      "text/plain": [
       "<class 'statsmodels.iolib.summary.Summary'>\n",
       "\"\"\"\n",
       "                                 OLS Regression Results                                \n",
       "=======================================================================================\n",
       "Dep. Variable:               count_yt   R-squared (uncentered):                   1.000\n",
       "Model:                            OLS   Adj. R-squared (uncentered):              1.000\n",
       "Method:                 Least Squares   F-statistic:                          1.031e+06\n",
       "Date:                Fri, 13 Nov 2020   Prob (F-statistic):                        0.00\n",
       "Time:                        18:02:32   Log-Likelihood:                          278.29\n",
       "No. Observations:                 242   AIC:                                     -548.6\n",
       "Df Residuals:                     238   BIC:                                     -534.6\n",
       "Df Model:                           4                                                  \n",
       "Covariance Type:            nonrobust                                                  \n",
       "=================================================================================\n",
       "                    coef    std err          t      P>|t|      [0.025      0.975]\n",
       "---------------------------------------------------------------------------------\n",
       "count_tweets      0.3163      0.033      9.619      0.000       0.252       0.381\n",
       "count_yt_lag      0.5378      0.048     11.194      0.000       0.443       0.632\n",
       "treat            -0.1766      0.023     -7.704      0.000      -0.222      -0.131\n",
       "dist_to_treat    -0.0002      0.000     -0.884      0.377      -0.001       0.000\n",
       "==============================================================================\n",
       "Omnibus:                       29.163   Durbin-Watson:                   2.219\n",
       "Prob(Omnibus):                  0.000   Jarque-Bera (JB):               44.285\n",
       "Skew:                           0.725   Prob(JB):                     2.42e-10\n",
       "Kurtosis:                       4.514   Cond. No.                         662.\n",
       "==============================================================================\n",
       "\n",
       "Warnings:\n",
       "[1] Standard Errors assume that the covariance matrix of the errors is correctly specified.\n",
       "\"\"\""
      ]
     },
     "execution_count": 73,
     "metadata": {},
     "output_type": "execute_result"
    }
   ],
   "source": [
    "exog = sharing_twitter_daily_df_[[\n",
    "    \"count_tweets\",\n",
    "    \"count_yt_lag\",\n",
    "    \"treat\",\n",
    "    \"dist_to_treat\"\n",
    "]].copy()\n",
    "\n",
    "exog[\"count_tweets\"] = np.log(exog[\"count_tweets\"] + 1)\n",
    "exog[\"count_yt_lag\"] = np.log(exog[\"count_yt_lag\"] + 1)\n",
    "\n",
    "mod = sm.OLS(np.log(sharing_twitter_daily_df_[[\"count_yt\"]] + 1), exog)\n",
    "res = mod.fit()\n",
    "\n",
    "res.summary()"
   ]
  },
  {
   "cell_type": "code",
   "execution_count": 74,
   "metadata": {},
   "outputs": [
    {
     "name": "stdout",
     "output_type": "stream",
     "text": [
      "count_tweets     1.026483e-18\n",
      "count_yt_lag     1.207698e-23\n",
      "treat            3.535966e-13\n",
      "dist_to_treat    3.773720e-01\n",
      "dtype: float64\n"
     ]
    }
   ],
   "source": [
    "print(res.pvalues)"
   ]
  },
  {
   "cell_type": "code",
   "execution_count": null,
   "metadata": {},
   "outputs": [],
   "source": []
  },
  {
   "cell_type": "code",
   "execution_count": 75,
   "metadata": {},
   "outputs": [
    {
     "data": {
      "text/html": [
       "<table class=\"simpletable\">\n",
       "<caption>OLS Regression Results</caption>\n",
       "<tr>\n",
       "  <th>Dep. Variable:</th>        <td>count_ain</td>    <th>  R-squared (uncentered):</th>      <td>   0.988</td> \n",
       "</tr>\n",
       "<tr>\n",
       "  <th>Model:</th>                   <td>OLS</td>       <th>  Adj. R-squared (uncentered):</th> <td>   0.988</td> \n",
       "</tr>\n",
       "<tr>\n",
       "  <th>Method:</th>             <td>Least Squares</td>  <th>  F-statistic:       </th>          <td>   4965.</td> \n",
       "</tr>\n",
       "<tr>\n",
       "  <th>Date:</th>             <td>Fri, 13 Nov 2020</td> <th>  Prob (F-statistic):</th>          <td>6.43e-228</td>\n",
       "</tr>\n",
       "<tr>\n",
       "  <th>Time:</th>                 <td>18:02:32</td>     <th>  Log-Likelihood:    </th>          <td> -102.45</td> \n",
       "</tr>\n",
       "<tr>\n",
       "  <th>No. Observations:</th>      <td>   242</td>      <th>  AIC:               </th>          <td>   212.9</td> \n",
       "</tr>\n",
       "<tr>\n",
       "  <th>Df Residuals:</th>          <td>   238</td>      <th>  BIC:               </th>          <td>   226.9</td> \n",
       "</tr>\n",
       "<tr>\n",
       "  <th>Df Model:</th>              <td>     4</td>      <th>                     </th>              <td> </td>    \n",
       "</tr>\n",
       "<tr>\n",
       "  <th>Covariance Type:</th>      <td>nonrobust</td>    <th>                     </th>              <td> </td>    \n",
       "</tr>\n",
       "</table>\n",
       "<table class=\"simpletable\">\n",
       "<tr>\n",
       "        <td></td>           <th>coef</th>     <th>std err</th>      <th>t</th>      <th>P>|t|</th>  <th>[0.025</th>    <th>0.975]</th>  \n",
       "</tr>\n",
       "<tr>\n",
       "  <th>count_yt</th>      <td>    0.1330</td> <td>    0.018</td> <td>    7.274</td> <td> 0.000</td> <td>    0.097</td> <td>    0.169</td>\n",
       "</tr>\n",
       "<tr>\n",
       "  <th>count_ain_lag</th> <td>    0.6209</td> <td>    0.051</td> <td>   12.060</td> <td> 0.000</td> <td>    0.519</td> <td>    0.722</td>\n",
       "</tr>\n",
       "<tr>\n",
       "  <th>treat</th>         <td>    0.0784</td> <td>    0.075</td> <td>    1.047</td> <td> 0.296</td> <td>   -0.069</td> <td>    0.226</td>\n",
       "</tr>\n",
       "<tr>\n",
       "  <th>dist_to_treat</th> <td>   -0.0036</td> <td>    0.001</td> <td>   -3.521</td> <td> 0.001</td> <td>   -0.006</td> <td>   -0.002</td>\n",
       "</tr>\n",
       "</table>\n",
       "<table class=\"simpletable\">\n",
       "<tr>\n",
       "  <th>Omnibus:</th>       <td> 8.666</td> <th>  Durbin-Watson:     </th> <td>   2.010</td>\n",
       "</tr>\n",
       "<tr>\n",
       "  <th>Prob(Omnibus):</th> <td> 0.013</td> <th>  Jarque-Bera (JB):  </th> <td>  13.308</td>\n",
       "</tr>\n",
       "<tr>\n",
       "  <th>Skew:</th>          <td>-0.197</td> <th>  Prob(JB):          </th> <td> 0.00129</td>\n",
       "</tr>\n",
       "<tr>\n",
       "  <th>Kurtosis:</th>      <td> 4.079</td> <th>  Cond. No.          </th> <td>    169.</td>\n",
       "</tr>\n",
       "</table><br/><br/>Warnings:<br/>[1] Standard Errors assume that the covariance matrix of the errors is correctly specified."
      ],
      "text/plain": [
       "<class 'statsmodels.iolib.summary.Summary'>\n",
       "\"\"\"\n",
       "                                 OLS Regression Results                                \n",
       "=======================================================================================\n",
       "Dep. Variable:              count_ain   R-squared (uncentered):                   0.988\n",
       "Model:                            OLS   Adj. R-squared (uncentered):              0.988\n",
       "Method:                 Least Squares   F-statistic:                              4965.\n",
       "Date:                Fri, 13 Nov 2020   Prob (F-statistic):                   6.43e-228\n",
       "Time:                        18:02:32   Log-Likelihood:                         -102.45\n",
       "No. Observations:                 242   AIC:                                      212.9\n",
       "Df Residuals:                     238   BIC:                                      226.9\n",
       "Df Model:                           4                                                  \n",
       "Covariance Type:            nonrobust                                                  \n",
       "=================================================================================\n",
       "                    coef    std err          t      P>|t|      [0.025      0.975]\n",
       "---------------------------------------------------------------------------------\n",
       "count_yt          0.1330      0.018      7.274      0.000       0.097       0.169\n",
       "count_ain_lag     0.6209      0.051     12.060      0.000       0.519       0.722\n",
       "treat             0.0784      0.075      1.047      0.296      -0.069       0.226\n",
       "dist_to_treat    -0.0036      0.001     -3.521      0.001      -0.006      -0.002\n",
       "==============================================================================\n",
       "Omnibus:                        8.666   Durbin-Watson:                   2.010\n",
       "Prob(Omnibus):                  0.013   Jarque-Bera (JB):               13.308\n",
       "Skew:                          -0.197   Prob(JB):                      0.00129\n",
       "Kurtosis:                       4.079   Cond. No.                         169.\n",
       "==============================================================================\n",
       "\n",
       "Warnings:\n",
       "[1] Standard Errors assume that the covariance matrix of the errors is correctly specified.\n",
       "\"\"\""
      ]
     },
     "execution_count": 75,
     "metadata": {},
     "output_type": "execute_result"
    }
   ],
   "source": [
    "exog = sharing_twitter_daily_df_[[\n",
    "    \"count_yt\",\n",
    "    \"count_ain_lag\",\n",
    "    \"treat\",\n",
    "    \"dist_to_treat\"\n",
    "]].copy()\n",
    "\n",
    "exog[\"count_yt\"] = np.log(exog[\"count_yt\"] + 1)\n",
    "exog[\"count_ain_lag\"] = np.log(exog[\"count_ain_lag\"] + 1)\n",
    "\n",
    "mod = sm.OLS(np.log(sharing_twitter_daily_df_[[\"count_ain\"]] + 1), exog)\n",
    "res = mod.fit()\n",
    "\n",
    "res.summary()"
   ]
  },
  {
   "cell_type": "code",
   "execution_count": 76,
   "metadata": {},
   "outputs": [
    {
     "name": "stdout",
     "output_type": "stream",
     "text": [
      "count_yt         5.031118e-12\n",
      "count_ain_lag    1.868348e-26\n",
      "treat            2.962425e-01\n",
      "dist_to_treat    5.152434e-04\n",
      "dtype: float64\n"
     ]
    }
   ],
   "source": [
    "print(res.pvalues)"
   ]
  },
  {
   "cell_type": "code",
   "execution_count": null,
   "metadata": {},
   "outputs": [],
   "source": []
  },
  {
   "cell_type": "code",
   "execution_count": 77,
   "metadata": {},
   "outputs": [
    {
     "data": {
      "text/html": [
       "<table class=\"simpletable\">\n",
       "<caption>OLS Regression Results</caption>\n",
       "<tr>\n",
       "  <th>Dep. Variable:</th>       <td>count_cons</td>    <th>  R-squared (uncentered):</th>      <td>   0.989</td> \n",
       "</tr>\n",
       "<tr>\n",
       "  <th>Model:</th>                   <td>OLS</td>       <th>  Adj. R-squared (uncentered):</th> <td>   0.988</td> \n",
       "</tr>\n",
       "<tr>\n",
       "  <th>Method:</th>             <td>Least Squares</td>  <th>  F-statistic:       </th>          <td>   5169.</td> \n",
       "</tr>\n",
       "<tr>\n",
       "  <th>Date:</th>             <td>Fri, 13 Nov 2020</td> <th>  Prob (F-statistic):</th>          <td>5.63e-230</td>\n",
       "</tr>\n",
       "<tr>\n",
       "  <th>Time:</th>                 <td>18:02:32</td>     <th>  Log-Likelihood:    </th>          <td> -111.92</td> \n",
       "</tr>\n",
       "<tr>\n",
       "  <th>No. Observations:</th>      <td>   242</td>      <th>  AIC:               </th>          <td>   231.8</td> \n",
       "</tr>\n",
       "<tr>\n",
       "  <th>Df Residuals:</th>          <td>   238</td>      <th>  BIC:               </th>          <td>   245.8</td> \n",
       "</tr>\n",
       "<tr>\n",
       "  <th>Df Model:</th>              <td>     4</td>      <th>                     </th>              <td> </td>    \n",
       "</tr>\n",
       "<tr>\n",
       "  <th>Covariance Type:</th>      <td>nonrobust</td>    <th>                     </th>              <td> </td>    \n",
       "</tr>\n",
       "</table>\n",
       "<table class=\"simpletable\">\n",
       "<tr>\n",
       "         <td></td>           <th>coef</th>     <th>std err</th>      <th>t</th>      <th>P>|t|</th>  <th>[0.025</th>    <th>0.975]</th>  \n",
       "</tr>\n",
       "<tr>\n",
       "  <th>count_yt</th>       <td>    0.2303</td> <td>    0.022</td> <td>   10.332</td> <td> 0.000</td> <td>    0.186</td> <td>    0.274</td>\n",
       "</tr>\n",
       "<tr>\n",
       "  <th>count_cons_lag</th> <td>    0.3997</td> <td>    0.058</td> <td>    6.937</td> <td> 0.000</td> <td>    0.286</td> <td>    0.513</td>\n",
       "</tr>\n",
       "<tr>\n",
       "  <th>treat</th>          <td>    0.1246</td> <td>    0.078</td> <td>    1.599</td> <td> 0.111</td> <td>   -0.029</td> <td>    0.278</td>\n",
       "</tr>\n",
       "<tr>\n",
       "  <th>dist_to_treat</th>  <td>   -0.0079</td> <td>    0.001</td> <td>   -6.636</td> <td> 0.000</td> <td>   -0.010</td> <td>   -0.006</td>\n",
       "</tr>\n",
       "</table>\n",
       "<table class=\"simpletable\">\n",
       "<tr>\n",
       "  <th>Omnibus:</th>       <td>29.061</td> <th>  Durbin-Watson:     </th> <td>   2.183</td>\n",
       "</tr>\n",
       "<tr>\n",
       "  <th>Prob(Omnibus):</th> <td> 0.000</td> <th>  Jarque-Bera (JB):  </th> <td> 164.697</td>\n",
       "</tr>\n",
       "<tr>\n",
       "  <th>Skew:</th>          <td> 0.047</td> <th>  Prob(JB):          </th> <td>1.72e-36</td>\n",
       "</tr>\n",
       "<tr>\n",
       "  <th>Kurtosis:</th>      <td> 7.040</td> <th>  Cond. No.          </th> <td>    170.</td>\n",
       "</tr>\n",
       "</table><br/><br/>Warnings:<br/>[1] Standard Errors assume that the covariance matrix of the errors is correctly specified."
      ],
      "text/plain": [
       "<class 'statsmodels.iolib.summary.Summary'>\n",
       "\"\"\"\n",
       "                                 OLS Regression Results                                \n",
       "=======================================================================================\n",
       "Dep. Variable:             count_cons   R-squared (uncentered):                   0.989\n",
       "Model:                            OLS   Adj. R-squared (uncentered):              0.988\n",
       "Method:                 Least Squares   F-statistic:                              5169.\n",
       "Date:                Fri, 13 Nov 2020   Prob (F-statistic):                   5.63e-230\n",
       "Time:                        18:02:32   Log-Likelihood:                         -111.92\n",
       "No. Observations:                 242   AIC:                                      231.8\n",
       "Df Residuals:                     238   BIC:                                      245.8\n",
       "Df Model:                           4                                                  \n",
       "Covariance Type:            nonrobust                                                  \n",
       "==================================================================================\n",
       "                     coef    std err          t      P>|t|      [0.025      0.975]\n",
       "----------------------------------------------------------------------------------\n",
       "count_yt           0.2303      0.022     10.332      0.000       0.186       0.274\n",
       "count_cons_lag     0.3997      0.058      6.937      0.000       0.286       0.513\n",
       "treat              0.1246      0.078      1.599      0.111      -0.029       0.278\n",
       "dist_to_treat     -0.0079      0.001     -6.636      0.000      -0.010      -0.006\n",
       "==============================================================================\n",
       "Omnibus:                       29.061   Durbin-Watson:                   2.183\n",
       "Prob(Omnibus):                  0.000   Jarque-Bera (JB):              164.697\n",
       "Skew:                           0.047   Prob(JB):                     1.72e-36\n",
       "Kurtosis:                       7.040   Cond. No.                         170.\n",
       "==============================================================================\n",
       "\n",
       "Warnings:\n",
       "[1] Standard Errors assume that the covariance matrix of the errors is correctly specified.\n",
       "\"\"\""
      ]
     },
     "execution_count": 77,
     "metadata": {},
     "output_type": "execute_result"
    }
   ],
   "source": [
    "exog = sharing_twitter_daily_df_[[\n",
    "    \"count_yt\",\n",
    "    \"count_cons_lag\",\n",
    "    \"treat\",\n",
    "    \"dist_to_treat\"\n",
    "]].copy()\n",
    "\n",
    "exog[\"count_yt\"] = np.log(exog[\"count_yt\"] + 1)\n",
    "exog[\"count_cons_lag\"] = np.log(exog[\"count_cons_lag\"] + 1)\n",
    "\n",
    "mod = sm.OLS(np.log(sharing_twitter_daily_df_[[\"count_cons\"]] + 1), exog)\n",
    "res = mod.fit()\n",
    "\n",
    "res.summary()"
   ]
  },
  {
   "cell_type": "code",
   "execution_count": 78,
   "metadata": {},
   "outputs": [
    {
     "name": "stdout",
     "output_type": "stream",
     "text": [
      "count_yt          6.487059e-21\n",
      "count_cons_lag    3.767698e-11\n",
      "treat             1.111507e-01\n",
      "dist_to_treat     2.160062e-10\n",
      "dtype: float64\n"
     ]
    }
   ],
   "source": [
    "print(res.pvalues)"
   ]
  },
  {
   "cell_type": "code",
   "execution_count": null,
   "metadata": {},
   "outputs": [],
   "source": []
  },
  {
   "cell_type": "code",
   "execution_count": 79,
   "metadata": {},
   "outputs": [
    {
     "data": {
      "text/html": [
       "<table class=\"simpletable\">\n",
       "<caption>OLS Regression Results</caption>\n",
       "<tr>\n",
       "  <th>Dep. Variable:</th>        <td>count_msm</td>    <th>  R-squared (uncentered):</th>      <td>   0.996</td> \n",
       "</tr>\n",
       "<tr>\n",
       "  <th>Model:</th>                   <td>OLS</td>       <th>  Adj. R-squared (uncentered):</th> <td>   0.996</td> \n",
       "</tr>\n",
       "<tr>\n",
       "  <th>Method:</th>             <td>Least Squares</td>  <th>  F-statistic:       </th>          <td>1.438e+04</td>\n",
       "</tr>\n",
       "<tr>\n",
       "  <th>Date:</th>             <td>Fri, 13 Nov 2020</td> <th>  Prob (F-statistic):</th>          <td>1.75e-282</td>\n",
       "</tr>\n",
       "<tr>\n",
       "  <th>Time:</th>                 <td>18:02:32</td>     <th>  Log-Likelihood:    </th>          <td> -20.144</td> \n",
       "</tr>\n",
       "<tr>\n",
       "  <th>No. Observations:</th>      <td>   242</td>      <th>  AIC:               </th>          <td>   48.29</td> \n",
       "</tr>\n",
       "<tr>\n",
       "  <th>Df Residuals:</th>          <td>   238</td>      <th>  BIC:               </th>          <td>   62.24</td> \n",
       "</tr>\n",
       "<tr>\n",
       "  <th>Df Model:</th>              <td>     4</td>      <th>                     </th>              <td> </td>    \n",
       "</tr>\n",
       "<tr>\n",
       "  <th>Covariance Type:</th>      <td>nonrobust</td>    <th>                     </th>              <td> </td>    \n",
       "</tr>\n",
       "</table>\n",
       "<table class=\"simpletable\">\n",
       "<tr>\n",
       "        <td></td>           <th>coef</th>     <th>std err</th>      <th>t</th>      <th>P>|t|</th>  <th>[0.025</th>    <th>0.975]</th>  \n",
       "</tr>\n",
       "<tr>\n",
       "  <th>count_yt</th>      <td>    0.2611</td> <td>    0.024</td> <td>   10.717</td> <td> 0.000</td> <td>    0.213</td> <td>    0.309</td>\n",
       "</tr>\n",
       "<tr>\n",
       "  <th>count_msm_lag</th> <td>    0.3438</td> <td>    0.061</td> <td>    5.640</td> <td> 0.000</td> <td>    0.224</td> <td>    0.464</td>\n",
       "</tr>\n",
       "<tr>\n",
       "  <th>treat</th>         <td>   -0.0506</td> <td>    0.053</td> <td>   -0.961</td> <td> 0.338</td> <td>   -0.154</td> <td>    0.053</td>\n",
       "</tr>\n",
       "<tr>\n",
       "  <th>dist_to_treat</th> <td>    0.0023</td> <td>    0.001</td> <td>    3.454</td> <td> 0.001</td> <td>    0.001</td> <td>    0.004</td>\n",
       "</tr>\n",
       "</table>\n",
       "<table class=\"simpletable\">\n",
       "<tr>\n",
       "  <th>Omnibus:</th>       <td>18.586</td> <th>  Durbin-Watson:     </th> <td>   2.041</td>\n",
       "</tr>\n",
       "<tr>\n",
       "  <th>Prob(Omnibus):</th> <td> 0.000</td> <th>  Jarque-Bera (JB):  </th> <td>  26.687</td>\n",
       "</tr>\n",
       "<tr>\n",
       "  <th>Skew:</th>          <td> 0.509</td> <th>  Prob(JB):          </th> <td>1.60e-06</td>\n",
       "</tr>\n",
       "<tr>\n",
       "  <th>Kurtosis:</th>      <td> 4.269</td> <th>  Cond. No.          </th> <td>    206.</td>\n",
       "</tr>\n",
       "</table><br/><br/>Warnings:<br/>[1] Standard Errors assume that the covariance matrix of the errors is correctly specified."
      ],
      "text/plain": [
       "<class 'statsmodels.iolib.summary.Summary'>\n",
       "\"\"\"\n",
       "                                 OLS Regression Results                                \n",
       "=======================================================================================\n",
       "Dep. Variable:              count_msm   R-squared (uncentered):                   0.996\n",
       "Model:                            OLS   Adj. R-squared (uncentered):              0.996\n",
       "Method:                 Least Squares   F-statistic:                          1.438e+04\n",
       "Date:                Fri, 13 Nov 2020   Prob (F-statistic):                   1.75e-282\n",
       "Time:                        18:02:32   Log-Likelihood:                         -20.144\n",
       "No. Observations:                 242   AIC:                                      48.29\n",
       "Df Residuals:                     238   BIC:                                      62.24\n",
       "Df Model:                           4                                                  \n",
       "Covariance Type:            nonrobust                                                  \n",
       "=================================================================================\n",
       "                    coef    std err          t      P>|t|      [0.025      0.975]\n",
       "---------------------------------------------------------------------------------\n",
       "count_yt          0.2611      0.024     10.717      0.000       0.213       0.309\n",
       "count_msm_lag     0.3438      0.061      5.640      0.000       0.224       0.464\n",
       "treat            -0.0506      0.053     -0.961      0.338      -0.154       0.053\n",
       "dist_to_treat     0.0023      0.001      3.454      0.001       0.001       0.004\n",
       "==============================================================================\n",
       "Omnibus:                       18.586   Durbin-Watson:                   2.041\n",
       "Prob(Omnibus):                  0.000   Jarque-Bera (JB):               26.687\n",
       "Skew:                           0.509   Prob(JB):                     1.60e-06\n",
       "Kurtosis:                       4.269   Cond. No.                         206.\n",
       "==============================================================================\n",
       "\n",
       "Warnings:\n",
       "[1] Standard Errors assume that the covariance matrix of the errors is correctly specified.\n",
       "\"\"\""
      ]
     },
     "execution_count": 79,
     "metadata": {},
     "output_type": "execute_result"
    }
   ],
   "source": [
    "exog = sharing_twitter_daily_df_[[\n",
    "    \"count_yt\",\n",
    "    \"count_msm_lag\",\n",
    "    \"treat\",\n",
    "    \"dist_to_treat\"\n",
    "]].copy()\n",
    "\n",
    "exog[\"count_yt\"] = np.log(exog[\"count_yt\"] + 1)\n",
    "exog[\"count_msm_lag\"] = np.log(exog[\"count_msm_lag\"] + 1)\n",
    "\n",
    "mod = sm.OLS(np.log(sharing_twitter_daily_df_[[\"count_msm\"]] + 1), exog)\n",
    "res = mod.fit()\n",
    "\n",
    "res.summary()"
   ]
  },
  {
   "cell_type": "code",
   "execution_count": 80,
   "metadata": {},
   "outputs": [
    {
     "name": "stdout",
     "output_type": "stream",
     "text": [
      "count_yt         3.994703e-22\n",
      "count_msm_lag    4.801051e-08\n",
      "treat            3.377652e-01\n",
      "dist_to_treat    6.538627e-04\n",
      "dtype: float64\n"
     ]
    }
   ],
   "source": [
    "print(res.pvalues)"
   ]
  },
  {
   "cell_type": "code",
   "execution_count": null,
   "metadata": {},
   "outputs": [],
   "source": []
  },
  {
   "cell_type": "code",
   "execution_count": 81,
   "metadata": {},
   "outputs": [
    {
     "data": {
      "text/html": [
       "<table class=\"simpletable\">\n",
       "<caption>OLS Regression Results</caption>\n",
       "<tr>\n",
       "  <th>Dep. Variable:</th>       <td>count_cchan</td>   <th>  R-squared (uncentered):</th>      <td>   0.998</td> \n",
       "</tr>\n",
       "<tr>\n",
       "  <th>Model:</th>                   <td>OLS</td>       <th>  Adj. R-squared (uncentered):</th> <td>   0.998</td> \n",
       "</tr>\n",
       "<tr>\n",
       "  <th>Method:</th>             <td>Least Squares</td>  <th>  F-statistic:       </th>          <td>2.461e+04</td>\n",
       "</tr>\n",
       "<tr>\n",
       "  <th>Date:</th>             <td>Fri, 13 Nov 2020</td> <th>  Prob (F-statistic):</th>          <td>3.81e-310</td>\n",
       "</tr>\n",
       "<tr>\n",
       "  <th>Time:</th>                 <td>18:02:32</td>     <th>  Log-Likelihood:    </th>          <td>  48.544</td> \n",
       "</tr>\n",
       "<tr>\n",
       "  <th>No. Observations:</th>      <td>   242</td>      <th>  AIC:               </th>          <td>  -89.09</td> \n",
       "</tr>\n",
       "<tr>\n",
       "  <th>Df Residuals:</th>          <td>   238</td>      <th>  BIC:               </th>          <td>  -75.13</td> \n",
       "</tr>\n",
       "<tr>\n",
       "  <th>Df Model:</th>              <td>     4</td>      <th>                     </th>              <td> </td>    \n",
       "</tr>\n",
       "<tr>\n",
       "  <th>Covariance Type:</th>      <td>nonrobust</td>    <th>                     </th>              <td> </td>    \n",
       "</tr>\n",
       "</table>\n",
       "<table class=\"simpletable\">\n",
       "<tr>\n",
       "         <td></td>            <th>coef</th>     <th>std err</th>      <th>t</th>      <th>P>|t|</th>  <th>[0.025</th>    <th>0.975]</th>  \n",
       "</tr>\n",
       "<tr>\n",
       "  <th>count_yt</th>        <td>    0.2977</td> <td>    0.025</td> <td>   12.113</td> <td> 0.000</td> <td>    0.249</td> <td>    0.346</td>\n",
       "</tr>\n",
       "<tr>\n",
       "  <th>count_cchan_lag</th> <td>    0.2506</td> <td>    0.062</td> <td>    4.060</td> <td> 0.000</td> <td>    0.129</td> <td>    0.372</td>\n",
       "</tr>\n",
       "<tr>\n",
       "  <th>treat</th>           <td>    0.0472</td> <td>    0.040</td> <td>    1.187</td> <td> 0.236</td> <td>   -0.031</td> <td>    0.126</td>\n",
       "</tr>\n",
       "<tr>\n",
       "  <th>dist_to_treat</th>   <td>   -0.0003</td> <td>    0.000</td> <td>   -0.587</td> <td> 0.558</td> <td>   -0.001</td> <td>    0.001</td>\n",
       "</tr>\n",
       "</table>\n",
       "<table class=\"simpletable\">\n",
       "<tr>\n",
       "  <th>Omnibus:</th>       <td> 1.648</td> <th>  Durbin-Watson:     </th> <td>   1.980</td>\n",
       "</tr>\n",
       "<tr>\n",
       "  <th>Prob(Omnibus):</th> <td> 0.439</td> <th>  Jarque-Bera (JB):  </th> <td>   1.333</td>\n",
       "</tr>\n",
       "<tr>\n",
       "  <th>Skew:</th>          <td>-0.157</td> <th>  Prob(JB):          </th> <td>   0.514</td>\n",
       "</tr>\n",
       "<tr>\n",
       "  <th>Kurtosis:</th>      <td> 3.183</td> <th>  Cond. No.          </th> <td>    276.</td>\n",
       "</tr>\n",
       "</table><br/><br/>Warnings:<br/>[1] Standard Errors assume that the covariance matrix of the errors is correctly specified."
      ],
      "text/plain": [
       "<class 'statsmodels.iolib.summary.Summary'>\n",
       "\"\"\"\n",
       "                                 OLS Regression Results                                \n",
       "=======================================================================================\n",
       "Dep. Variable:            count_cchan   R-squared (uncentered):                   0.998\n",
       "Model:                            OLS   Adj. R-squared (uncentered):              0.998\n",
       "Method:                 Least Squares   F-statistic:                          2.461e+04\n",
       "Date:                Fri, 13 Nov 2020   Prob (F-statistic):                   3.81e-310\n",
       "Time:                        18:02:32   Log-Likelihood:                          48.544\n",
       "No. Observations:                 242   AIC:                                     -89.09\n",
       "Df Residuals:                     238   BIC:                                     -75.13\n",
       "Df Model:                           4                                                  \n",
       "Covariance Type:            nonrobust                                                  \n",
       "===================================================================================\n",
       "                      coef    std err          t      P>|t|      [0.025      0.975]\n",
       "-----------------------------------------------------------------------------------\n",
       "count_yt            0.2977      0.025     12.113      0.000       0.249       0.346\n",
       "count_cchan_lag     0.2506      0.062      4.060      0.000       0.129       0.372\n",
       "treat               0.0472      0.040      1.187      0.236      -0.031       0.126\n",
       "dist_to_treat      -0.0003      0.000     -0.587      0.558      -0.001       0.001\n",
       "==============================================================================\n",
       "Omnibus:                        1.648   Durbin-Watson:                   1.980\n",
       "Prob(Omnibus):                  0.439   Jarque-Bera (JB):                1.333\n",
       "Skew:                          -0.157   Prob(JB):                        0.514\n",
       "Kurtosis:                       3.183   Cond. No.                         276.\n",
       "==============================================================================\n",
       "\n",
       "Warnings:\n",
       "[1] Standard Errors assume that the covariance matrix of the errors is correctly specified.\n",
       "\"\"\""
      ]
     },
     "execution_count": 81,
     "metadata": {},
     "output_type": "execute_result"
    }
   ],
   "source": [
    "exog = sharing_twitter_daily_df_[[\n",
    "    \"count_yt\",\n",
    "    \"count_cchan_lag\",\n",
    "    \"treat\",\n",
    "    \"dist_to_treat\"\n",
    "]].copy()\n",
    "\n",
    "exog[\"count_yt\"] = np.log(exog[\"count_yt\"] + 1)\n",
    "exog[\"count_cchan_lag\"] = np.log(exog[\"count_cchan_lag\"] + 1)\n",
    "\n",
    "mod = sm.OLS(np.log(sharing_twitter_daily_df_[[\"count_cchan\"]] + 1), exog)\n",
    "res = mod.fit()\n",
    "\n",
    "res.summary()"
   ]
  },
  {
   "cell_type": "code",
   "execution_count": 82,
   "metadata": {},
   "outputs": [
    {
     "name": "stdout",
     "output_type": "stream",
     "text": [
      "count_yt           1.260442e-26\n",
      "count_cchan_lag    6.672839e-05\n",
      "treat              2.363879e-01\n",
      "dist_to_treat      5.576607e-01\n",
      "dtype: float64\n"
     ]
    }
   ],
   "source": [
    "print(res.pvalues)"
   ]
  },
  {
   "cell_type": "markdown",
   "metadata": {},
   "source": [
    "# Impact Across Platforms"
   ]
  },
  {
   "cell_type": "code",
   "execution_count": 83,
   "metadata": {},
   "outputs": [],
   "source": [
    "merged_daily_df = sharing_twitter_daily_df_\\\n",
    "    .join(sharing_reddit_daily_df_, how=\"inner\", lsuffix=\"_tw\", rsuffix=\"_rt\")"
   ]
  },
  {
   "cell_type": "code",
   "execution_count": 84,
   "metadata": {},
   "outputs": [
    {
     "data": {
      "text/html": [
       "<table class=\"simpletable\">\n",
       "<caption>OLS Regression Results</caption>\n",
       "<tr>\n",
       "  <th>Dep. Variable:</th>       <td>count_yt_tw</td>   <th>  R-squared (uncentered):</th>      <td>   1.000</td> \n",
       "</tr>\n",
       "<tr>\n",
       "  <th>Model:</th>                   <td>OLS</td>       <th>  Adj. R-squared (uncentered):</th> <td>   1.000</td> \n",
       "</tr>\n",
       "<tr>\n",
       "  <th>Method:</th>             <td>Least Squares</td>  <th>  F-statistic:       </th>          <td>7.006e+05</td>\n",
       "</tr>\n",
       "<tr>\n",
       "  <th>Date:</th>             <td>Fri, 13 Nov 2020</td> <th>  Prob (F-statistic):</th>           <td>  0.00</td>  \n",
       "</tr>\n",
       "<tr>\n",
       "  <th>Time:</th>                 <td>18:02:32</td>     <th>  Log-Likelihood:    </th>          <td>  281.68</td> \n",
       "</tr>\n",
       "<tr>\n",
       "  <th>No. Observations:</th>      <td>   242</td>      <th>  AIC:               </th>          <td>  -551.4</td> \n",
       "</tr>\n",
       "<tr>\n",
       "  <th>Df Residuals:</th>          <td>   236</td>      <th>  BIC:               </th>          <td>  -530.4</td> \n",
       "</tr>\n",
       "<tr>\n",
       "  <th>Df Model:</th>              <td>     6</td>      <th>                     </th>              <td> </td>    \n",
       "</tr>\n",
       "<tr>\n",
       "  <th>Covariance Type:</th>      <td>nonrobust</td>    <th>                     </th>              <td> </td>    \n",
       "</tr>\n",
       "</table>\n",
       "<table class=\"simpletable\">\n",
       "<tr>\n",
       "          <td></td>            <th>coef</th>     <th>std err</th>      <th>t</th>      <th>P>|t|</th>  <th>[0.025</th>    <th>0.975]</th>  \n",
       "</tr>\n",
       "<tr>\n",
       "  <th>count_tweets</th>     <td>    0.3533</td> <td>    0.068</td> <td>    5.159</td> <td> 0.000</td> <td>    0.218</td> <td>    0.488</td>\n",
       "</tr>\n",
       "<tr>\n",
       "  <th>count_subs</th>       <td>    0.1101</td> <td>    0.066</td> <td>    1.662</td> <td> 0.098</td> <td>   -0.020</td> <td>    0.241</td>\n",
       "</tr>\n",
       "<tr>\n",
       "  <th>count_yt_lag_rt</th>  <td>   -0.2131</td> <td>    0.085</td> <td>   -2.496</td> <td> 0.013</td> <td>   -0.381</td> <td>   -0.045</td>\n",
       "</tr>\n",
       "<tr>\n",
       "  <th>count_yt_lag_tw</th>  <td>    0.5596</td> <td>    0.048</td> <td>   11.579</td> <td> 0.000</td> <td>    0.464</td> <td>    0.655</td>\n",
       "</tr>\n",
       "<tr>\n",
       "  <th>treat_rt</th>         <td>   -0.1551</td> <td>    0.026</td> <td>   -6.082</td> <td> 0.000</td> <td>   -0.205</td> <td>   -0.105</td>\n",
       "</tr>\n",
       "<tr>\n",
       "  <th>dist_to_treat_rt</th> <td>   -0.0004</td> <td>    0.000</td> <td>   -1.907</td> <td> 0.058</td> <td>   -0.001</td> <td> 1.39e-05</td>\n",
       "</tr>\n",
       "</table>\n",
       "<table class=\"simpletable\">\n",
       "<tr>\n",
       "  <th>Omnibus:</th>       <td>30.004</td> <th>  Durbin-Watson:     </th> <td>   2.191</td>\n",
       "</tr>\n",
       "<tr>\n",
       "  <th>Prob(Omnibus):</th> <td> 0.000</td> <th>  Jarque-Bera (JB):  </th> <td>  50.791</td>\n",
       "</tr>\n",
       "<tr>\n",
       "  <th>Skew:</th>          <td> 0.697</td> <th>  Prob(JB):          </th> <td>9.35e-12</td>\n",
       "</tr>\n",
       "<tr>\n",
       "  <th>Kurtosis:</th>      <td> 4.760</td> <th>  Cond. No.          </th> <td>1.07e+03</td>\n",
       "</tr>\n",
       "</table><br/><br/>Warnings:<br/>[1] Standard Errors assume that the covariance matrix of the errors is correctly specified.<br/>[2] The condition number is large, 1.07e+03. This might indicate that there are<br/>strong multicollinearity or other numerical problems."
      ],
      "text/plain": [
       "<class 'statsmodels.iolib.summary.Summary'>\n",
       "\"\"\"\n",
       "                                 OLS Regression Results                                \n",
       "=======================================================================================\n",
       "Dep. Variable:            count_yt_tw   R-squared (uncentered):                   1.000\n",
       "Model:                            OLS   Adj. R-squared (uncentered):              1.000\n",
       "Method:                 Least Squares   F-statistic:                          7.006e+05\n",
       "Date:                Fri, 13 Nov 2020   Prob (F-statistic):                        0.00\n",
       "Time:                        18:02:32   Log-Likelihood:                          281.68\n",
       "No. Observations:                 242   AIC:                                     -551.4\n",
       "Df Residuals:                     236   BIC:                                     -530.4\n",
       "Df Model:                           6                                                  \n",
       "Covariance Type:            nonrobust                                                  \n",
       "====================================================================================\n",
       "                       coef    std err          t      P>|t|      [0.025      0.975]\n",
       "------------------------------------------------------------------------------------\n",
       "count_tweets         0.3533      0.068      5.159      0.000       0.218       0.488\n",
       "count_subs           0.1101      0.066      1.662      0.098      -0.020       0.241\n",
       "count_yt_lag_rt     -0.2131      0.085     -2.496      0.013      -0.381      -0.045\n",
       "count_yt_lag_tw      0.5596      0.048     11.579      0.000       0.464       0.655\n",
       "treat_rt            -0.1551      0.026     -6.082      0.000      -0.205      -0.105\n",
       "dist_to_treat_rt    -0.0004      0.000     -1.907      0.058      -0.001    1.39e-05\n",
       "==============================================================================\n",
       "Omnibus:                       30.004   Durbin-Watson:                   2.191\n",
       "Prob(Omnibus):                  0.000   Jarque-Bera (JB):               50.791\n",
       "Skew:                           0.697   Prob(JB):                     9.35e-12\n",
       "Kurtosis:                       4.760   Cond. No.                     1.07e+03\n",
       "==============================================================================\n",
       "\n",
       "Warnings:\n",
       "[1] Standard Errors assume that the covariance matrix of the errors is correctly specified.\n",
       "[2] The condition number is large, 1.07e+03. This might indicate that there are\n",
       "strong multicollinearity or other numerical problems.\n",
       "\"\"\""
      ]
     },
     "execution_count": 84,
     "metadata": {},
     "output_type": "execute_result"
    }
   ],
   "source": [
    "exog = merged_daily_df[[\n",
    "    \"count_tweets\",\n",
    "    \"count_subs\",\n",
    "    \"count_yt_lag_rt\",\n",
    "    \"count_yt_lag_tw\",\n",
    "    \"treat_rt\",\n",
    "    \"dist_to_treat_rt\"\n",
    "]].copy()\n",
    "\n",
    "exog[\"count_tweets\"] = np.log(exog[\"count_tweets\"] + 1)\n",
    "exog[\"count_subs\"] = np.log(exog[\"count_subs\"] + 1)\n",
    "exog[\"count_yt_lag_rt\"] = np.log(exog[\"count_yt_lag_rt\"] + 1)\n",
    "exog[\"count_yt_lag_tw\"] = np.log(exog[\"count_yt_lag_tw\"] + 1)\n",
    "\n",
    "mod = sm.OLS(np.log(merged_daily_df[[\"count_yt_tw\"]] + 1), exog)\n",
    "res = mod.fit()\n",
    "\n",
    "res.summary()"
   ]
  },
  {
   "cell_type": "code",
   "execution_count": 85,
   "metadata": {},
   "outputs": [
    {
     "data": {
      "text/html": [
       "<table class=\"simpletable\">\n",
       "<caption>OLS Regression Results</caption>\n",
       "<tr>\n",
       "  <th>Dep. Variable:</th>       <td>count_yt_rt</td>   <th>  R-squared (uncentered):</th>      <td>   1.000</td> \n",
       "</tr>\n",
       "<tr>\n",
       "  <th>Model:</th>                   <td>OLS</td>       <th>  Adj. R-squared (uncentered):</th> <td>   1.000</td> \n",
       "</tr>\n",
       "<tr>\n",
       "  <th>Method:</th>             <td>Least Squares</td>  <th>  F-statistic:       </th>          <td>4.310e+06</td>\n",
       "</tr>\n",
       "<tr>\n",
       "  <th>Date:</th>             <td>Fri, 13 Nov 2020</td> <th>  Prob (F-statistic):</th>           <td>  0.00</td>  \n",
       "</tr>\n",
       "<tr>\n",
       "  <th>Time:</th>                 <td>18:02:32</td>     <th>  Log-Likelihood:    </th>          <td>  498.64</td> \n",
       "</tr>\n",
       "<tr>\n",
       "  <th>No. Observations:</th>      <td>   242</td>      <th>  AIC:               </th>          <td>  -985.3</td> \n",
       "</tr>\n",
       "<tr>\n",
       "  <th>Df Residuals:</th>          <td>   236</td>      <th>  BIC:               </th>          <td>  -964.4</td> \n",
       "</tr>\n",
       "<tr>\n",
       "  <th>Df Model:</th>              <td>     6</td>      <th>                     </th>              <td> </td>    \n",
       "</tr>\n",
       "<tr>\n",
       "  <th>Covariance Type:</th>      <td>nonrobust</td>    <th>                     </th>              <td> </td>    \n",
       "</tr>\n",
       "</table>\n",
       "<table class=\"simpletable\">\n",
       "<tr>\n",
       "          <td></td>            <th>coef</th>     <th>std err</th>      <th>t</th>      <th>P>|t|</th>  <th>[0.025</th>    <th>0.975]</th>  \n",
       "</tr>\n",
       "<tr>\n",
       "  <th>count_tweets</th>     <td>    0.0667</td> <td>    0.028</td> <td>    2.387</td> <td> 0.018</td> <td>    0.012</td> <td>    0.122</td>\n",
       "</tr>\n",
       "<tr>\n",
       "  <th>count_subs</th>       <td>    0.4522</td> <td>    0.027</td> <td>   16.730</td> <td> 0.000</td> <td>    0.399</td> <td>    0.505</td>\n",
       "</tr>\n",
       "<tr>\n",
       "  <th>count_yt_lag_rt</th>  <td>    0.3795</td> <td>    0.035</td> <td>   10.893</td> <td> 0.000</td> <td>    0.311</td> <td>    0.448</td>\n",
       "</tr>\n",
       "<tr>\n",
       "  <th>count_yt_lag_tw</th>  <td>   -0.0377</td> <td>    0.020</td> <td>   -1.910</td> <td> 0.057</td> <td>   -0.077</td> <td>    0.001</td>\n",
       "</tr>\n",
       "<tr>\n",
       "  <th>treat_rt</th>         <td>    0.0113</td> <td>    0.010</td> <td>    1.088</td> <td> 0.278</td> <td>   -0.009</td> <td>    0.032</td>\n",
       "</tr>\n",
       "<tr>\n",
       "  <th>dist_to_treat_rt</th> <td>   -0.0010</td> <td> 8.91e-05</td> <td>  -10.814</td> <td> 0.000</td> <td>   -0.001</td> <td>   -0.001</td>\n",
       "</tr>\n",
       "</table>\n",
       "<table class=\"simpletable\">\n",
       "<tr>\n",
       "  <th>Omnibus:</th>       <td> 9.904</td> <th>  Durbin-Watson:     </th> <td>   1.386</td>\n",
       "</tr>\n",
       "<tr>\n",
       "  <th>Prob(Omnibus):</th> <td> 0.007</td> <th>  Jarque-Bera (JB):  </th> <td>  12.197</td>\n",
       "</tr>\n",
       "<tr>\n",
       "  <th>Skew:</th>          <td>-0.336</td> <th>  Prob(JB):          </th> <td> 0.00225</td>\n",
       "</tr>\n",
       "<tr>\n",
       "  <th>Kurtosis:</th>      <td> 3.871</td> <th>  Cond. No.          </th> <td>1.07e+03</td>\n",
       "</tr>\n",
       "</table><br/><br/>Warnings:<br/>[1] Standard Errors assume that the covariance matrix of the errors is correctly specified.<br/>[2] The condition number is large, 1.07e+03. This might indicate that there are<br/>strong multicollinearity or other numerical problems."
      ],
      "text/plain": [
       "<class 'statsmodels.iolib.summary.Summary'>\n",
       "\"\"\"\n",
       "                                 OLS Regression Results                                \n",
       "=======================================================================================\n",
       "Dep. Variable:            count_yt_rt   R-squared (uncentered):                   1.000\n",
       "Model:                            OLS   Adj. R-squared (uncentered):              1.000\n",
       "Method:                 Least Squares   F-statistic:                          4.310e+06\n",
       "Date:                Fri, 13 Nov 2020   Prob (F-statistic):                        0.00\n",
       "Time:                        18:02:32   Log-Likelihood:                          498.64\n",
       "No. Observations:                 242   AIC:                                     -985.3\n",
       "Df Residuals:                     236   BIC:                                     -964.4\n",
       "Df Model:                           6                                                  \n",
       "Covariance Type:            nonrobust                                                  \n",
       "====================================================================================\n",
       "                       coef    std err          t      P>|t|      [0.025      0.975]\n",
       "------------------------------------------------------------------------------------\n",
       "count_tweets         0.0667      0.028      2.387      0.018       0.012       0.122\n",
       "count_subs           0.4522      0.027     16.730      0.000       0.399       0.505\n",
       "count_yt_lag_rt      0.3795      0.035     10.893      0.000       0.311       0.448\n",
       "count_yt_lag_tw     -0.0377      0.020     -1.910      0.057      -0.077       0.001\n",
       "treat_rt             0.0113      0.010      1.088      0.278      -0.009       0.032\n",
       "dist_to_treat_rt    -0.0010   8.91e-05    -10.814      0.000      -0.001      -0.001\n",
       "==============================================================================\n",
       "Omnibus:                        9.904   Durbin-Watson:                   1.386\n",
       "Prob(Omnibus):                  0.007   Jarque-Bera (JB):               12.197\n",
       "Skew:                          -0.336   Prob(JB):                      0.00225\n",
       "Kurtosis:                       3.871   Cond. No.                     1.07e+03\n",
       "==============================================================================\n",
       "\n",
       "Warnings:\n",
       "[1] Standard Errors assume that the covariance matrix of the errors is correctly specified.\n",
       "[2] The condition number is large, 1.07e+03. This might indicate that there are\n",
       "strong multicollinearity or other numerical problems.\n",
       "\"\"\""
      ]
     },
     "execution_count": 85,
     "metadata": {},
     "output_type": "execute_result"
    }
   ],
   "source": [
    "exog = merged_daily_df[[\n",
    "    \"count_tweets\",\n",
    "    \"count_subs\",\n",
    "    \"count_yt_lag_rt\",\n",
    "    \"count_yt_lag_tw\",\n",
    "    \"treat_rt\",\n",
    "    \"dist_to_treat_rt\"\n",
    "]].copy()\n",
    "\n",
    "exog[\"count_tweets\"] = np.log(exog[\"count_tweets\"] + 1)\n",
    "exog[\"count_subs\"] = np.log(exog[\"count_subs\"] + 1)\n",
    "exog[\"count_yt_lag_rt\"] = np.log(exog[\"count_yt_lag_rt\"] + 1)\n",
    "exog[\"count_yt_lag_tw\"] = np.log(exog[\"count_yt_lag_tw\"] + 1)\n",
    "\n",
    "mod = sm.OLS(np.log(merged_daily_df[[\"count_yt_rt\"]] + 1), exog)\n",
    "res = mod.fit()\n",
    "\n",
    "res.summary()"
   ]
  },
  {
   "cell_type": "code",
   "execution_count": 86,
   "metadata": {},
   "outputs": [
    {
     "data": {
      "text/html": [
       "<table class=\"simpletable\">\n",
       "<caption>OLS Regression Results</caption>\n",
       "<tr>\n",
       "  <th>Dep. Variable:</th>      <td>count_ain_tw</td>   <th>  R-squared (uncentered):</th>      <td>   0.989</td> \n",
       "</tr>\n",
       "<tr>\n",
       "  <th>Model:</th>                   <td>OLS</td>       <th>  Adj. R-squared (uncentered):</th> <td>   0.989</td> \n",
       "</tr>\n",
       "<tr>\n",
       "  <th>Method:</th>             <td>Least Squares</td>  <th>  F-statistic:       </th>          <td>   3601.</td> \n",
       "</tr>\n",
       "<tr>\n",
       "  <th>Date:</th>             <td>Fri, 13 Nov 2020</td> <th>  Prob (F-statistic):</th>          <td>6.41e-229</td>\n",
       "</tr>\n",
       "<tr>\n",
       "  <th>Time:</th>                 <td>18:02:32</td>     <th>  Log-Likelihood:    </th>          <td> -91.356</td> \n",
       "</tr>\n",
       "<tr>\n",
       "  <th>No. Observations:</th>      <td>   242</td>      <th>  AIC:               </th>          <td>   194.7</td> \n",
       "</tr>\n",
       "<tr>\n",
       "  <th>Df Residuals:</th>          <td>   236</td>      <th>  BIC:               </th>          <td>   215.6</td> \n",
       "</tr>\n",
       "<tr>\n",
       "  <th>Df Model:</th>              <td>     6</td>      <th>                     </th>              <td> </td>    \n",
       "</tr>\n",
       "<tr>\n",
       "  <th>Covariance Type:</th>      <td>nonrobust</td>    <th>                     </th>              <td> </td>    \n",
       "</tr>\n",
       "</table>\n",
       "<table class=\"simpletable\">\n",
       "<tr>\n",
       "          <td></td>            <th>coef</th>     <th>std err</th>      <th>t</th>      <th>P>|t|</th>  <th>[0.025</th>    <th>0.975]</th>  \n",
       "</tr>\n",
       "<tr>\n",
       "  <th>count_yt_tw</th>      <td>   -0.0947</td> <td>    0.208</td> <td>   -0.456</td> <td> 0.649</td> <td>   -0.504</td> <td>    0.314</td>\n",
       "</tr>\n",
       "<tr>\n",
       "  <th>count_yt_rt</th>      <td>    0.1683</td> <td>    0.212</td> <td>    0.793</td> <td> 0.428</td> <td>   -0.250</td> <td>    0.586</td>\n",
       "</tr>\n",
       "<tr>\n",
       "  <th>count_ain_lag_rt</th> <td>    0.3198</td> <td>    0.072</td> <td>    4.464</td> <td> 0.000</td> <td>    0.179</td> <td>    0.461</td>\n",
       "</tr>\n",
       "<tr>\n",
       "  <th>count_ain_lag_tw</th> <td>    0.4026</td> <td>    0.069</td> <td>    5.817</td> <td> 0.000</td> <td>    0.266</td> <td>    0.539</td>\n",
       "</tr>\n",
       "<tr>\n",
       "  <th>treat_rt</th>         <td>   -0.1723</td> <td>    0.125</td> <td>   -1.375</td> <td> 0.170</td> <td>   -0.419</td> <td>    0.075</td>\n",
       "</tr>\n",
       "<tr>\n",
       "  <th>dist_to_treat_rt</th> <td>   -0.0018</td> <td>    0.001</td> <td>   -1.719</td> <td> 0.087</td> <td>   -0.004</td> <td>    0.000</td>\n",
       "</tr>\n",
       "</table>\n",
       "<table class=\"simpletable\">\n",
       "<tr>\n",
       "  <th>Omnibus:</th>       <td> 9.499</td> <th>  Durbin-Watson:     </th> <td>   1.954</td>\n",
       "</tr>\n",
       "<tr>\n",
       "  <th>Prob(Omnibus):</th> <td> 0.009</td> <th>  Jarque-Bera (JB):  </th> <td>  13.770</td>\n",
       "</tr>\n",
       "<tr>\n",
       "  <th>Skew:</th>          <td>-0.254</td> <th>  Prob(JB):          </th> <td> 0.00102</td>\n",
       "</tr>\n",
       "<tr>\n",
       "  <th>Kurtosis:</th>      <td> 4.052</td> <th>  Cond. No.          </th> <td>    732.</td>\n",
       "</tr>\n",
       "</table><br/><br/>Warnings:<br/>[1] Standard Errors assume that the covariance matrix of the errors is correctly specified."
      ],
      "text/plain": [
       "<class 'statsmodels.iolib.summary.Summary'>\n",
       "\"\"\"\n",
       "                                 OLS Regression Results                                \n",
       "=======================================================================================\n",
       "Dep. Variable:           count_ain_tw   R-squared (uncentered):                   0.989\n",
       "Model:                            OLS   Adj. R-squared (uncentered):              0.989\n",
       "Method:                 Least Squares   F-statistic:                              3601.\n",
       "Date:                Fri, 13 Nov 2020   Prob (F-statistic):                   6.41e-229\n",
       "Time:                        18:02:32   Log-Likelihood:                         -91.356\n",
       "No. Observations:                 242   AIC:                                      194.7\n",
       "Df Residuals:                     236   BIC:                                      215.6\n",
       "Df Model:                           6                                                  \n",
       "Covariance Type:            nonrobust                                                  \n",
       "====================================================================================\n",
       "                       coef    std err          t      P>|t|      [0.025      0.975]\n",
       "------------------------------------------------------------------------------------\n",
       "count_yt_tw         -0.0947      0.208     -0.456      0.649      -0.504       0.314\n",
       "count_yt_rt          0.1683      0.212      0.793      0.428      -0.250       0.586\n",
       "count_ain_lag_rt     0.3198      0.072      4.464      0.000       0.179       0.461\n",
       "count_ain_lag_tw     0.4026      0.069      5.817      0.000       0.266       0.539\n",
       "treat_rt            -0.1723      0.125     -1.375      0.170      -0.419       0.075\n",
       "dist_to_treat_rt    -0.0018      0.001     -1.719      0.087      -0.004       0.000\n",
       "==============================================================================\n",
       "Omnibus:                        9.499   Durbin-Watson:                   1.954\n",
       "Prob(Omnibus):                  0.009   Jarque-Bera (JB):               13.770\n",
       "Skew:                          -0.254   Prob(JB):                      0.00102\n",
       "Kurtosis:                       4.052   Cond. No.                         732.\n",
       "==============================================================================\n",
       "\n",
       "Warnings:\n",
       "[1] Standard Errors assume that the covariance matrix of the errors is correctly specified.\n",
       "\"\"\""
      ]
     },
     "execution_count": 86,
     "metadata": {},
     "output_type": "execute_result"
    }
   ],
   "source": [
    "exog = merged_daily_df[[\n",
    "    \"count_yt_tw\",\n",
    "    \"count_yt_rt\",\n",
    "    \"count_ain_lag_rt\",\n",
    "    \"count_ain_lag_tw\",\n",
    "    \"treat_rt\",\n",
    "    \"dist_to_treat_rt\"\n",
    "]].copy()\n",
    "\n",
    "exog[\"count_yt_tw\"] = np.log(exog[\"count_yt_tw\"] + 1)\n",
    "exog[\"count_yt_rt\"] = np.log(exog[\"count_yt_rt\"] + 1)\n",
    "exog[\"count_ain_lag_rt\"] = np.log(exog[\"count_ain_lag_rt\"] + 1)\n",
    "exog[\"count_ain_lag_tw\"] = np.log(exog[\"count_ain_lag_tw\"] + 1)\n",
    "\n",
    "mod = sm.OLS(np.log(merged_daily_df[[\"count_ain_tw\"]] + 1), exog)\n",
    "res = mod.fit()\n",
    "\n",
    "res.summary()"
   ]
  },
  {
   "cell_type": "code",
   "execution_count": 87,
   "metadata": {},
   "outputs": [
    {
     "data": {
      "text/html": [
       "<table class=\"simpletable\">\n",
       "<caption>OLS Regression Results</caption>\n",
       "<tr>\n",
       "  <th>Dep. Variable:</th>      <td>count_ain_rt</td>   <th>  R-squared (uncentered):</th>      <td>   0.996</td> \n",
       "</tr>\n",
       "<tr>\n",
       "  <th>Model:</th>                   <td>OLS</td>       <th>  Adj. R-squared (uncentered):</th> <td>   0.995</td> \n",
       "</tr>\n",
       "<tr>\n",
       "  <th>Method:</th>             <td>Least Squares</td>  <th>  F-statistic:       </th>          <td>   8738.</td> \n",
       "</tr>\n",
       "<tr>\n",
       "  <th>Date:</th>             <td>Fri, 13 Nov 2020</td> <th>  Prob (F-statistic):</th>          <td>5.22e-274</td>\n",
       "</tr>\n",
       "<tr>\n",
       "  <th>Time:</th>                 <td>18:02:32</td>     <th>  Log-Likelihood:    </th>          <td> -45.261</td> \n",
       "</tr>\n",
       "<tr>\n",
       "  <th>No. Observations:</th>      <td>   242</td>      <th>  AIC:               </th>          <td>   102.5</td> \n",
       "</tr>\n",
       "<tr>\n",
       "  <th>Df Residuals:</th>          <td>   236</td>      <th>  BIC:               </th>          <td>   123.5</td> \n",
       "</tr>\n",
       "<tr>\n",
       "  <th>Df Model:</th>              <td>     6</td>      <th>                     </th>              <td> </td>    \n",
       "</tr>\n",
       "<tr>\n",
       "  <th>Covariance Type:</th>      <td>nonrobust</td>    <th>                     </th>              <td> </td>    \n",
       "</tr>\n",
       "</table>\n",
       "<table class=\"simpletable\">\n",
       "<tr>\n",
       "          <td></td>            <th>coef</th>     <th>std err</th>      <th>t</th>      <th>P>|t|</th>  <th>[0.025</th>    <th>0.975]</th>  \n",
       "</tr>\n",
       "<tr>\n",
       "  <th>count_yt_tw</th>      <td>   -0.3179</td> <td>    0.172</td> <td>   -1.853</td> <td> 0.065</td> <td>   -0.656</td> <td>    0.020</td>\n",
       "</tr>\n",
       "<tr>\n",
       "  <th>count_yt_rt</th>      <td>    0.4280</td> <td>    0.175</td> <td>    2.440</td> <td> 0.015</td> <td>    0.082</td> <td>    0.773</td>\n",
       "</tr>\n",
       "<tr>\n",
       "  <th>count_ain_lag_rt</th> <td>    0.6964</td> <td>    0.059</td> <td>   11.763</td> <td> 0.000</td> <td>    0.580</td> <td>    0.813</td>\n",
       "</tr>\n",
       "<tr>\n",
       "  <th>count_ain_lag_tw</th> <td>    0.0771</td> <td>    0.057</td> <td>    1.348</td> <td> 0.179</td> <td>   -0.036</td> <td>    0.190</td>\n",
       "</tr>\n",
       "<tr>\n",
       "  <th>treat_rt</th>         <td>   -0.0091</td> <td>    0.104</td> <td>   -0.088</td> <td> 0.930</td> <td>   -0.213</td> <td>    0.195</td>\n",
       "</tr>\n",
       "<tr>\n",
       "  <th>dist_to_treat_rt</th> <td>   -0.0033</td> <td>    0.001</td> <td>   -3.761</td> <td> 0.000</td> <td>   -0.005</td> <td>   -0.002</td>\n",
       "</tr>\n",
       "</table>\n",
       "<table class=\"simpletable\">\n",
       "<tr>\n",
       "  <th>Omnibus:</th>       <td> 0.776</td> <th>  Durbin-Watson:     </th> <td>   2.229</td>\n",
       "</tr>\n",
       "<tr>\n",
       "  <th>Prob(Omnibus):</th> <td> 0.678</td> <th>  Jarque-Bera (JB):  </th> <td>   0.539</td>\n",
       "</tr>\n",
       "<tr>\n",
       "  <th>Skew:</th>          <td>-0.097</td> <th>  Prob(JB):          </th> <td>   0.764</td>\n",
       "</tr>\n",
       "<tr>\n",
       "  <th>Kurtosis:</th>      <td> 3.125</td> <th>  Cond. No.          </th> <td>    732.</td>\n",
       "</tr>\n",
       "</table><br/><br/>Warnings:<br/>[1] Standard Errors assume that the covariance matrix of the errors is correctly specified."
      ],
      "text/plain": [
       "<class 'statsmodels.iolib.summary.Summary'>\n",
       "\"\"\"\n",
       "                                 OLS Regression Results                                \n",
       "=======================================================================================\n",
       "Dep. Variable:           count_ain_rt   R-squared (uncentered):                   0.996\n",
       "Model:                            OLS   Adj. R-squared (uncentered):              0.995\n",
       "Method:                 Least Squares   F-statistic:                              8738.\n",
       "Date:                Fri, 13 Nov 2020   Prob (F-statistic):                   5.22e-274\n",
       "Time:                        18:02:32   Log-Likelihood:                         -45.261\n",
       "No. Observations:                 242   AIC:                                      102.5\n",
       "Df Residuals:                     236   BIC:                                      123.5\n",
       "Df Model:                           6                                                  \n",
       "Covariance Type:            nonrobust                                                  \n",
       "====================================================================================\n",
       "                       coef    std err          t      P>|t|      [0.025      0.975]\n",
       "------------------------------------------------------------------------------------\n",
       "count_yt_tw         -0.3179      0.172     -1.853      0.065      -0.656       0.020\n",
       "count_yt_rt          0.4280      0.175      2.440      0.015       0.082       0.773\n",
       "count_ain_lag_rt     0.6964      0.059     11.763      0.000       0.580       0.813\n",
       "count_ain_lag_tw     0.0771      0.057      1.348      0.179      -0.036       0.190\n",
       "treat_rt            -0.0091      0.104     -0.088      0.930      -0.213       0.195\n",
       "dist_to_treat_rt    -0.0033      0.001     -3.761      0.000      -0.005      -0.002\n",
       "==============================================================================\n",
       "Omnibus:                        0.776   Durbin-Watson:                   2.229\n",
       "Prob(Omnibus):                  0.678   Jarque-Bera (JB):                0.539\n",
       "Skew:                          -0.097   Prob(JB):                        0.764\n",
       "Kurtosis:                       3.125   Cond. No.                         732.\n",
       "==============================================================================\n",
       "\n",
       "Warnings:\n",
       "[1] Standard Errors assume that the covariance matrix of the errors is correctly specified.\n",
       "\"\"\""
      ]
     },
     "execution_count": 87,
     "metadata": {},
     "output_type": "execute_result"
    }
   ],
   "source": [
    "exog = merged_daily_df[[\n",
    "    \"count_yt_tw\",\n",
    "    \"count_yt_rt\",\n",
    "    \"count_ain_lag_rt\",\n",
    "    \"count_ain_lag_tw\",\n",
    "    \"treat_rt\",\n",
    "    \"dist_to_treat_rt\"\n",
    "]].copy()\n",
    "\n",
    "exog[\"count_yt_tw\"] = np.log(exog[\"count_yt_tw\"] + 1)\n",
    "exog[\"count_yt_rt\"] = np.log(exog[\"count_yt_rt\"] + 1)\n",
    "exog[\"count_ain_lag_rt\"] = np.log(exog[\"count_ain_lag_rt\"] + 1)\n",
    "exog[\"count_ain_lag_tw\"] = np.log(exog[\"count_ain_lag_tw\"] + 1)\n",
    "\n",
    "mod = sm.OLS(np.log(merged_daily_df[[\"count_ain_rt\"]] + 1), exog)\n",
    "res = mod.fit()\n",
    "\n",
    "res.summary()"
   ]
  },
  {
   "cell_type": "code",
   "execution_count": 88,
   "metadata": {},
   "outputs": [
    {
     "data": {
      "text/html": [
       "<table class=\"simpletable\">\n",
       "<caption>OLS Regression Results</caption>\n",
       "<tr>\n",
       "  <th>Dep. Variable:</th>      <td>count_cons_tw</td>  <th>  R-squared (uncentered):</th>      <td>   0.989</td> \n",
       "</tr>\n",
       "<tr>\n",
       "  <th>Model:</th>                   <td>OLS</td>       <th>  Adj. R-squared (uncentered):</th> <td>   0.989</td> \n",
       "</tr>\n",
       "<tr>\n",
       "  <th>Method:</th>             <td>Least Squares</td>  <th>  F-statistic:       </th>          <td>   3682.</td> \n",
       "</tr>\n",
       "<tr>\n",
       "  <th>Date:</th>             <td>Fri, 13 Nov 2020</td> <th>  Prob (F-statistic):</th>          <td>4.84e-230</td>\n",
       "</tr>\n",
       "<tr>\n",
       "  <th>Time:</th>                 <td>18:02:32</td>     <th>  Log-Likelihood:    </th>          <td> -102.99</td> \n",
       "</tr>\n",
       "<tr>\n",
       "  <th>No. Observations:</th>      <td>   242</td>      <th>  AIC:               </th>          <td>   218.0</td> \n",
       "</tr>\n",
       "<tr>\n",
       "  <th>Df Residuals:</th>          <td>   236</td>      <th>  BIC:               </th>          <td>   238.9</td> \n",
       "</tr>\n",
       "<tr>\n",
       "  <th>Df Model:</th>              <td>     6</td>      <th>                     </th>              <td> </td>    \n",
       "</tr>\n",
       "<tr>\n",
       "  <th>Covariance Type:</th>      <td>nonrobust</td>    <th>                     </th>              <td> </td>    \n",
       "</tr>\n",
       "</table>\n",
       "<table class=\"simpletable\">\n",
       "<tr>\n",
       "          <td></td>             <th>coef</th>     <th>std err</th>      <th>t</th>      <th>P>|t|</th>  <th>[0.025</th>    <th>0.975]</th>  \n",
       "</tr>\n",
       "<tr>\n",
       "  <th>count_yt_tw</th>       <td>    0.2662</td> <td>    0.217</td> <td>    1.226</td> <td> 0.221</td> <td>   -0.162</td> <td>    0.694</td>\n",
       "</tr>\n",
       "<tr>\n",
       "  <th>count_yt_rt</th>       <td>   -0.0642</td> <td>    0.224</td> <td>   -0.287</td> <td> 0.775</td> <td>   -0.505</td> <td>    0.377</td>\n",
       "</tr>\n",
       "<tr>\n",
       "  <th>count_cons_lag_rt</th> <td>    0.2550</td> <td>    0.060</td> <td>    4.250</td> <td> 0.000</td> <td>    0.137</td> <td>    0.373</td>\n",
       "</tr>\n",
       "<tr>\n",
       "  <th>count_cons_lag_tw</th> <td>    0.2393</td> <td>    0.068</td> <td>    3.500</td> <td> 0.001</td> <td>    0.105</td> <td>    0.374</td>\n",
       "</tr>\n",
       "<tr>\n",
       "  <th>treat_rt</th>          <td>    0.1000</td> <td>    0.130</td> <td>    0.769</td> <td> 0.443</td> <td>   -0.156</td> <td>    0.356</td>\n",
       "</tr>\n",
       "<tr>\n",
       "  <th>dist_to_treat_rt</th>  <td>   -0.0070</td> <td>    0.001</td> <td>   -5.836</td> <td> 0.000</td> <td>   -0.009</td> <td>   -0.005</td>\n",
       "</tr>\n",
       "</table>\n",
       "<table class=\"simpletable\">\n",
       "<tr>\n",
       "  <th>Omnibus:</th>       <td>31.842</td> <th>  Durbin-Watson:     </th> <td>   2.173</td>\n",
       "</tr>\n",
       "<tr>\n",
       "  <th>Prob(Omnibus):</th> <td> 0.000</td> <th>  Jarque-Bera (JB):  </th> <td> 186.468</td>\n",
       "</tr>\n",
       "<tr>\n",
       "  <th>Skew:</th>          <td> 0.184</td> <th>  Prob(JB):          </th> <td>3.23e-41</td>\n",
       "</tr>\n",
       "<tr>\n",
       "  <th>Kurtosis:</th>      <td> 7.285</td> <th>  Cond. No.          </th> <td>    734.</td>\n",
       "</tr>\n",
       "</table><br/><br/>Warnings:<br/>[1] Standard Errors assume that the covariance matrix of the errors is correctly specified."
      ],
      "text/plain": [
       "<class 'statsmodels.iolib.summary.Summary'>\n",
       "\"\"\"\n",
       "                                 OLS Regression Results                                \n",
       "=======================================================================================\n",
       "Dep. Variable:          count_cons_tw   R-squared (uncentered):                   0.989\n",
       "Model:                            OLS   Adj. R-squared (uncentered):              0.989\n",
       "Method:                 Least Squares   F-statistic:                              3682.\n",
       "Date:                Fri, 13 Nov 2020   Prob (F-statistic):                   4.84e-230\n",
       "Time:                        18:02:32   Log-Likelihood:                         -102.99\n",
       "No. Observations:                 242   AIC:                                      218.0\n",
       "Df Residuals:                     236   BIC:                                      238.9\n",
       "Df Model:                           6                                                  \n",
       "Covariance Type:            nonrobust                                                  \n",
       "=====================================================================================\n",
       "                        coef    std err          t      P>|t|      [0.025      0.975]\n",
       "-------------------------------------------------------------------------------------\n",
       "count_yt_tw           0.2662      0.217      1.226      0.221      -0.162       0.694\n",
       "count_yt_rt          -0.0642      0.224     -0.287      0.775      -0.505       0.377\n",
       "count_cons_lag_rt     0.2550      0.060      4.250      0.000       0.137       0.373\n",
       "count_cons_lag_tw     0.2393      0.068      3.500      0.001       0.105       0.374\n",
       "treat_rt              0.1000      0.130      0.769      0.443      -0.156       0.356\n",
       "dist_to_treat_rt     -0.0070      0.001     -5.836      0.000      -0.009      -0.005\n",
       "==============================================================================\n",
       "Omnibus:                       31.842   Durbin-Watson:                   2.173\n",
       "Prob(Omnibus):                  0.000   Jarque-Bera (JB):              186.468\n",
       "Skew:                           0.184   Prob(JB):                     3.23e-41\n",
       "Kurtosis:                       7.285   Cond. No.                         734.\n",
       "==============================================================================\n",
       "\n",
       "Warnings:\n",
       "[1] Standard Errors assume that the covariance matrix of the errors is correctly specified.\n",
       "\"\"\""
      ]
     },
     "execution_count": 88,
     "metadata": {},
     "output_type": "execute_result"
    }
   ],
   "source": [
    "exog = merged_daily_df[[\n",
    "    \"count_yt_tw\",\n",
    "    \"count_yt_rt\",\n",
    "    \"count_cons_lag_rt\",\n",
    "    \"count_cons_lag_tw\",\n",
    "    \"treat_rt\",\n",
    "    \"dist_to_treat_rt\"\n",
    "]].copy()\n",
    "\n",
    "exog[\"count_yt_tw\"] = np.log(exog[\"count_yt_tw\"] + 1)\n",
    "exog[\"count_yt_rt\"] = np.log(exog[\"count_yt_rt\"] + 1)\n",
    "exog[\"count_cons_lag_rt\"] = np.log(exog[\"count_cons_lag_rt\"] + 1)\n",
    "exog[\"count_cons_lag_tw\"] = np.log(exog[\"count_cons_lag_tw\"] + 1)\n",
    "\n",
    "mod = sm.OLS(np.log(merged_daily_df[[\"count_cons_tw\"]] + 1), exog)\n",
    "res = mod.fit()\n",
    "\n",
    "res.summary()"
   ]
  },
  {
   "cell_type": "code",
   "execution_count": 89,
   "metadata": {},
   "outputs": [
    {
     "data": {
      "text/html": [
       "<table class=\"simpletable\">\n",
       "<caption>OLS Regression Results</caption>\n",
       "<tr>\n",
       "  <th>Dep. Variable:</th>      <td>count_cons_rt</td>  <th>  R-squared (uncentered):</th>      <td>   0.986</td> \n",
       "</tr>\n",
       "<tr>\n",
       "  <th>Model:</th>                   <td>OLS</td>       <th>  Adj. R-squared (uncentered):</th> <td>   0.985</td> \n",
       "</tr>\n",
       "<tr>\n",
       "  <th>Method:</th>             <td>Least Squares</td>  <th>  F-statistic:       </th>          <td>   2699.</td> \n",
       "</tr>\n",
       "<tr>\n",
       "  <th>Date:</th>             <td>Fri, 13 Nov 2020</td> <th>  Prob (F-statistic):</th>          <td>2.52e-214</td>\n",
       "</tr>\n",
       "<tr>\n",
       "  <th>Time:</th>                 <td>18:02:32</td>     <th>  Log-Likelihood:    </th>          <td> -123.51</td> \n",
       "</tr>\n",
       "<tr>\n",
       "  <th>No. Observations:</th>      <td>   242</td>      <th>  AIC:               </th>          <td>   259.0</td> \n",
       "</tr>\n",
       "<tr>\n",
       "  <th>Df Residuals:</th>          <td>   236</td>      <th>  BIC:               </th>          <td>   280.0</td> \n",
       "</tr>\n",
       "<tr>\n",
       "  <th>Df Model:</th>              <td>     6</td>      <th>                     </th>              <td> </td>    \n",
       "</tr>\n",
       "<tr>\n",
       "  <th>Covariance Type:</th>      <td>nonrobust</td>    <th>                     </th>              <td> </td>    \n",
       "</tr>\n",
       "</table>\n",
       "<table class=\"simpletable\">\n",
       "<tr>\n",
       "          <td></td>             <th>coef</th>     <th>std err</th>      <th>t</th>      <th>P>|t|</th>  <th>[0.025</th>    <th>0.975]</th>  \n",
       "</tr>\n",
       "<tr>\n",
       "  <th>count_yt_tw</th>       <td>   -0.5922</td> <td>    0.236</td> <td>   -2.505</td> <td> 0.013</td> <td>   -1.058</td> <td>   -0.126</td>\n",
       "</tr>\n",
       "<tr>\n",
       "  <th>count_yt_rt</th>       <td>    0.7439</td> <td>    0.244</td> <td>    3.052</td> <td> 0.003</td> <td>    0.264</td> <td>    1.224</td>\n",
       "</tr>\n",
       "<tr>\n",
       "  <th>count_cons_lag_rt</th> <td>    0.3673</td> <td>    0.065</td> <td>    5.624</td> <td> 0.000</td> <td>    0.239</td> <td>    0.496</td>\n",
       "</tr>\n",
       "<tr>\n",
       "  <th>count_cons_lag_tw</th> <td>    0.2086</td> <td>    0.074</td> <td>    2.803</td> <td> 0.005</td> <td>    0.062</td> <td>    0.355</td>\n",
       "</tr>\n",
       "<tr>\n",
       "  <th>treat_rt</th>          <td>   -0.2177</td> <td>    0.142</td> <td>   -1.537</td> <td> 0.126</td> <td>   -0.497</td> <td>    0.061</td>\n",
       "</tr>\n",
       "<tr>\n",
       "  <th>dist_to_treat_rt</th>  <td>   -0.0046</td> <td>    0.001</td> <td>   -3.549</td> <td> 0.000</td> <td>   -0.007</td> <td>   -0.002</td>\n",
       "</tr>\n",
       "</table>\n",
       "<table class=\"simpletable\">\n",
       "<tr>\n",
       "  <th>Omnibus:</th>       <td>22.982</td> <th>  Durbin-Watson:     </th> <td>   2.274</td>\n",
       "</tr>\n",
       "<tr>\n",
       "  <th>Prob(Omnibus):</th> <td> 0.000</td> <th>  Jarque-Bera (JB):  </th> <td>  54.278</td>\n",
       "</tr>\n",
       "<tr>\n",
       "  <th>Skew:</th>          <td>-0.421</td> <th>  Prob(JB):          </th> <td>1.64e-12</td>\n",
       "</tr>\n",
       "<tr>\n",
       "  <th>Kurtosis:</th>      <td> 5.162</td> <th>  Cond. No.          </th> <td>    734.</td>\n",
       "</tr>\n",
       "</table><br/><br/>Warnings:<br/>[1] Standard Errors assume that the covariance matrix of the errors is correctly specified."
      ],
      "text/plain": [
       "<class 'statsmodels.iolib.summary.Summary'>\n",
       "\"\"\"\n",
       "                                 OLS Regression Results                                \n",
       "=======================================================================================\n",
       "Dep. Variable:          count_cons_rt   R-squared (uncentered):                   0.986\n",
       "Model:                            OLS   Adj. R-squared (uncentered):              0.985\n",
       "Method:                 Least Squares   F-statistic:                              2699.\n",
       "Date:                Fri, 13 Nov 2020   Prob (F-statistic):                   2.52e-214\n",
       "Time:                        18:02:32   Log-Likelihood:                         -123.51\n",
       "No. Observations:                 242   AIC:                                      259.0\n",
       "Df Residuals:                     236   BIC:                                      280.0\n",
       "Df Model:                           6                                                  \n",
       "Covariance Type:            nonrobust                                                  \n",
       "=====================================================================================\n",
       "                        coef    std err          t      P>|t|      [0.025      0.975]\n",
       "-------------------------------------------------------------------------------------\n",
       "count_yt_tw          -0.5922      0.236     -2.505      0.013      -1.058      -0.126\n",
       "count_yt_rt           0.7439      0.244      3.052      0.003       0.264       1.224\n",
       "count_cons_lag_rt     0.3673      0.065      5.624      0.000       0.239       0.496\n",
       "count_cons_lag_tw     0.2086      0.074      2.803      0.005       0.062       0.355\n",
       "treat_rt             -0.2177      0.142     -1.537      0.126      -0.497       0.061\n",
       "dist_to_treat_rt     -0.0046      0.001     -3.549      0.000      -0.007      -0.002\n",
       "==============================================================================\n",
       "Omnibus:                       22.982   Durbin-Watson:                   2.274\n",
       "Prob(Omnibus):                  0.000   Jarque-Bera (JB):               54.278\n",
       "Skew:                          -0.421   Prob(JB):                     1.64e-12\n",
       "Kurtosis:                       5.162   Cond. No.                         734.\n",
       "==============================================================================\n",
       "\n",
       "Warnings:\n",
       "[1] Standard Errors assume that the covariance matrix of the errors is correctly specified.\n",
       "\"\"\""
      ]
     },
     "execution_count": 89,
     "metadata": {},
     "output_type": "execute_result"
    }
   ],
   "source": [
    "exog = merged_daily_df[[\n",
    "    \"count_yt_tw\",\n",
    "    \"count_yt_rt\",\n",
    "    \"count_cons_lag_rt\",\n",
    "    \"count_cons_lag_tw\",\n",
    "    \"treat_rt\",\n",
    "    \"dist_to_treat_rt\"\n",
    "]].copy()\n",
    "\n",
    "exog[\"count_yt_tw\"] = np.log(exog[\"count_yt_tw\"] + 1)\n",
    "exog[\"count_yt_rt\"] = np.log(exog[\"count_yt_rt\"] + 1)\n",
    "exog[\"count_cons_lag_rt\"] = np.log(exog[\"count_cons_lag_rt\"] + 1)\n",
    "exog[\"count_cons_lag_tw\"] = np.log(exog[\"count_cons_lag_tw\"] + 1)\n",
    "\n",
    "mod = sm.OLS(np.log(merged_daily_df[[\"count_cons_rt\"]] + 1), exog)\n",
    "res = mod.fit()\n",
    "\n",
    "res.summary()"
   ]
  },
  {
   "cell_type": "code",
   "execution_count": 90,
   "metadata": {},
   "outputs": [
    {
     "data": {
      "text/html": [
       "<table class=\"simpletable\">\n",
       "<caption>OLS Regression Results</caption>\n",
       "<tr>\n",
       "  <th>Dep. Variable:</th>      <td>count_msm_tw</td>   <th>  R-squared (uncentered):</th>      <td>   0.996</td> \n",
       "</tr>\n",
       "<tr>\n",
       "  <th>Model:</th>                   <td>OLS</td>       <th>  Adj. R-squared (uncentered):</th> <td>   0.996</td> \n",
       "</tr>\n",
       "<tr>\n",
       "  <th>Method:</th>             <td>Least Squares</td>  <th>  F-statistic:       </th>          <td>   9723.</td> \n",
       "</tr>\n",
       "<tr>\n",
       "  <th>Date:</th>             <td>Fri, 13 Nov 2020</td> <th>  Prob (F-statistic):</th>          <td>1.84e-279</td>\n",
       "</tr>\n",
       "<tr>\n",
       "  <th>Time:</th>                 <td>18:02:32</td>     <th>  Log-Likelihood:    </th>          <td> -17.461</td> \n",
       "</tr>\n",
       "<tr>\n",
       "  <th>No. Observations:</th>      <td>   242</td>      <th>  AIC:               </th>          <td>   46.92</td> \n",
       "</tr>\n",
       "<tr>\n",
       "  <th>Df Residuals:</th>          <td>   236</td>      <th>  BIC:               </th>          <td>   67.85</td> \n",
       "</tr>\n",
       "<tr>\n",
       "  <th>Df Model:</th>              <td>     6</td>      <th>                     </th>              <td> </td>    \n",
       "</tr>\n",
       "<tr>\n",
       "  <th>Covariance Type:</th>      <td>nonrobust</td>    <th>                     </th>              <td> </td>    \n",
       "</tr>\n",
       "</table>\n",
       "<table class=\"simpletable\">\n",
       "<tr>\n",
       "          <td></td>            <th>coef</th>     <th>std err</th>      <th>t</th>      <th>P>|t|</th>  <th>[0.025</th>    <th>0.975]</th>  \n",
       "</tr>\n",
       "<tr>\n",
       "  <th>count_yt_tw</th>      <td>    0.0653</td> <td>    0.157</td> <td>    0.417</td> <td> 0.677</td> <td>   -0.244</td> <td>    0.374</td>\n",
       "</tr>\n",
       "<tr>\n",
       "  <th>count_yt_rt</th>      <td>    0.1483</td> <td>    0.158</td> <td>    0.940</td> <td> 0.348</td> <td>   -0.163</td> <td>    0.459</td>\n",
       "</tr>\n",
       "<tr>\n",
       "  <th>count_msm_lag_rt</th> <td>    0.1621</td> <td>    0.087</td> <td>    1.858</td> <td> 0.064</td> <td>   -0.010</td> <td>    0.334</td>\n",
       "</tr>\n",
       "<tr>\n",
       "  <th>count_msm_lag_tw</th> <td>    0.2816</td> <td>    0.072</td> <td>    3.927</td> <td> 0.000</td> <td>    0.140</td> <td>    0.423</td>\n",
       "</tr>\n",
       "<tr>\n",
       "  <th>treat_rt</th>         <td>   -0.1866</td> <td>    0.093</td> <td>   -2.006</td> <td> 0.046</td> <td>   -0.370</td> <td>   -0.003</td>\n",
       "</tr>\n",
       "<tr>\n",
       "  <th>dist_to_treat_rt</th> <td>    0.0023</td> <td>    0.001</td> <td>    3.396</td> <td> 0.001</td> <td>    0.001</td> <td>    0.004</td>\n",
       "</tr>\n",
       "</table>\n",
       "<table class=\"simpletable\">\n",
       "<tr>\n",
       "  <th>Omnibus:</th>       <td>17.256</td> <th>  Durbin-Watson:     </th> <td>   2.012</td>\n",
       "</tr>\n",
       "<tr>\n",
       "  <th>Prob(Omnibus):</th> <td> 0.000</td> <th>  Jarque-Bera (JB):  </th> <td>  23.390</td>\n",
       "</tr>\n",
       "<tr>\n",
       "  <th>Skew:</th>          <td> 0.500</td> <th>  Prob(JB):          </th> <td>8.34e-06</td>\n",
       "</tr>\n",
       "<tr>\n",
       "  <th>Kurtosis:</th>      <td> 4.149</td> <th>  Cond. No.          </th> <td>    742.</td>\n",
       "</tr>\n",
       "</table><br/><br/>Warnings:<br/>[1] Standard Errors assume that the covariance matrix of the errors is correctly specified."
      ],
      "text/plain": [
       "<class 'statsmodels.iolib.summary.Summary'>\n",
       "\"\"\"\n",
       "                                 OLS Regression Results                                \n",
       "=======================================================================================\n",
       "Dep. Variable:           count_msm_tw   R-squared (uncentered):                   0.996\n",
       "Model:                            OLS   Adj. R-squared (uncentered):              0.996\n",
       "Method:                 Least Squares   F-statistic:                              9723.\n",
       "Date:                Fri, 13 Nov 2020   Prob (F-statistic):                   1.84e-279\n",
       "Time:                        18:02:32   Log-Likelihood:                         -17.461\n",
       "No. Observations:                 242   AIC:                                      46.92\n",
       "Df Residuals:                     236   BIC:                                      67.85\n",
       "Df Model:                           6                                                  \n",
       "Covariance Type:            nonrobust                                                  \n",
       "====================================================================================\n",
       "                       coef    std err          t      P>|t|      [0.025      0.975]\n",
       "------------------------------------------------------------------------------------\n",
       "count_yt_tw          0.0653      0.157      0.417      0.677      -0.244       0.374\n",
       "count_yt_rt          0.1483      0.158      0.940      0.348      -0.163       0.459\n",
       "count_msm_lag_rt     0.1621      0.087      1.858      0.064      -0.010       0.334\n",
       "count_msm_lag_tw     0.2816      0.072      3.927      0.000       0.140       0.423\n",
       "treat_rt            -0.1866      0.093     -2.006      0.046      -0.370      -0.003\n",
       "dist_to_treat_rt     0.0023      0.001      3.396      0.001       0.001       0.004\n",
       "==============================================================================\n",
       "Omnibus:                       17.256   Durbin-Watson:                   2.012\n",
       "Prob(Omnibus):                  0.000   Jarque-Bera (JB):               23.390\n",
       "Skew:                           0.500   Prob(JB):                     8.34e-06\n",
       "Kurtosis:                       4.149   Cond. No.                         742.\n",
       "==============================================================================\n",
       "\n",
       "Warnings:\n",
       "[1] Standard Errors assume that the covariance matrix of the errors is correctly specified.\n",
       "\"\"\""
      ]
     },
     "execution_count": 90,
     "metadata": {},
     "output_type": "execute_result"
    }
   ],
   "source": [
    "exog = merged_daily_df[[\n",
    "    \"count_yt_tw\",\n",
    "    \"count_yt_rt\",\n",
    "    \"count_msm_lag_rt\",\n",
    "    \"count_msm_lag_tw\",\n",
    "    \"treat_rt\",\n",
    "    \"dist_to_treat_rt\"\n",
    "]].copy()\n",
    "\n",
    "exog[\"count_yt_tw\"] = np.log(exog[\"count_yt_tw\"] + 1)\n",
    "exog[\"count_yt_rt\"] = np.log(exog[\"count_yt_rt\"] + 1)\n",
    "exog[\"count_msm_lag_rt\"] = np.log(exog[\"count_msm_lag_rt\"] + 1)\n",
    "exog[\"count_msm_lag_tw\"] = np.log(exog[\"count_msm_lag_tw\"] + 1)\n",
    "\n",
    "mod = sm.OLS(np.log(merged_daily_df[[\"count_msm_tw\"]] + 1), exog)\n",
    "res = mod.fit()\n",
    "\n",
    "res.summary()"
   ]
  },
  {
   "cell_type": "code",
   "execution_count": 91,
   "metadata": {},
   "outputs": [
    {
     "data": {
      "text/html": [
       "<table class=\"simpletable\">\n",
       "<caption>OLS Regression Results</caption>\n",
       "<tr>\n",
       "  <th>Dep. Variable:</th>      <td>count_msm_rt</td>   <th>  R-squared (uncentered):</th>      <td>   0.998</td> \n",
       "</tr>\n",
       "<tr>\n",
       "  <th>Model:</th>                   <td>OLS</td>       <th>  Adj. R-squared (uncentered):</th> <td>   0.998</td> \n",
       "</tr>\n",
       "<tr>\n",
       "  <th>Method:</th>             <td>Least Squares</td>  <th>  F-statistic:       </th>          <td>2.186e+04</td>\n",
       "</tr>\n",
       "<tr>\n",
       "  <th>Date:</th>             <td>Fri, 13 Nov 2020</td> <th>  Prob (F-statistic):</th>          <td>7.36e-321</td>\n",
       "</tr>\n",
       "<tr>\n",
       "  <th>Time:</th>                 <td>18:02:32</td>     <th>  Log-Likelihood:    </th>          <td>  38.716</td> \n",
       "</tr>\n",
       "<tr>\n",
       "  <th>No. Observations:</th>      <td>   242</td>      <th>  AIC:               </th>          <td>  -65.43</td> \n",
       "</tr>\n",
       "<tr>\n",
       "  <th>Df Residuals:</th>          <td>   236</td>      <th>  BIC:               </th>          <td>  -44.50</td> \n",
       "</tr>\n",
       "<tr>\n",
       "  <th>Df Model:</th>              <td>     6</td>      <th>                     </th>              <td> </td>    \n",
       "</tr>\n",
       "<tr>\n",
       "  <th>Covariance Type:</th>      <td>nonrobust</td>    <th>                     </th>              <td> </td>    \n",
       "</tr>\n",
       "</table>\n",
       "<table class=\"simpletable\">\n",
       "<tr>\n",
       "          <td></td>            <th>coef</th>     <th>std err</th>      <th>t</th>      <th>P>|t|</th>  <th>[0.025</th>    <th>0.975]</th>  \n",
       "</tr>\n",
       "<tr>\n",
       "  <th>count_yt_tw</th>      <td>   -0.2264</td> <td>    0.124</td> <td>   -1.821</td> <td> 0.070</td> <td>   -0.471</td> <td>    0.019</td>\n",
       "</tr>\n",
       "<tr>\n",
       "  <th>count_yt_rt</th>      <td>    0.5384</td> <td>    0.125</td> <td>    4.303</td> <td> 0.000</td> <td>    0.292</td> <td>    0.785</td>\n",
       "</tr>\n",
       "<tr>\n",
       "  <th>count_msm_lag_rt</th> <td>    0.2633</td> <td>    0.069</td> <td>    3.805</td> <td> 0.000</td> <td>    0.127</td> <td>    0.400</td>\n",
       "</tr>\n",
       "<tr>\n",
       "  <th>count_msm_lag_tw</th> <td>    0.0807</td> <td>    0.057</td> <td>    1.420</td> <td> 0.157</td> <td>   -0.031</td> <td>    0.193</td>\n",
       "</tr>\n",
       "<tr>\n",
       "  <th>treat_rt</th>         <td>    0.0134</td> <td>    0.074</td> <td>    0.182</td> <td> 0.855</td> <td>   -0.132</td> <td>    0.159</td>\n",
       "</tr>\n",
       "<tr>\n",
       "  <th>dist_to_treat_rt</th> <td>    0.0010</td> <td>    0.001</td> <td>    1.817</td> <td> 0.071</td> <td>-8.13e-05</td> <td>    0.002</td>\n",
       "</tr>\n",
       "</table>\n",
       "<table class=\"simpletable\">\n",
       "<tr>\n",
       "  <th>Omnibus:</th>       <td> 0.020</td> <th>  Durbin-Watson:     </th> <td>   1.862</td>\n",
       "</tr>\n",
       "<tr>\n",
       "  <th>Prob(Omnibus):</th> <td> 0.990</td> <th>  Jarque-Bera (JB):  </th> <td>   0.049</td>\n",
       "</tr>\n",
       "<tr>\n",
       "  <th>Skew:</th>          <td>-0.021</td> <th>  Prob(JB):          </th> <td>   0.976</td>\n",
       "</tr>\n",
       "<tr>\n",
       "  <th>Kurtosis:</th>      <td> 2.945</td> <th>  Cond. No.          </th> <td>    742.</td>\n",
       "</tr>\n",
       "</table><br/><br/>Warnings:<br/>[1] Standard Errors assume that the covariance matrix of the errors is correctly specified."
      ],
      "text/plain": [
       "<class 'statsmodels.iolib.summary.Summary'>\n",
       "\"\"\"\n",
       "                                 OLS Regression Results                                \n",
       "=======================================================================================\n",
       "Dep. Variable:           count_msm_rt   R-squared (uncentered):                   0.998\n",
       "Model:                            OLS   Adj. R-squared (uncentered):              0.998\n",
       "Method:                 Least Squares   F-statistic:                          2.186e+04\n",
       "Date:                Fri, 13 Nov 2020   Prob (F-statistic):                   7.36e-321\n",
       "Time:                        18:02:32   Log-Likelihood:                          38.716\n",
       "No. Observations:                 242   AIC:                                     -65.43\n",
       "Df Residuals:                     236   BIC:                                     -44.50\n",
       "Df Model:                           6                                                  \n",
       "Covariance Type:            nonrobust                                                  \n",
       "====================================================================================\n",
       "                       coef    std err          t      P>|t|      [0.025      0.975]\n",
       "------------------------------------------------------------------------------------\n",
       "count_yt_tw         -0.2264      0.124     -1.821      0.070      -0.471       0.019\n",
       "count_yt_rt          0.5384      0.125      4.303      0.000       0.292       0.785\n",
       "count_msm_lag_rt     0.2633      0.069      3.805      0.000       0.127       0.400\n",
       "count_msm_lag_tw     0.0807      0.057      1.420      0.157      -0.031       0.193\n",
       "treat_rt             0.0134      0.074      0.182      0.855      -0.132       0.159\n",
       "dist_to_treat_rt     0.0010      0.001      1.817      0.071   -8.13e-05       0.002\n",
       "==============================================================================\n",
       "Omnibus:                        0.020   Durbin-Watson:                   1.862\n",
       "Prob(Omnibus):                  0.990   Jarque-Bera (JB):                0.049\n",
       "Skew:                          -0.021   Prob(JB):                        0.976\n",
       "Kurtosis:                       2.945   Cond. No.                         742.\n",
       "==============================================================================\n",
       "\n",
       "Warnings:\n",
       "[1] Standard Errors assume that the covariance matrix of the errors is correctly specified.\n",
       "\"\"\""
      ]
     },
     "execution_count": 91,
     "metadata": {},
     "output_type": "execute_result"
    }
   ],
   "source": [
    "exog = merged_daily_df[[\n",
    "    \"count_yt_tw\",\n",
    "    \"count_yt_rt\",\n",
    "    \"count_msm_lag_rt\",\n",
    "    \"count_msm_lag_tw\",\n",
    "    \"treat_rt\",\n",
    "    \"dist_to_treat_rt\"\n",
    "]].copy()\n",
    "\n",
    "exog[\"count_yt_tw\"] = np.log(exog[\"count_yt_tw\"] + 1)\n",
    "exog[\"count_yt_rt\"] = np.log(exog[\"count_yt_rt\"] + 1)\n",
    "exog[\"count_msm_lag_rt\"] = np.log(exog[\"count_msm_lag_rt\"] + 1)\n",
    "exog[\"count_msm_lag_tw\"] = np.log(exog[\"count_msm_lag_tw\"] + 1)\n",
    "\n",
    "mod = sm.OLS(np.log(merged_daily_df[[\"count_msm_rt\"]] + 1), exog)\n",
    "res = mod.fit()\n",
    "\n",
    "res.summary()"
   ]
  },
  {
   "cell_type": "code",
   "execution_count": 92,
   "metadata": {},
   "outputs": [
    {
     "data": {
      "text/html": [
       "<table class=\"simpletable\">\n",
       "<caption>OLS Regression Results</caption>\n",
       "<tr>\n",
       "  <th>Dep. Variable:</th>     <td>count_cchan_tw</td>  <th>  R-squared (uncentered):</th>      <td>   0.998</td> \n",
       "</tr>\n",
       "<tr>\n",
       "  <th>Model:</th>                   <td>OLS</td>       <th>  Adj. R-squared (uncentered):</th> <td>   0.998</td> \n",
       "</tr>\n",
       "<tr>\n",
       "  <th>Method:</th>             <td>Least Squares</td>  <th>  F-statistic:       </th>          <td>1.669e+04</td>\n",
       "</tr>\n",
       "<tr>\n",
       "  <th>Date:</th>             <td>Fri, 13 Nov 2020</td> <th>  Prob (F-statistic):</th>          <td>4.59e-307</td>\n",
       "</tr>\n",
       "<tr>\n",
       "  <th>Time:</th>                 <td>18:02:32</td>     <th>  Log-Likelihood:    </th>          <td>  51.637</td> \n",
       "</tr>\n",
       "<tr>\n",
       "  <th>No. Observations:</th>      <td>   242</td>      <th>  AIC:               </th>          <td>  -91.27</td> \n",
       "</tr>\n",
       "<tr>\n",
       "  <th>Df Residuals:</th>          <td>   236</td>      <th>  BIC:               </th>          <td>  -70.34</td> \n",
       "</tr>\n",
       "<tr>\n",
       "  <th>Df Model:</th>              <td>     6</td>      <th>                     </th>              <td> </td>    \n",
       "</tr>\n",
       "<tr>\n",
       "  <th>Covariance Type:</th>      <td>nonrobust</td>    <th>                     </th>              <td> </td>    \n",
       "</tr>\n",
       "</table>\n",
       "<table class=\"simpletable\">\n",
       "<tr>\n",
       "           <td></td>             <th>coef</th>     <th>std err</th>      <th>t</th>      <th>P>|t|</th>  <th>[0.025</th>    <th>0.975]</th>  \n",
       "</tr>\n",
       "<tr>\n",
       "  <th>count_yt_tw</th>        <td>    0.0245</td> <td>    0.114</td> <td>    0.215</td> <td> 0.830</td> <td>   -0.200</td> <td>    0.249</td>\n",
       "</tr>\n",
       "<tr>\n",
       "  <th>count_yt_rt</th>        <td>    0.2857</td> <td>    0.119</td> <td>    2.407</td> <td> 0.017</td> <td>    0.052</td> <td>    0.519</td>\n",
       "</tr>\n",
       "<tr>\n",
       "  <th>count_cchan_lag_rt</th> <td>    0.0114</td> <td>    0.054</td> <td>    0.210</td> <td> 0.834</td> <td>   -0.096</td> <td>    0.119</td>\n",
       "</tr>\n",
       "<tr>\n",
       "  <th>count_cchan_lag_tw</th> <td>    0.2181</td> <td>    0.066</td> <td>    3.328</td> <td> 0.001</td> <td>    0.089</td> <td>    0.347</td>\n",
       "</tr>\n",
       "<tr>\n",
       "  <th>treat_rt</th>           <td>   -0.0938</td> <td>    0.070</td> <td>   -1.344</td> <td> 0.180</td> <td>   -0.231</td> <td>    0.044</td>\n",
       "</tr>\n",
       "<tr>\n",
       "  <th>dist_to_treat_rt</th>   <td>   -0.0003</td> <td>    0.000</td> <td>   -0.598</td> <td> 0.550</td> <td>   -0.001</td> <td>    0.001</td>\n",
       "</tr>\n",
       "</table>\n",
       "<table class=\"simpletable\">\n",
       "<tr>\n",
       "  <th>Omnibus:</th>       <td> 2.719</td> <th>  Durbin-Watson:     </th> <td>   1.943</td>\n",
       "</tr>\n",
       "<tr>\n",
       "  <th>Prob(Omnibus):</th> <td> 0.257</td> <th>  Jarque-Bera (JB):  </th> <td>   2.381</td>\n",
       "</tr>\n",
       "<tr>\n",
       "  <th>Skew:</th>          <td>-0.226</td> <th>  Prob(JB):          </th> <td>   0.304</td>\n",
       "</tr>\n",
       "<tr>\n",
       "  <th>Kurtosis:</th>      <td> 3.181</td> <th>  Cond. No.          </th> <td>    730.</td>\n",
       "</tr>\n",
       "</table><br/><br/>Warnings:<br/>[1] Standard Errors assume that the covariance matrix of the errors is correctly specified."
      ],
      "text/plain": [
       "<class 'statsmodels.iolib.summary.Summary'>\n",
       "\"\"\"\n",
       "                                 OLS Regression Results                                \n",
       "=======================================================================================\n",
       "Dep. Variable:         count_cchan_tw   R-squared (uncentered):                   0.998\n",
       "Model:                            OLS   Adj. R-squared (uncentered):              0.998\n",
       "Method:                 Least Squares   F-statistic:                          1.669e+04\n",
       "Date:                Fri, 13 Nov 2020   Prob (F-statistic):                   4.59e-307\n",
       "Time:                        18:02:32   Log-Likelihood:                          51.637\n",
       "No. Observations:                 242   AIC:                                     -91.27\n",
       "Df Residuals:                     236   BIC:                                     -70.34\n",
       "Df Model:                           6                                                  \n",
       "Covariance Type:            nonrobust                                                  \n",
       "======================================================================================\n",
       "                         coef    std err          t      P>|t|      [0.025      0.975]\n",
       "--------------------------------------------------------------------------------------\n",
       "count_yt_tw            0.0245      0.114      0.215      0.830      -0.200       0.249\n",
       "count_yt_rt            0.2857      0.119      2.407      0.017       0.052       0.519\n",
       "count_cchan_lag_rt     0.0114      0.054      0.210      0.834      -0.096       0.119\n",
       "count_cchan_lag_tw     0.2181      0.066      3.328      0.001       0.089       0.347\n",
       "treat_rt              -0.0938      0.070     -1.344      0.180      -0.231       0.044\n",
       "dist_to_treat_rt      -0.0003      0.000     -0.598      0.550      -0.001       0.001\n",
       "==============================================================================\n",
       "Omnibus:                        2.719   Durbin-Watson:                   1.943\n",
       "Prob(Omnibus):                  0.257   Jarque-Bera (JB):                2.381\n",
       "Skew:                          -0.226   Prob(JB):                        0.304\n",
       "Kurtosis:                       3.181   Cond. No.                         730.\n",
       "==============================================================================\n",
       "\n",
       "Warnings:\n",
       "[1] Standard Errors assume that the covariance matrix of the errors is correctly specified.\n",
       "\"\"\""
      ]
     },
     "execution_count": 92,
     "metadata": {},
     "output_type": "execute_result"
    }
   ],
   "source": [
    "exog = merged_daily_df[[\n",
    "    \"count_yt_tw\",\n",
    "    \"count_yt_rt\",\n",
    "    \"count_cchan_lag_rt\",\n",
    "    \"count_cchan_lag_tw\",\n",
    "    \"treat_rt\",\n",
    "    \"dist_to_treat_rt\"\n",
    "]].copy()\n",
    "\n",
    "exog[\"count_yt_tw\"] = np.log(exog[\"count_yt_tw\"] + 1)\n",
    "exog[\"count_yt_rt\"] = np.log(exog[\"count_yt_rt\"] + 1)\n",
    "exog[\"count_cchan_lag_rt\"] = np.log(exog[\"count_cchan_lag_rt\"] + 1)\n",
    "exog[\"count_cchan_lag_tw\"] = np.log(exog[\"count_cchan_lag_tw\"] + 1)\n",
    "\n",
    "mod = sm.OLS(np.log(merged_daily_df[[\"count_cchan_tw\"]] + 1), exog)\n",
    "res = mod.fit()\n",
    "\n",
    "res.summary()"
   ]
  },
  {
   "cell_type": "code",
   "execution_count": 93,
   "metadata": {},
   "outputs": [
    {
     "data": {
      "text/html": [
       "<table class=\"simpletable\">\n",
       "<caption>OLS Regression Results</caption>\n",
       "<tr>\n",
       "  <th>Dep. Variable:</th>     <td>count_cchan_rt</td>  <th>  R-squared (uncentered):</th>      <td>   0.997</td> \n",
       "</tr>\n",
       "<tr>\n",
       "  <th>Model:</th>                   <td>OLS</td>       <th>  Adj. R-squared (uncentered):</th> <td>   0.997</td> \n",
       "</tr>\n",
       "<tr>\n",
       "  <th>Method:</th>             <td>Least Squares</td>  <th>  F-statistic:       </th>          <td>1.176e+04</td>\n",
       "</tr>\n",
       "<tr>\n",
       "  <th>Date:</th>             <td>Fri, 13 Nov 2020</td> <th>  Prob (F-statistic):</th>          <td>3.69e-289</td>\n",
       "</tr>\n",
       "<tr>\n",
       "  <th>Time:</th>                 <td>18:02:32</td>     <th>  Log-Likelihood:    </th>          <td>  13.021</td> \n",
       "</tr>\n",
       "<tr>\n",
       "  <th>No. Observations:</th>      <td>   242</td>      <th>  AIC:               </th>          <td>  -14.04</td> \n",
       "</tr>\n",
       "<tr>\n",
       "  <th>Df Residuals:</th>          <td>   236</td>      <th>  BIC:               </th>          <td>   6.893</td> \n",
       "</tr>\n",
       "<tr>\n",
       "  <th>Df Model:</th>              <td>     6</td>      <th>                     </th>              <td> </td>    \n",
       "</tr>\n",
       "<tr>\n",
       "  <th>Covariance Type:</th>      <td>nonrobust</td>    <th>                     </th>              <td> </td>    \n",
       "</tr>\n",
       "</table>\n",
       "<table class=\"simpletable\">\n",
       "<tr>\n",
       "           <td></td>             <th>coef</th>     <th>std err</th>      <th>t</th>      <th>P>|t|</th>  <th>[0.025</th>    <th>0.975]</th>  \n",
       "</tr>\n",
       "<tr>\n",
       "  <th>count_yt_tw</th>        <td>   -0.3813</td> <td>    0.134</td> <td>   -2.850</td> <td> 0.005</td> <td>   -0.645</td> <td>   -0.118</td>\n",
       "</tr>\n",
       "<tr>\n",
       "  <th>count_yt_rt</th>        <td>    0.6783</td> <td>    0.139</td> <td>    4.873</td> <td> 0.000</td> <td>    0.404</td> <td>    0.952</td>\n",
       "</tr>\n",
       "<tr>\n",
       "  <th>count_cchan_lag_rt</th> <td>    0.1420</td> <td>    0.064</td> <td>    2.224</td> <td> 0.027</td> <td>    0.016</td> <td>    0.268</td>\n",
       "</tr>\n",
       "<tr>\n",
       "  <th>count_cchan_lag_tw</th> <td>    0.0883</td> <td>    0.077</td> <td>    1.149</td> <td> 0.252</td> <td>   -0.063</td> <td>    0.240</td>\n",
       "</tr>\n",
       "<tr>\n",
       "  <th>treat_rt</th>           <td>   -0.0069</td> <td>    0.082</td> <td>   -0.084</td> <td> 0.933</td> <td>   -0.168</td> <td>    0.154</td>\n",
       "</tr>\n",
       "<tr>\n",
       "  <th>dist_to_treat_rt</th>   <td>   -0.0008</td> <td>    0.001</td> <td>   -1.454</td> <td> 0.147</td> <td>   -0.002</td> <td>    0.000</td>\n",
       "</tr>\n",
       "</table>\n",
       "<table class=\"simpletable\">\n",
       "<tr>\n",
       "  <th>Omnibus:</th>       <td> 4.527</td> <th>  Durbin-Watson:     </th> <td>   1.988</td>\n",
       "</tr>\n",
       "<tr>\n",
       "  <th>Prob(Omnibus):</th> <td> 0.104</td> <th>  Jarque-Bera (JB):  </th> <td>   5.048</td>\n",
       "</tr>\n",
       "<tr>\n",
       "  <th>Skew:</th>          <td>-0.164</td> <th>  Prob(JB):          </th> <td>  0.0802</td>\n",
       "</tr>\n",
       "<tr>\n",
       "  <th>Kurtosis:</th>      <td> 3.627</td> <th>  Cond. No.          </th> <td>    730.</td>\n",
       "</tr>\n",
       "</table><br/><br/>Warnings:<br/>[1] Standard Errors assume that the covariance matrix of the errors is correctly specified."
      ],
      "text/plain": [
       "<class 'statsmodels.iolib.summary.Summary'>\n",
       "\"\"\"\n",
       "                                 OLS Regression Results                                \n",
       "=======================================================================================\n",
       "Dep. Variable:         count_cchan_rt   R-squared (uncentered):                   0.997\n",
       "Model:                            OLS   Adj. R-squared (uncentered):              0.997\n",
       "Method:                 Least Squares   F-statistic:                          1.176e+04\n",
       "Date:                Fri, 13 Nov 2020   Prob (F-statistic):                   3.69e-289\n",
       "Time:                        18:02:32   Log-Likelihood:                          13.021\n",
       "No. Observations:                 242   AIC:                                     -14.04\n",
       "Df Residuals:                     236   BIC:                                      6.893\n",
       "Df Model:                           6                                                  \n",
       "Covariance Type:            nonrobust                                                  \n",
       "======================================================================================\n",
       "                         coef    std err          t      P>|t|      [0.025      0.975]\n",
       "--------------------------------------------------------------------------------------\n",
       "count_yt_tw           -0.3813      0.134     -2.850      0.005      -0.645      -0.118\n",
       "count_yt_rt            0.6783      0.139      4.873      0.000       0.404       0.952\n",
       "count_cchan_lag_rt     0.1420      0.064      2.224      0.027       0.016       0.268\n",
       "count_cchan_lag_tw     0.0883      0.077      1.149      0.252      -0.063       0.240\n",
       "treat_rt              -0.0069      0.082     -0.084      0.933      -0.168       0.154\n",
       "dist_to_treat_rt      -0.0008      0.001     -1.454      0.147      -0.002       0.000\n",
       "==============================================================================\n",
       "Omnibus:                        4.527   Durbin-Watson:                   1.988\n",
       "Prob(Omnibus):                  0.104   Jarque-Bera (JB):                5.048\n",
       "Skew:                          -0.164   Prob(JB):                       0.0802\n",
       "Kurtosis:                       3.627   Cond. No.                         730.\n",
       "==============================================================================\n",
       "\n",
       "Warnings:\n",
       "[1] Standard Errors assume that the covariance matrix of the errors is correctly specified.\n",
       "\"\"\""
      ]
     },
     "execution_count": 93,
     "metadata": {},
     "output_type": "execute_result"
    }
   ],
   "source": [
    "exog = merged_daily_df[[\n",
    "    \"count_yt_tw\",\n",
    "    \"count_yt_rt\",\n",
    "    \"count_cchan_lag_rt\",\n",
    "    \"count_cchan_lag_tw\",\n",
    "    \"treat_rt\",\n",
    "    \"dist_to_treat_rt\"\n",
    "]].copy()\n",
    "\n",
    "exog[\"count_yt_tw\"] = np.log(exog[\"count_yt_tw\"] + 1)\n",
    "exog[\"count_yt_rt\"] = np.log(exog[\"count_yt_rt\"] + 1)\n",
    "exog[\"count_cchan_lag_rt\"] = np.log(exog[\"count_cchan_lag_rt\"] + 1)\n",
    "exog[\"count_cchan_lag_tw\"] = np.log(exog[\"count_cchan_lag_tw\"] + 1)\n",
    "\n",
    "mod = sm.OLS(np.log(merged_daily_df[[\"count_cchan_rt\"]] + 1), exog)\n",
    "res = mod.fit()\n",
    "\n",
    "res.summary()"
   ]
  },
  {
   "cell_type": "code",
   "execution_count": null,
   "metadata": {},
   "outputs": [],
   "source": []
  },
  {
   "cell_type": "code",
   "execution_count": null,
   "metadata": {},
   "outputs": [],
   "source": []
  },
  {
   "cell_type": "markdown",
   "metadata": {},
   "source": [
    "## Compare Original Faddoul Dataset to Corrected\n",
    "\n",
    "The original Faddoul dataset included 28 videos that were authored by mainstream media channels, making them likely false-positives. Here, we compare the coefficients in the original data's interrupted time series models to those coefficients from the corrected model."
   ]
  },
  {
   "cell_type": "code",
   "execution_count": 95,
   "metadata": {},
   "outputs": [],
   "source": [
    "corrected_recs_youtube_daily_df_ = pd.read_csv(\n",
    "    \"./2021.timeseries/corrected_cons_recs_ts.csv\",\n",
    "    parse_dates=[0],\n",
    "    index_col=0,\n",
    ")\n",
    "\n",
    "corrected_recs_youtube_daily_df = corrected_recs_youtube_daily_df_.resample(\"D\").sum()"
   ]
  },
  {
   "cell_type": "code",
   "execution_count": 96,
   "metadata": {},
   "outputs": [],
   "source": [
    "corrected_recs_youtube_daily_df[\"treat\"] = [1 if (x - thresh_idx_yt) >= 0 else 0 for x in range(corrected_recs_youtube_daily_df.shape[0])]\n",
    "corrected_recs_youtube_daily_df[\"dist_to_treat_\"] = [(x - thresh_idx_yt) for x in range(corrected_recs_youtube_daily_df.shape[0])]\n",
    "corrected_recs_youtube_daily_df[\"dist_to_treat\"] = corrected_recs_youtube_daily_df[\"dist_to_treat_\"].apply(lambda x: max(0, x))\n"
   ]
  },
  {
   "cell_type": "code",
   "execution_count": 97,
   "metadata": {},
   "outputs": [],
   "source": [
    "corrected_recs_youtube_daily_df[\"cons_recs_lag\"] = corrected_recs_youtube_daily_df[\"cons_recs\"].shift()\n",
    "corrected_recs_youtube_daily_df = corrected_recs_youtube_daily_df.dropna()\n"
   ]
  },
  {
   "cell_type": "code",
   "execution_count": 98,
   "metadata": {
    "scrolled": true
   },
   "outputs": [
    {
     "data": {
      "text/html": [
       "<div>\n",
       "<style scoped>\n",
       "    .dataframe tbody tr th:only-of-type {\n",
       "        vertical-align: middle;\n",
       "    }\n",
       "\n",
       "    .dataframe tbody tr th {\n",
       "        vertical-align: top;\n",
       "    }\n",
       "\n",
       "    .dataframe thead th {\n",
       "        text-align: right;\n",
       "    }\n",
       "</style>\n",
       "<table border=\"1\" class=\"dataframe\">\n",
       "  <thead>\n",
       "    <tr style=\"text-align: right;\">\n",
       "      <th></th>\n",
       "      <th>all_recs</th>\n",
       "      <th>cons_recs</th>\n",
       "      <th>treat</th>\n",
       "      <th>dist_to_treat_</th>\n",
       "      <th>dist_to_treat</th>\n",
       "      <th>cons_recs_lag</th>\n",
       "    </tr>\n",
       "  </thead>\n",
       "  <tbody>\n",
       "    <tr>\n",
       "      <th>2018-10-07</th>\n",
       "      <td>18794.0</td>\n",
       "      <td>857.0</td>\n",
       "      <td>0</td>\n",
       "      <td>-110</td>\n",
       "      <td>0</td>\n",
       "      <td>715.0</td>\n",
       "    </tr>\n",
       "    <tr>\n",
       "      <th>2018-10-08</th>\n",
       "      <td>18607.0</td>\n",
       "      <td>830.0</td>\n",
       "      <td>0</td>\n",
       "      <td>-109</td>\n",
       "      <td>0</td>\n",
       "      <td>857.0</td>\n",
       "    </tr>\n",
       "    <tr>\n",
       "      <th>2018-10-09</th>\n",
       "      <td>18762.0</td>\n",
       "      <td>744.0</td>\n",
       "      <td>0</td>\n",
       "      <td>-108</td>\n",
       "      <td>0</td>\n",
       "      <td>830.0</td>\n",
       "    </tr>\n",
       "    <tr>\n",
       "      <th>2018-10-10</th>\n",
       "      <td>19018.0</td>\n",
       "      <td>835.0</td>\n",
       "      <td>0</td>\n",
       "      <td>-107</td>\n",
       "      <td>0</td>\n",
       "      <td>744.0</td>\n",
       "    </tr>\n",
       "    <tr>\n",
       "      <th>2018-10-11</th>\n",
       "      <td>18865.0</td>\n",
       "      <td>775.0</td>\n",
       "      <td>0</td>\n",
       "      <td>-106</td>\n",
       "      <td>0</td>\n",
       "      <td>835.0</td>\n",
       "    </tr>\n",
       "    <tr>\n",
       "      <th>...</th>\n",
       "      <td>...</td>\n",
       "      <td>...</td>\n",
       "      <td>...</td>\n",
       "      <td>...</td>\n",
       "      <td>...</td>\n",
       "      <td>...</td>\n",
       "    </tr>\n",
       "    <tr>\n",
       "      <th>2019-05-27</th>\n",
       "      <td>19275.0</td>\n",
       "      <td>528.0</td>\n",
       "      <td>1</td>\n",
       "      <td>122</td>\n",
       "      <td>122</td>\n",
       "      <td>528.0</td>\n",
       "    </tr>\n",
       "    <tr>\n",
       "      <th>2019-05-28</th>\n",
       "      <td>19472.0</td>\n",
       "      <td>528.0</td>\n",
       "      <td>1</td>\n",
       "      <td>123</td>\n",
       "      <td>123</td>\n",
       "      <td>528.0</td>\n",
       "    </tr>\n",
       "    <tr>\n",
       "      <th>2019-05-29</th>\n",
       "      <td>19500.0</td>\n",
       "      <td>528.0</td>\n",
       "      <td>1</td>\n",
       "      <td>124</td>\n",
       "      <td>124</td>\n",
       "      <td>528.0</td>\n",
       "    </tr>\n",
       "    <tr>\n",
       "      <th>2019-05-30</th>\n",
       "      <td>19397.0</td>\n",
       "      <td>528.0</td>\n",
       "      <td>1</td>\n",
       "      <td>125</td>\n",
       "      <td>125</td>\n",
       "      <td>528.0</td>\n",
       "    </tr>\n",
       "    <tr>\n",
       "      <th>2019-05-31</th>\n",
       "      <td>19273.0</td>\n",
       "      <td>528.0</td>\n",
       "      <td>1</td>\n",
       "      <td>126</td>\n",
       "      <td>126</td>\n",
       "      <td>528.0</td>\n",
       "    </tr>\n",
       "  </tbody>\n",
       "</table>\n",
       "<p>237 rows × 6 columns</p>\n",
       "</div>"
      ],
      "text/plain": [
       "            all_recs  cons_recs  treat  dist_to_treat_  dist_to_treat  \\\n",
       "2018-10-07   18794.0      857.0      0            -110              0   \n",
       "2018-10-08   18607.0      830.0      0            -109              0   \n",
       "2018-10-09   18762.0      744.0      0            -108              0   \n",
       "2018-10-10   19018.0      835.0      0            -107              0   \n",
       "2018-10-11   18865.0      775.0      0            -106              0   \n",
       "...              ...        ...    ...             ...            ...   \n",
       "2019-05-27   19275.0      528.0      1             122            122   \n",
       "2019-05-28   19472.0      528.0      1             123            123   \n",
       "2019-05-29   19500.0      528.0      1             124            124   \n",
       "2019-05-30   19397.0      528.0      1             125            125   \n",
       "2019-05-31   19273.0      528.0      1             126            126   \n",
       "\n",
       "            cons_recs_lag  \n",
       "2018-10-07          715.0  \n",
       "2018-10-08          857.0  \n",
       "2018-10-09          830.0  \n",
       "2018-10-10          744.0  \n",
       "2018-10-11          835.0  \n",
       "...                   ...  \n",
       "2019-05-27          528.0  \n",
       "2019-05-28          528.0  \n",
       "2019-05-29          528.0  \n",
       "2019-05-30          528.0  \n",
       "2019-05-31          528.0  \n",
       "\n",
       "[237 rows x 6 columns]"
      ]
     },
     "execution_count": 98,
     "metadata": {},
     "output_type": "execute_result"
    }
   ],
   "source": [
    "corrected_recs_youtube_daily_df"
   ]
  },
  {
   "cell_type": "code",
   "execution_count": null,
   "metadata": {},
   "outputs": [],
   "source": []
  },
  {
   "cell_type": "code",
   "execution_count": 99,
   "metadata": {},
   "outputs": [
    {
     "data": {
      "text/html": [
       "<table class=\"simpletable\">\n",
       "<caption>OLS Regression Results</caption>\n",
       "<tr>\n",
       "  <th>Dep. Variable:</th>        <td>cons_recs</td>    <th>  R-squared (uncentered):</th>      <td>   1.000</td> \n",
       "</tr>\n",
       "<tr>\n",
       "  <th>Model:</th>                   <td>OLS</td>       <th>  Adj. R-squared (uncentered):</th> <td>   1.000</td> \n",
       "</tr>\n",
       "<tr>\n",
       "  <th>Method:</th>             <td>Least Squares</td>  <th>  F-statistic:       </th>          <td>2.510e+05</td>\n",
       "</tr>\n",
       "<tr>\n",
       "  <th>Date:</th>             <td>Fri, 13 Nov 2020</td> <th>  Prob (F-statistic):</th>           <td>  0.00</td>  \n",
       "</tr>\n",
       "<tr>\n",
       "  <th>Time:</th>                 <td>18:03:54</td>     <th>  Log-Likelihood:    </th>          <td>  196.22</td> \n",
       "</tr>\n",
       "<tr>\n",
       "  <th>No. Observations:</th>      <td>   237</td>      <th>  AIC:               </th>          <td>  -384.4</td> \n",
       "</tr>\n",
       "<tr>\n",
       "  <th>Df Residuals:</th>          <td>   233</td>      <th>  BIC:               </th>          <td>  -370.6</td> \n",
       "</tr>\n",
       "<tr>\n",
       "  <th>Df Model:</th>              <td>     4</td>      <th>                     </th>              <td> </td>    \n",
       "</tr>\n",
       "<tr>\n",
       "  <th>Covariance Type:</th>      <td>nonrobust</td>    <th>                     </th>              <td> </td>    \n",
       "</tr>\n",
       "</table>\n",
       "<table class=\"simpletable\">\n",
       "<tr>\n",
       "        <td></td>           <th>coef</th>     <th>std err</th>      <th>t</th>      <th>P>|t|</th>  <th>[0.025</th>    <th>0.975]</th>  \n",
       "</tr>\n",
       "<tr>\n",
       "  <th>all_recs</th>      <td>    0.0748</td> <td>    0.020</td> <td>    3.792</td> <td> 0.000</td> <td>    0.036</td> <td>    0.114</td>\n",
       "</tr>\n",
       "<tr>\n",
       "  <th>cons_recs_lag</th> <td>    0.8966</td> <td>    0.027</td> <td>   32.665</td> <td> 0.000</td> <td>    0.843</td> <td>    0.951</td>\n",
       "</tr>\n",
       "<tr>\n",
       "  <th>treat</th>         <td>    0.0258</td> <td>    0.023</td> <td>    1.112</td> <td> 0.267</td> <td>   -0.020</td> <td>    0.072</td>\n",
       "</tr>\n",
       "<tr>\n",
       "  <th>dist_to_treat</th> <td>   -0.0009</td> <td>    0.000</td> <td>   -2.710</td> <td> 0.007</td> <td>   -0.002</td> <td>   -0.000</td>\n",
       "</tr>\n",
       "</table>\n",
       "<table class=\"simpletable\">\n",
       "<tr>\n",
       "  <th>Omnibus:</th>       <td>31.375</td> <th>  Durbin-Watson:     </th> <td>   2.507</td>\n",
       "</tr>\n",
       "<tr>\n",
       "  <th>Prob(Omnibus):</th> <td> 0.000</td> <th>  Jarque-Bera (JB):  </th> <td> 148.939</td>\n",
       "</tr>\n",
       "<tr>\n",
       "  <th>Skew:</th>          <td> 0.322</td> <th>  Prob(JB):          </th> <td>4.55e-33</td>\n",
       "</tr>\n",
       "<tr>\n",
       "  <th>Kurtosis:</th>      <td> 6.830</td> <th>  Cond. No.          </th> <td>    277.</td>\n",
       "</tr>\n",
       "</table><br/><br/>Warnings:<br/>[1] Standard Errors assume that the covariance matrix of the errors is correctly specified."
      ],
      "text/plain": [
       "<class 'statsmodels.iolib.summary.Summary'>\n",
       "\"\"\"\n",
       "                                 OLS Regression Results                                \n",
       "=======================================================================================\n",
       "Dep. Variable:              cons_recs   R-squared (uncentered):                   1.000\n",
       "Model:                            OLS   Adj. R-squared (uncentered):              1.000\n",
       "Method:                 Least Squares   F-statistic:                          2.510e+05\n",
       "Date:                Fri, 13 Nov 2020   Prob (F-statistic):                        0.00\n",
       "Time:                        18:03:54   Log-Likelihood:                          196.22\n",
       "No. Observations:                 237   AIC:                                     -384.4\n",
       "Df Residuals:                     233   BIC:                                     -370.6\n",
       "Df Model:                           4                                                  \n",
       "Covariance Type:            nonrobust                                                  \n",
       "=================================================================================\n",
       "                    coef    std err          t      P>|t|      [0.025      0.975]\n",
       "---------------------------------------------------------------------------------\n",
       "all_recs          0.0748      0.020      3.792      0.000       0.036       0.114\n",
       "cons_recs_lag     0.8966      0.027     32.665      0.000       0.843       0.951\n",
       "treat             0.0258      0.023      1.112      0.267      -0.020       0.072\n",
       "dist_to_treat    -0.0009      0.000     -2.710      0.007      -0.002      -0.000\n",
       "==============================================================================\n",
       "Omnibus:                       31.375   Durbin-Watson:                   2.507\n",
       "Prob(Omnibus):                  0.000   Jarque-Bera (JB):              148.939\n",
       "Skew:                           0.322   Prob(JB):                     4.55e-33\n",
       "Kurtosis:                       6.830   Cond. No.                         277.\n",
       "==============================================================================\n",
       "\n",
       "Warnings:\n",
       "[1] Standard Errors assume that the covariance matrix of the errors is correctly specified.\n",
       "\"\"\""
      ]
     },
     "execution_count": 99,
     "metadata": {},
     "output_type": "execute_result"
    }
   ],
   "source": [
    "exog = corrected_recs_youtube_daily_df[[\n",
    "    \"all_recs\",\n",
    "    \"cons_recs_lag\",\n",
    "    \"treat\",\n",
    "    \"dist_to_treat\"\n",
    "]].copy()\n",
    "\n",
    "exog[\"cons_recs_lag\"] = np.log(exog[\"cons_recs_lag\"] + 1)\n",
    "exog[\"all_recs\"] = np.log(exog[\"all_recs\"] + 1)\n",
    "\n",
    "mod = sm.OLS(np.log(corrected_recs_youtube_daily_df[[\"cons_recs\"]] + 1), exog)\n",
    "res = mod.fit()\n",
    "\n",
    "res.summary()"
   ]
  },
  {
   "cell_type": "code",
   "execution_count": 100,
   "metadata": {},
   "outputs": [
    {
     "data": {
      "text/plain": [
       "all_recs         1.902487e-04\n",
       "cons_recs_lag    6.051818e-89\n",
       "treat            2.674019e-01\n",
       "dist_to_treat    7.237504e-03\n",
       "dtype: float64"
      ]
     },
     "execution_count": 100,
     "metadata": {},
     "output_type": "execute_result"
    }
   ],
   "source": [
    "res.pvalues"
   ]
  },
  {
   "cell_type": "code",
   "execution_count": 101,
   "metadata": {},
   "outputs": [
    {
     "data": {
      "text/plain": [
       "all_recs         0.074823\n",
       "cons_recs_lag    0.896606\n",
       "treat            0.025845\n",
       "dist_to_treat   -0.000937\n",
       "dtype: float64"
      ]
     },
     "execution_count": 101,
     "metadata": {},
     "output_type": "execute_result"
    }
   ],
   "source": [
    "res.params"
   ]
  },
  {
   "cell_type": "code",
   "execution_count": null,
   "metadata": {},
   "outputs": [],
   "source": []
  }
 ],
 "metadata": {
  "kernelspec": {
   "display_name": "Python 3",
   "language": "python",
   "name": "python3"
  },
  "language_info": {
   "codemirror_mode": {
    "name": "ipython",
    "version": 3
   },
   "file_extension": ".py",
   "mimetype": "text/x-python",
   "name": "python",
   "nbconvert_exporter": "python",
   "pygments_lexer": "ipython3",
   "version": "3.7.0"
  }
 },
 "nbformat": 4,
 "nbformat_minor": 2
}
